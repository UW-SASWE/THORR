{
 "cells": [
  {
   "cell_type": "code",
   "execution_count": null,
   "metadata": {},
   "outputs": [],
   "source": [
    "import pandas as pd\n",
    "import geopandas as gpd\n",
    "import numpy as np\n",
    "from pathlib import Path\n",
    "import matplotlib.pyplot as plt\n",
    "import json\n",
    "import sys\n",
    "\n",
    "from sklearn.ensemble import RandomForestRegressor\n",
    "from sklearn.metrics import root_mean_squared_error, mean_squared_error, r2_score\n",
    "\n",
    "from sklearn.model_selection import (\n",
    "    KFold,\n",
    "    ShuffleSplit,\n",
    "    RepeatedKFold,\n",
    "    train_test_split,\n",
    "    ParameterGrid,\n",
    ")\n",
    "from sklearn.preprocessing import StandardScaler, MinMaxScaler\n",
    "from sklearn.linear_model import ElasticNetCV, ElasticNet\n",
    "\n",
    "\n",
    "\n",
    "from permetrics.regression import RegressionMetric"
   ]
  },
  {
   "cell_type": "code",
   "execution_count": null,
   "metadata": {},
   "outputs": [],
   "source": [
    "proj_dir = Path('../../..')\n",
    "seed = 1993\n",
    "\n",
    "# specify the project directory and file paths\n",
    "geopackage_fn = (\n",
    "    proj_dir / \"data/gis/geopackages/columbia_river_basin.gpkg\"\n",
    ")  "
   ]
  },
  {
   "cell_type": "code",
   "execution_count": null,
   "metadata": {},
   "outputs": [],
   "source": [
    "ml_input_data = pd.read_csv(proj_dir / 'methods/04-ml_development/input_data/ml_input_data.csv')\n",
    "# ann1_test_set = pd.read_csv('ANN1_test_set.csv').rename(columns={'block2_pred': 'ann1_y_pred'})\n",
    "# lr1_test_set = pd.read_csv('LR1_test_set.csv').rename(columns={'y_pred': 'lr1_y_pred'})\n",
    "rfr1_test_set = pd.read_csv('RFR1_test_set.csv').rename(columns={'y_pred': 'rfr1_y_pred'})\n",
    "rfr2_test_set = pd.read_csv('RFR2_test_set.csv').rename(columns={'y_pred': 'rfr2_y_pred'})"
   ]
  },
  {
   "cell_type": "code",
   "execution_count": null,
   "metadata": {},
   "outputs": [],
   "source": [
    "# test_set = ml_input_data.merge(rfr1_test_set[['Date', 'avg_temp(C)', 'Name', 'rfr1_y_pred']], on=['Date', 'avg_temp(C)', 'Name', ], how='outer')\n",
    "test_set = rfr1_test_set.merge(rfr2_test_set[['Date', 'avg_temp(C)', 'Name', 'rfr2_y_pred']], on=['Date', 'avg_temp(C)', 'Name', ], how='outer')\n",
    "\n",
    "lsat_v_insitu = test_set.dropna(subset=['avg_temp(C)', 'WaterTempC'])"
   ]
  },
  {
   "cell_type": "code",
   "execution_count": null,
   "metadata": {},
   "outputs": [],
   "source": [
    "lsat_evaluator = RegressionMetric(lsat_v_insitu['avg_temp(C)'].to_list(), lsat_v_insitu['WaterTempC'].to_list())\n",
    "rfr1_evaluator = RegressionMetric(rfr1_test_set['avg_temp(C)'].to_list(), rfr1_test_set['rfr1_y_pred'].to_list())\n",
    "rfr2_evaluator = RegressionMetric(rfr2_test_set['avg_temp(C)'].to_list(), rfr2_test_set['rfr2_y_pred'].to_list())"
   ]
  },
  {
   "cell_type": "code",
   "execution_count": null,
   "metadata": {},
   "outputs": [],
   "source": [
    "list_metrics = ['MAE', 'MSE', 'RMSE', 'R2', 'NSE', 'KGE']\n",
    "\n",
    "lsat_metrics = lsat_evaluator.get_metrics_by_list_names(list_metrics)\n",
    "rfr1_metrics = rfr1_evaluator.get_metrics_by_list_names(list_metrics)\n",
    "rfr2_metrics = rfr2_evaluator.get_metrics_by_list_names(list_metrics)"
   ]
  },
  {
   "cell_type": "code",
   "execution_count": null,
   "metadata": {},
   "outputs": [],
   "source": [
    "test_set.columns"
   ]
  },
  {
   "cell_type": "code",
   "execution_count": null,
   "metadata": {},
   "outputs": [],
   "source": [
    "# scatter plot of the test results\n",
    "fig, ([ax0, ax1, ax2], [ax4, ax5, ax6]) = plt.subplots(2, 3, figsize=(16, 8))\n",
    "test_set.plot.scatter(x=\"avg_temp(C)\", y=\"WaterTempC\", ax=ax0, s=0.75)\n",
    "test_set.plot.scatter(x=\"avg_temp(C)\", y=\"rfr1_y_pred\", ax=ax1, s=0.75)\n",
    "test_set.plot.scatter(x=\"avg_temp(C)\", y=\"rfr2_y_pred\", ax=ax2, s=0.75)\n",
    "\n",
    "ax0.plot([0, 30], [0, 30], color=\"k\", linestyle=\"--\")\n",
    "ax1.plot([0, 30], [0, 30], color=\"k\", linestyle=\"--\")\n",
    "ax2.plot([0, 30], [0, 30], color=\"k\", linestyle=\"--\")\n",
    "\n",
    "ax0.set_xlabel(\"In-situ Water Temperature (C)\")\n",
    "ax1.set_xlabel(\"In-situ Water Temperature (C)\")\n",
    "ax2.set_xlabel(\"In-situ Water Temperature (C)\")\n",
    "\n",
    "\n",
    "ax0.set_ylabel(\"Landsat Water Temperature (C)\")\n",
    "ax1.set_ylabel(\"Estimated Water Temperature (C)\")\n",
    "ax2.set_ylabel(\"Estimated Water Temperature (C)\")\n",
    "\n",
    "ax0.set_title(\"Landsat\\n(a)\")\n",
    "ax1.set_title(\"Random Forest Regression (Variation 1)\\n(b)\")\n",
    "ax2.set_title(\"Random Forest Regression (Variation 2)\\n(c)\")\n",
    "\n",
    "\n",
    "ax0.annotate(\n",
    "    f'MAE: {lsat_metrics[\"MAE\"]:.2f}', xy=(0.05, 0.9), xycoords=\"axes fraction\"\n",
    ")\n",
    "ax0.annotate(\n",
    "    f'RMSE: {lsat_metrics[\"RMSE\"]:.2f}', xy=(0.05, 0.85), xycoords=\"axes fraction\"\n",
    ")\n",
    "ax0.annotate(\n",
    "    f'NSE: {lsat_metrics[\"NSE\"]:.2f}', xy=(0.05, 0.8), xycoords=\"axes fraction\"\n",
    ")\n",
    "ax0.annotate(\n",
    "    f'KGE: {lsat_metrics[\"KGE\"]:.2f}', xy=(0.05, 0.75), xycoords=\"axes fraction\"\n",
    ")\n",
    "# ax0.annotate(\n",
    "#     f'R2: {lsat_metrics[\"R2\"]:.2f}', xy=(0.05, 0.7), xycoords=\"axes fraction\"\n",
    "# )\n",
    "# ax0.annotate(\n",
    "#     f'MSE: {lsat_metrics[\"MSE\"]:.2f}', xy=(0.05, 0.65), xycoords=\"axes fraction\"\n",
    "# )\n",
    "\n",
    "ax1.annotate(\n",
    "    f'MAE: {rfr1_metrics[\"MAE\"]:.2f}', xy=(0.05, 0.9), xycoords=\"axes fraction\"\n",
    ")\n",
    "ax1.annotate(\n",
    "    f'RMSE: {rfr1_metrics[\"RMSE\"]:.2f}', xy=(0.05, 0.85), xycoords=\"axes fraction\"\n",
    ")\n",
    "ax1.annotate(\n",
    "    f'NSE: {rfr1_metrics[\"NSE\"]:.2f}', xy=(0.05, 0.8), xycoords=\"axes fraction\"\n",
    ")\n",
    "ax1.annotate(\n",
    "    f'KGE: {rfr1_metrics[\"KGE\"]:.2f}', xy=(0.05, 0.75), xycoords=\"axes fraction\"\n",
    ")\n",
    "# ax1.annotate(\n",
    "#     f'R2: {lr1_metrics[\"R2\"]:.2f}', xy=(0.05, 0.7), xycoords=\"axes fraction\"\n",
    "# )\n",
    "# ax1.annotate(\n",
    "#     f'MSE: {lr1_metrics[\"MSE\"]:.2f}', xy=(0.05, 0.65), xycoords=\"axes fraction\"\n",
    "# )\n",
    "\n",
    "ax2.annotate(\n",
    "    f'MAE: {rfr2_metrics[\"MAE\"]:.2f}', xy=(0.05, 0.9), xycoords=\"axes fraction\"\n",
    ")\n",
    "ax2.annotate(\n",
    "    f'RMSE: {rfr2_metrics[\"RMSE\"]:.2f}', xy=(0.05, 0.85), xycoords=\"axes fraction\"\n",
    ")\n",
    "ax2.annotate(\n",
    "    f'NSE: {rfr2_metrics[\"NSE\"]:.2f}', xy=(0.05, 0.8), xycoords=\"axes fraction\"\n",
    ")\n",
    "ax2.annotate(\n",
    "    f'KGE: {rfr2_metrics[\"KGE\"]:.2f}', xy=(0.05, 0.75), xycoords=\"axes fraction\"\n",
    ")\n",
    "# ax2.annotate(\n",
    "#     f'R2: {rfr1_metrics[\"R2\"]:.2f}', xy=(0.05, 0.7), xycoords=\"axes fraction\"\n",
    "# )\n",
    "# ax2.annotate(\n",
    "#     f'MSE: {rfr1_metrics[\"MSE\"]:.2f}', xy=(0.05, 0.65), xycoords=\"axes fraction\"\n",
    "# )\n",
    "\n",
    "# ax3.annotate(\n",
    "#     f'MAE: {ann1_metrics[\"MAE\"]:.2f}', xy=(0.05, 0.9), xycoords=\"axes fraction\"\n",
    "# )\n",
    "# ax3.annotate(\n",
    "#     f'RMSE: {ann1_metrics[\"RMSE\"]:.2f}', xy=(0.05, 0.85), xycoords=\"axes fraction\"\n",
    "# )\n",
    "# ax3.annotate(\n",
    "#     f'NSE: {ann1_metrics[\"NSE\"]:.2f}', xy=(0.05, 0.8), xycoords=\"axes fraction\"\n",
    "# )\n",
    "# ax3.annotate(\n",
    "#     f'KGE: {ann1_metrics[\"KGE\"]:.2f}', xy=(0.05, 0.75), xycoords=\"axes fraction\"\n",
    "# )\n",
    "# # ax3.annotate(\n",
    "# #     f'R2: {ann1_metrics[\"R2\"]:.2f}', xy=(0.05, 0.7), xycoords=\"axes fraction\"\n",
    "# # )\n",
    "# # ax3.annotate(\n",
    "# #     f'MSE: {ann1_metrics[\"MSE\"]:.2f}', xy=(0.05, 0.65), xycoords=\"axes fraction\"\n",
    "# # )\n",
    "\n",
    "# # histogram of the errors\n",
    "# bins = np.arange(-20, 20, 0.5)\n",
    "# ax4.hist(test_set[\"avg_temp(C)\"]-test_set['WaterTempC'], bins=bins);\n",
    "# ax5.hist(test_set[\"avg_temp(C)\"]-test_set['lr1_y_pred'], bins=bins);\n",
    "# ax6.hist(test_set[\"avg_temp(C)\"]-test_set['rfr1_y_pred'], bins=bins);\n",
    "# ax7.hist(test_set[\"avg_temp(C)\"]-test_set['ann1_y_pred'], bins=bins);\n",
    "\n",
    "# # ax4.set_title(\"Landsat\")\n",
    "# # ax5.set_title(\"Linear Regression\")\n",
    "# # ax6.set_title(\"Random Forest Regression\")\n",
    "# # ax7.set_title(\"Artificial Neural Network\")\n",
    "# ax4.set_title(\"(e)\")\n",
    "# ax5.set_title(\"(f)\")\n",
    "# ax6.set_title(\"(g)\")\n",
    "# ax7.set_title(\"(h)\")\n",
    "\n",
    "# ax4.set_xlabel(\"Error: In-situ - Landsat (C)\")\n",
    "# ax5.set_xlabel(\"Error: In-situ - Estimated (C)\")\n",
    "# ax6.set_xlabel(\"Error: In-situ - Estimated (C)\")\n",
    "# ax7.set_xlabel(\"Error: In-situ - Estimated (C)\")\n",
    "\n",
    "# ax4.set_ylabel(\"Frequency\")\n",
    "# ax5.set_ylabel(\"Frequency\")\n",
    "# ax6.set_ylabel(\"Frequency\")\n",
    "# ax7.set_ylabel(\"Frequency\")\n",
    "\n",
    "# # annotate with mean and std\n",
    "# ax4.annotate(\n",
    "#     f'Mean: {np.mean(test_set[\"avg_temp(C)\"]-test_set[\"WaterTempC\"]):.2f}', xy=(0.05, 0.9), xycoords=\"axes fraction\"\n",
    "# )\n",
    "# ax4.annotate(\n",
    "#     f'Std: {np.std(test_set[\"avg_temp(C)\"]-test_set[\"WaterTempC\"]):.2f}', xy=(0.05, 0.85), xycoords=\"axes fraction\"\n",
    "# )\n",
    "# ax5.annotate(\n",
    "#     f'Mean: {np.mean(test_set[\"avg_temp(C)\"]-test_set[\"lr1_y_pred\"]):.2f}', xy=(0.05, 0.9), xycoords=\"axes fraction\"\n",
    "# )\n",
    "# ax5.annotate(\n",
    "#     f'Std: {np.std(test_set[\"avg_temp(C)\"]-test_set[\"lr1_y_pred\"]):.2f}', xy=(0.05, 0.85), xycoords=\"axes fraction\"\n",
    "# )\n",
    "# ax6.annotate(\n",
    "#     f'Mean: {np.mean(test_set[\"avg_temp(C)\"]-test_set[\"rfr1_y_pred\"]):.2f}', xy=(0.05, 0.9), xycoords=\"axes fraction\"\n",
    "# )\n",
    "# ax6.annotate(\n",
    "#     f'Std: {np.std(test_set[\"avg_temp(C)\"]-test_set[\"rfr1_y_pred\"]):.2f}', xy=(0.05, 0.85), xycoords=\"axes fraction\"\n",
    "# )\n",
    "# ax7.annotate(\n",
    "#     f'Mean: {np.mean(test_set[\"avg_temp(C)\"]-test_set[\"ann1_y_pred\"]):.2f}', xy=(0.05, 0.9), xycoords=\"axes fraction\"\n",
    "# )\n",
    "# ax7.annotate(\n",
    "#     f'Std: {np.std(test_set[\"avg_temp(C)\"]-test_set[\"ann1_y_pred\"]):.2f}', xy=(0.05, 0.85), xycoords=\"axes fraction\"\n",
    "# )\n",
    "\n",
    "# fig.tight_layout()\n",
    "# plt.savefig('model_comparison.png', dpi=300)"
   ]
  },
  {
   "cell_type": "code",
   "execution_count": null,
   "metadata": {},
   "outputs": [],
   "source": [
    "basins = gpd.read_file(geopackage_fn, layer=\"Basins\") # read the layer \"Basins\" from the geopackage\n",
    "rivers = gpd.read_file(geopackage_fn, layer=\"Rivers\") # read the layer \"Rivers\" from the geopackage\n",
    "reaches = gpd.read_file(geopackage_fn, layer=\"Reaches\") # read the layer \"Reaches\" from the geopackage"
   ]
  },
  {
   "cell_type": "code",
   "execution_count": null,
   "metadata": {},
   "outputs": [],
   "source": [
    "reaches.rename(columns={'reach_id': 'Name'}, inplace=True)"
   ]
  },
  {
   "cell_type": "code",
   "execution_count": null,
   "metadata": {},
   "outputs": [],
   "source": [
    "# merge the test set with the reaches\n",
    "test_set = test_set.merge(reaches[['Name', 'DistToUpDam', 'DistToDownDam']], on='Name', how='left')"
   ]
  },
  {
   "cell_type": "code",
   "execution_count": null,
   "metadata": {},
   "outputs": [],
   "source": [
    "corr_df = test_set[['lr1_y_pred', 'rfr1_y_pred', 'ann1_y_pred', 'WaterTempC', 'avg_temp(C)', 'DistToUpDam', 'DistToDownDam', 'LandTempC', 'WidthMean', 'ClimateClass', 'DOY', 'NDVI']].corr()\n",
    "corr_df.to_csv('correlation.csv')"
   ]
  },
  {
   "cell_type": "code",
   "execution_count": null,
   "metadata": {},
   "outputs": [],
   "source": [
    "fig, ax = plt.subplots(1, 1, figsize=(8, 8))\n",
    "test_set.plot.scatter(x=\"rfr1_y_pred\", y=\"NDVI\", ax=ax, s=0.75)"
   ]
  },
  {
   "cell_type": "code",
   "execution_count": null,
   "metadata": {},
   "outputs": [],
   "source": [
    "test_set[['rfr1_y_pred', \"NDVI\"]].dropna()"
   ]
  },
  {
   "cell_type": "code",
   "execution_count": null,
   "metadata": {},
   "outputs": [],
   "source": [
    "# scatter of predicted vs land temperature \n",
    "fig, ax = plt.subplots(1, 3, figsize=(16, 4))\n",
    "test_set.plot.scatter(x=\"LandTempC\", y=\"ann1_y_pred\", ax=ax[0], s=0.75)\n",
    "test_set.plot.scatter(x=\"LandTempC\", y=\"lr1_y_pred\", ax=ax[1], s=0.75)\n",
    "test_set.plot.scatter(x=\"LandTempC\", y=\"rfr1_y_pred\", ax=ax[2], s=0.75)\n"
   ]
  },
  {
   "cell_type": "code",
   "execution_count": null,
   "metadata": {},
   "outputs": [],
   "source": [
    "# count non nan values\n",
    "test_set['ann1_y_pred'].count(), test_set['lr1_y_pred'].count(), test_set['rfr1_y_pred'].count()"
   ]
  },
  {
   "cell_type": "code",
   "execution_count": null,
   "metadata": {},
   "outputs": [],
   "source": [
    "test_set['avg_temp(C)'].count()"
   ]
  },
  {
   "cell_type": "code",
   "execution_count": null,
   "metadata": {},
   "outputs": [],
   "source": [
    "# plot a scatter of the error vs distance to upstream dam\n",
    "fig, ax = plt.subplots(1, 1, figsize=(8, 8))\n",
    "ax.scatter(test_set['WidthMean'], (test_set[\"avg_temp(C)\"]-test_set['rfr1_y_pred']), s=0.75)"
   ]
  },
  {
   "cell_type": "code",
   "execution_count": null,
   "metadata": {},
   "outputs": [],
   "source": [
    "test_set.columns"
   ]
  },
  {
   "cell_type": "code",
   "execution_count": null,
   "metadata": {},
   "outputs": [],
   "source": [
    "# bin insitu_lsat by average temperature\n",
    "test_set['DistToUpDam_bin'] = pd.cut(test_set['DistToUpDam'], bins=np.arange(0, 300, 10))\n",
    "# test_set['DistToUpDam_bin'] = pd.cut(test_set['WidthMean'], bins=np.arange(0, 5000, 120))\n",
    "test_set['error2'] = np.abs(test_set[\"avg_temp(C)\"]-test_set['rfr2_y_pred'])\n",
    "test_set['error1'] = np.abs(test_set[\"avg_temp(C)\"]-test_set['rfr1_y_pred'])\n",
    "\n",
    "# find the mid and max of the bins\n",
    "test_set['DistToUpDam_bin_mid'] = test_set['DistToUpDam_bin'].apply(lambda x: x.mid)\n",
    "test_set['DistToUpDam_bin_max'] = test_set['DistToUpDam_bin'].apply(lambda x: x.right)\n",
    "\n",
    "# find the mean and std of the error\n",
    "mean_error = test_set.groupby('DistToUpDam_bin_max')['error'].mean()\n",
    "std_error = test_set.groupby('DistToUpDam_bin_max')['error'].std()\n",
    "\n",
    "\n",
    "fig, ax = plt.subplots(1, 1, figsize=(15, 6))\n",
    "# box plot of the error vs distance to upstream dam bin\n",
    "test_set.boxplot(column='error', by='DistToUpDam_bin_max', ax=ax)\n",
    "# ax.plot(mean_error.index,mean_error.values, color='r')\n",
    "ax.set_ylim(0, 10)\n",
    "\n",
    "fig.suptitle('')\n",
    "ax.set_title('Boxplot of absolute error vs distance from upstream dam')\n",
    "ax.set_xlabel('Distance to upstream dam (km)')\n",
    "ax.set_ylabel('Absolute error: |In-situ - RFR Estimate| (C)')"
   ]
  },
  {
   "cell_type": "code",
   "execution_count": null,
   "metadata": {},
   "outputs": [],
   "source": [
    "test_set[test_set['DistToUpDam'] <50]['error1'].mean()"
   ]
  },
  {
   "cell_type": "code",
   "execution_count": null,
   "metadata": {},
   "outputs": [],
   "source": [
    "mean_error"
   ]
  },
  {
   "cell_type": "code",
   "execution_count": null,
   "metadata": {},
   "outputs": [],
   "source": [
    "a = test_set.groupby('DistToUpDam')['error']\n",
    "a.mean().plot(color='r')"
   ]
  },
  {
   "cell_type": "code",
   "execution_count": null,
   "metadata": {},
   "outputs": [],
   "source": [
    "# bin insitu_lsat by average temperature\n",
    "test_set['DistToUpDam_bin'] = pd.cut(test_set['DistToUpDam'], bins=np.arange(0, 300, 10))\n",
    "# test_set['DistToUpDam_bin'] = pd.cut(test_set['WidthMean'], bins=np.arange(0, 5000, 120))\n",
    "test_set['error'] = np.abs(test_set[\"avg_temp(C)\"]-test_set['rfr1_y_pred'])\n",
    "\n",
    "# find the mid and max of the bins\n",
    "test_set['DistToUpDam_bin_mid'] = test_set['DistToUpDam_bin'].apply(lambda x: x.mid)\n",
    "test_set['DistToUpDam_bin_max'] = test_set['DistToUpDam_bin'].apply(lambda x: x.right)\n",
    "\n",
    "# find the mean and std of the error\n",
    "mean_error = test_set.groupby('DistToUpDam_bin_max')['error'].mean()\n",
    "std_error = test_set.groupby('DistToUpDam_bin_max')['error'].std()\n",
    "\n",
    "\n",
    "fig, ax = plt.subplots(1, 1, figsize=(15, 6))\n",
    "# box plot of the error vs distance to upstream dam bin\n",
    "test_set.boxplot(column='error', by='DistToUpDam_bin_max', ax=ax)\n",
    "# ax.plot(mean_error.index,mean_error.values, color='r')\n",
    "ax.set_ylim(0, 10)\n",
    "\n",
    "fig.suptitle('')\n",
    "ax.set_title('Boxplot of absolute error vs distance from upstream dam')\n",
    "ax.set_xlabel('Distance to upstream dam (km)')\n",
    "ax.set_ylabel('Absolute error: |In-situ - RFR Estimate| (C)')"
   ]
  },
  {
   "cell_type": "code",
   "execution_count": null,
   "metadata": {},
   "outputs": [],
   "source": [
    "test_set[test_set['WidthMean'] >2000]"
   ]
  },
  {
   "cell_type": "code",
   "execution_count": null,
   "metadata": {},
   "outputs": [],
   "source": [
    "a = test_set.groupby('WidthMean')['error']\n",
    "a.mean().plot(color='r')"
   ]
  },
  {
   "cell_type": "code",
   "execution_count": null,
   "metadata": {},
   "outputs": [],
   "source": [
    "\n",
    "test_set.groupby('DistToUpDam_bin_max').aggregate({'error': ['mean', 'std']})['error'].reset_index()"
   ]
  },
  {
   "cell_type": "code",
   "execution_count": null,
   "metadata": {},
   "outputs": [],
   "source": []
  },
  {
   "cell_type": "code",
   "execution_count": null,
   "metadata": {},
   "outputs": [],
   "source": [
    "# correlation between errors and distance to upstream dam\n",
    "test_set[['error', 'DistToUpDam']].corr()"
   ]
  },
  {
   "cell_type": "code",
   "execution_count": null,
   "metadata": {},
   "outputs": [],
   "source": [
    "cutoff = 50\n",
    "\n",
    "lt50 = test_set[test_set['DistToUpDam'] < cutoff].dropna(subset=['rfr1_y_pred'])\n",
    "gt50 = test_set[test_set['DistToUpDam'] >= cutoff].dropna(subset=['avg_temp(C)', 'rfr1_y_pred'])\n",
    "\n",
    "lt50_metrics = RegressionMetric(lt50['avg_temp(C)'].to_list(), lt50['rfr1_y_pred'].to_list()).get_metrics_by_list_names(list_metrics)\n",
    "gt50_metrics = RegressionMetric(gt50['avg_temp(C)'].to_list(), gt50['rfr1_y_pred'].to_list()).get_metrics_by_list_names(list_metrics)"
   ]
  },
  {
   "cell_type": "code",
   "execution_count": null,
   "metadata": {},
   "outputs": [],
   "source": [
    "gt50_metrics"
   ]
  },
  {
   "cell_type": "code",
   "execution_count": null,
   "metadata": {},
   "outputs": [],
   "source": [
    "lt50_metrics"
   ]
  },
  {
   "cell_type": "code",
   "execution_count": null,
   "metadata": {},
   "outputs": [],
   "source": [
    "test_set['DistToUpDam'].max()"
   ]
  },
  {
   "cell_type": "code",
   "execution_count": null,
   "metadata": {},
   "outputs": [],
   "source": [
    "downstream_analysis = pd.DataFrame(columns=['cutoff_dist',] + [metric + '_lt' for metric in list_metrics] + [metric + '_gt' for metric in list_metrics])\n",
    "# downstream_analysis\n",
    "\n",
    "for i, cutoff_dist in enumerate(np.arange(10, 300, 10)):\n",
    "\n",
    "    # print(f'cutoff_dist: {cutoff_dist}')\n",
    "    test_set_ = test_set.dropna(subset=['DistToUpDam', 'avg_temp(C)', 'rfr1_y_pred'])\n",
    "    lt = test_set_[test_set_['DistToUpDam'] < cutoff_dist]\n",
    "    gt = test_set_[test_set_['DistToUpDam'] >= cutoff_dist]\n",
    "\n",
    "    # print(gt.head())\n",
    "\n",
    "    # # print(f'cutoff_dist: {cutoff_dist}')\n",
    "    lt_metrics = RegressionMetric(lt['avg_temp(C)'].to_list(), lt['rfr1_y_pred'].to_list()).get_metrics_by_list_names(list_metrics)\n",
    "    gt_metrics = RegressionMetric(gt['avg_temp(C)'].to_list(), gt['rfr1_y_pred'].to_list()).get_metrics_by_list_names(list_metrics)\n",
    "\n",
    "    downstream_analysis.loc[i] = [cutoff_dist]+[lt_metrics[metric] for metric in list_metrics] + [gt_metrics[metric] for metric in list_metrics]\n",
    "\n"
   ]
  },
  {
   "cell_type": "code",
   "execution_count": null,
   "metadata": {},
   "outputs": [],
   "source": [
    "fig, ax = plt.subplots(1, 5, figsize=(20, 5))\n",
    "\n",
    "downstream_analysis_50 = downstream_analysis[downstream_analysis['cutoff_dist'] == 50]\n",
    "\n",
    "# bar plot of greater than 50 km vs less than 50 kme\n",
    "ax[0].bar(['<50 km', '>=50 km'], [lt50_metrics['MAE'], gt50_metrics['MAE']])\n",
    "ax[1].bar(['<50 km', '>=50 km'], [lt50_metrics['RMSE'], gt50_metrics['RMSE']])\n",
    "ax[2].bar(['<50 km', '>=50 km'], [lt50_metrics['R2'], gt50_metrics['R2']])\n",
    "ax[3].bar(['<50 km', '>=50 km'], [lt50_metrics['NSE'], gt50_metrics['NSE']])\n",
    "ax[4].bar(['<50 km', '>=50 km'], [lt50_metrics['KGE'], gt50_metrics['KGE']])\n",
    "\n",
    "ax[0].set_title('Mean Absolute Error')\n",
    "ax[1].set_title('Root Mean Squared Error')\n",
    "ax[2].set_title('R2')\n",
    "ax[3].set_title('NSE')\n",
    "ax[4].set_title('KGE')\n"
   ]
  },
  {
   "cell_type": "code",
   "execution_count": null,
   "metadata": {},
   "outputs": [],
   "source": [
    "lt50_metrics"
   ]
  },
  {
   "cell_type": "code",
   "execution_count": null,
   "metadata": {},
   "outputs": [],
   "source": [
    "gt50_metrics"
   ]
  },
  {
   "cell_type": "code",
   "execution_count": null,
   "metadata": {},
   "outputs": [],
   "source": [
    "list_metrics"
   ]
  },
  {
   "cell_type": "code",
   "execution_count": null,
   "metadata": {},
   "outputs": [],
   "source": [
    "#  for each distance downstream, plot the lt and gt mae as bar plot\n",
    "fig, ax = plt.subplots(1, 1, figsize=(12, 5))\n",
    "downstream_analysis.plot.bar(x='cutoff_dist', y=['MAE_lt', 'MAE_gt'], ax=ax, label=['Within x-km', 'Beyond x-km'])\n",
    "ax.set_xlabel('Distance downstream of dam (km)')\n",
    "ax.set_ylabel('Mean Absolute Error (C)')\n",
    "ax.set_title('Mean Absolute Error vs Distance downstream of dam')\n"
   ]
  },
  {
   "cell_type": "code",
   "execution_count": null,
   "metadata": {},
   "outputs": [],
   "source": [
    "downstream_analysis"
   ]
  },
  {
   "cell_type": "code",
   "execution_count": null,
   "metadata": {},
   "outputs": [],
   "source": [
    "fig, ax = plt.subplots(1, 1, figsize=(12, 5))\n",
    "ax.plot(downstream_analysis['cutoff_dist'], downstream_analysis['MAE_lt'], label='Within x-km')\n",
    "ax.set_xlabel('Distance downstream of dam (km)')\n",
    "ax.set_ylabel('Mean Absolute Error (C)')\n",
    "ax.set_title('Mean Absolute Error of Reaches Within x-km downstream of dam')\n"
   ]
  },
  {
   "cell_type": "code",
   "execution_count": null,
   "metadata": {},
   "outputs": [],
   "source": [
    "test_set.groupby('DistToUpDam_bin')['error'].mean().plot()"
   ]
  },
  {
   "cell_type": "code",
   "execution_count": null,
   "metadata": {},
   "outputs": [],
   "source": [
    "all = test_set.dropna(subset=['avg_temp(C)', 'rfr1_y_pred'])\n",
    "\n",
    "all_metrics = RegressionMetric(all['avg_temp(C)'].to_list(), all['rfr1_y_pred'].to_list()).get_metrics_by_list_names(list_metrics)"
   ]
  },
  {
   "cell_type": "code",
   "execution_count": null,
   "metadata": {},
   "outputs": [],
   "source": [
    "all_metrics"
   ]
  },
  {
   "cell_type": "code",
   "execution_count": null,
   "metadata": {},
   "outputs": [],
   "source": [
    "# plot distribution of errors\n",
    "fig, ax = plt.subplots(1, 1, figsize=(8, 8))\n",
    "ax.hist(test_set[test_set['DistToUpDam_bin_mid']==5]['error'], bins=np.arange(-5, 5, 0.05));"
   ]
  },
  {
   "cell_type": "code",
   "execution_count": null,
   "metadata": {},
   "outputs": [],
   "source": [
    "# plot distribution of errors\n",
    "fig, ax = plt.subplots(1, 1, figsize=(8, 8))\n",
    "ax.hist(test_set[test_set['DistToUpDam_bin_mid']==65]['error'], bins=np.arange(-5, 5, 0.05));"
   ]
  }
 ],
 "metadata": {
  "kernelspec": {
   "display_name": "hydrothermal-history",
   "language": "python",
   "name": "python3"
  },
  "language_info": {
   "codemirror_mode": {
    "name": "ipython",
    "version": 3
   },
   "file_extension": ".py",
   "mimetype": "text/x-python",
   "name": "python",
   "nbconvert_exporter": "python",
   "pygments_lexer": "ipython3",
   "version": "3.11.4"
  }
 },
 "nbformat": 4,
 "nbformat_minor": 2
}
