{
 "cells": [
  {
   "cell_type": "code",
   "execution_count": null,
   "metadata": {},
   "outputs": [],
   "source": [
    "import sys\n",
    "import os \n",
    "import pandas as pd\n",
    "import geopandas as gpd\n",
    "from pathlib import Path\n",
    "import json"
   ]
  },
  {
   "cell_type": "code",
   "execution_count": null,
   "metadata": {},
   "outputs": [],
   "source": [
    "proj_dir = Path(\"./../../\")"
   ]
  },
  {
   "cell_type": "code",
   "execution_count": null,
   "metadata": {},
   "outputs": [],
   "source": [
    "sys.path.insert(0, os.path.abspath(proj_dir / \"src\"))\n",
    "\n",
    "import thorr\n",
    "from thorr.utils import config as cfg\n",
    "from thorr.utils import database\n",
    "from thorr.utils import logger"
   ]
  },
  {
   "cell_type": "code",
   "execution_count": null,
   "metadata": {},
   "outputs": [],
   "source": [
    "config = cfg.read_config(config_path=str(proj_dir / \".env/config/thorr_config.ini\"), required_sections=['mysql'])\n",
    "db_config_path = config['mysql'][\"db_config_path\"]\n",
    "\n",
    "db = database.Connect(str(proj_dir / db_config_path))"
   ]
  },
  {
   "cell_type": "code",
   "execution_count": null,
   "metadata": {},
   "outputs": [],
   "source": [
    "connection = db.connection\n",
    "cursor = connection.cursor()"
   ]
  },
  {
   "cell_type": "code",
   "execution_count": null,
   "metadata": {},
   "outputs": [],
   "source": [
    "db_name = \"thorr_transfer_test\""
   ]
  },
  {
   "cell_type": "code",
   "execution_count": null,
   "metadata": {},
   "outputs": [],
   "source": [
    "gpkg_path = proj_dir / \"data/gis/geopackages/columbia_river_basin.gpkg\""
   ]
  },
  {
   "cell_type": "code",
   "execution_count": null,
   "metadata": {},
   "outputs": [],
   "source": [
    "basins_gdf = gpd.read_file(gpkg_path, layer=\"Basins\").to_crs(epsg=4326)\n",
    "rivers_gdf = gpd.read_file(gpkg_path, layer=\"Rivers\").to_crs(epsg=4326)\n",
    "reaches_gdf = gpd.read_file(gpkg_path, layer=\"Reaches\").to_crs(epsg=4326)\n",
    "dams_gdf = gpd.read_file(gpkg_path, layer=\"Dams\").to_crs(epsg=4326)\n",
    "reservoirs_gdf = gpd.read_file(gpkg_path, layer=\"Reservoirs\").to_crs(epsg=4326)"
   ]
  },
  {
   "cell_type": "code",
   "execution_count": null,
   "metadata": {},
   "outputs": [],
   "source": [
    "basins_gdf.plot()"
   ]
  },
  {
   "cell_type": "code",
   "execution_count": null,
   "metadata": {},
   "outputs": [],
   "source": [
    "# Insert basin data into the table if the entry doesn't already exist\n",
    "for i, row in basins_gdf.iterrows():\n",
    "    query = f\"\"\"\n",
    "    INSERT INTO Basins (Name, DrainageAreaSqKm, geometry)\n",
    "    SELECT '{row['Name']}', {row['AreaSqKm']}, ST_GeomFromText('{row['geometry'].wkt}', 4326, 'axis-order=long-lat')\n",
    "    WHERE NOT EXISTS (SELECT * FROM Basins WHERE Name = '{row['Name']}')\n",
    "    \"\"\"\n",
    "    \n",
    "    cursor.execute(query)\n",
    "    connection.commit()"
   ]
  },
  {
   "cell_type": "code",
   "execution_count": null,
   "metadata": {},
   "outputs": [],
   "source": [
    "# Retrieve basin geometry from the database\n",
    "cursor.execute(\"SELECT BasinID, Name, ST_AsText(geometry, 'axis-order=long-lat'), ST_SRID(geometry) AS SRID FROM basins\")\n",
    "basins = cursor.fetchall()\n",
    "basins = pd.DataFrame(basins, columns=['basin_id', 'basin_name', 'geometry', 'srid'])\n",
    "\n",
    "basins['geometry'] = gpd.GeoSeries.from_wkt(basins['geometry'])\n",
    "basins = gpd.GeoDataFrame(basins, geometry='geometry')\n",
    "basins = basins.set_crs(epsg=basins['srid'][0])\n",
    "basins.plot()"
   ]
  },
  {
   "cell_type": "code",
   "execution_count": null,
   "metadata": {},
   "outputs": [],
   "source": [
    "# Insert river data into the table if the entry doesn't already exist\n",
    "for i, row in rivers_gdf.iterrows():\n",
    "    query = f\"\"\"\n",
    "    INSERT INTO Rivers (Name, LengthKm, geometry)\n",
    "    SELECT '{row['GNIS_Name']}', {row['LengthKM']}, ST_GeomFromText('{row['geometry'].wkt}', 4326, 'axis-order=long-lat')\n",
    "    WHERE NOT EXISTS (SELECT * FROM Rivers WHERE Name = '{row['GNIS_Name']}')\n",
    "    \"\"\"\n",
    "    \n",
    "    cursor.execute(query)\n",
    "    connection.commit()\n",
    "\n",
    "    # # Update the BasinID column if the basin exists in the Basins table\n",
    "    # query2 = f\"\"\"\n",
    "    # UPDATE Rivers\n",
    "    # SET BasinID = (SELECT BasinID FROM Basins WHERE Name = '{row['Basin']}')\n",
    "    # WHERE Name = '{row['GNIS_Name']}'\n",
    "    # \"\"\"\n",
    "    query2 = f\"\"\"\n",
    "    UPDATE Rivers\n",
    "    SET BasinID = (SELECT BasinID FROM Basins WHERE Name = '{row['Basin']}'), LengthKm = {row['LengthKM']}\n",
    "    WHERE Name = \"{row['GNIS_Name']}\"\n",
    "    \"\"\"\n",
    "\n",
    "    cursor.execute(query2)\n",
    "    connection.commit()"
   ]
  },
  {
   "cell_type": "code",
   "execution_count": null,
   "metadata": {},
   "outputs": [],
   "source": [
    "# Update the MajorRiverID column if the river exists in the Rivers table\n",
    "for i, row in basins_gdf.iterrows():\n",
    "    query = f\"\"\"\n",
    "    UPDATE Basins\n",
    "    SET MajorRiverID = (SELECT RiverID FROM Rivers WHERE Name = '{row['MajorRiver']}')\n",
    "    WHERE Name = '{row['Name']}'\n",
    "    \"\"\"\n",
    "\n",
    "    cursor.execute(query)\n",
    "    connection.commit()\n"
   ]
  },
  {
   "cell_type": "code",
   "execution_count": null,
   "metadata": {},
   "outputs": [],
   "source": [
    "dams_gdf.fillna('', inplace=True)\n",
    "reservoirs_gdf.fillna('', inplace=True)\n",
    "\n",
    "# Insert river data into the table if the entry doesn't already exist\n",
    "for i, row in dams_gdf.iterrows():\n",
    "    # print(row['DAM_NAME'])\n",
    "    query = f\"\"\"\n",
    "    INSERT INTO Dams (Name, Reservoir, AltName, Country, Year, AreaSqKm, CapacityMCM, DepthM, ElevationMASL, MainUse, LONG_DD, LAT_DD, DamGeometry)\n",
    "    SELECT \"{row['DAM_NAME']}\", NULLIF(\"{row['RES_NAME']}\", ''), NULLIF(\"{str(row['ALT_NAME'])}\",''), '{row['COUNTRY']}', {row['YEAR']}, {row['AREA_SKM']}, {row['CAP_MCM']}, {row['DEPTH_M']}, {row['ELEV_MASL']}, '{row['MAIN_USE']}', {row['LONG_DD']}, {row['LAT_DD']}, ST_PointFromText('{row['geometry'].wkt}', 4326, 'axis-order=long-lat')\n",
    "    WHERE NOT EXISTS (SELECT * FROM Dams WHERE Name = \"{row['DAM_NAME']}\")\n",
    "    \"\"\"\n",
    "\n",
    "    cursor.execute(query)\n",
    "    connection.commit()\n",
    "\n",
    "\n",
    "    # Update the RiverID column if the river exists in the Rivers table\n",
    "    query2 = f\"\"\"\n",
    "    UPDATE Dams\n",
    "    SET RiverID = (SELECT RiverID FROM Rivers WHERE Name = \"{row['RIVER']}\")\n",
    "    WHERE Name = \"{row['DAM_NAME']}\"\n",
    "    \"\"\"\n",
    "\n",
    "    cursor.execute(query2)\n",
    "    connection.commit()\n",
    "\n",
    "    # Update the BasinID column if the basin exists in the Basins table\n",
    "    query3 = f\"\"\"\n",
    "    UPDATE Dams\n",
    "    SET BasinID = (SELECT BasinID FROM Basins WHERE Name = 'Columbia River Basin')\n",
    "    WHERE Name = \"{row['DAM_NAME']}\"\n",
    "    \"\"\"\n",
    "\n",
    "    cursor.execute(query3)\n",
    "    connection.commit()\n",
    "\n",
    "# Insert reservoir data into the table if the entry doesn't already exist\n",
    "for i, row in reservoirs_gdf.iterrows():\n",
    "    query = f\"\"\"\n",
    "    UPDATE Dams\n",
    "    SET ReservoirGeometry = ST_GeomFromText('{row['geometry'].wkt}', 4326, 'axis-order=long-lat')\n",
    "    WHERE Name = \"{row['DAM_NAME']}\"\n",
    "    \"\"\"\n",
    "\n",
    "    cursor.execute(query)\n",
    "    connection.commit()\n"
   ]
  },
  {
   "cell_type": "code",
   "execution_count": null,
   "metadata": {},
   "outputs": [],
   "source": [
    "# Iinsert reach data into the table if the entry doesn't already exist\n",
    "for i, row in reaches_gdf.iterrows():\n",
    "    # query = f\"\"\"\n",
    "    # INSERT INTO Reaches (Name, RiverID, ClimateClass, Width, Width5, Width95, Depth, Depth5, Depth95, geometry)\n",
    "    # SELECT \"{row['reach_id']}\",(SELECT RiverID FROM Rivers WHERE Name = '{row['GNIS_Name']}'), {row['koppen']}, {row[\"WIDTH\"]}, {row[\"WIDTH5\"]}, {row[\"WIDTH95\"]}, {row[\"DEPTH\"]}, {row[\"DEPTH5\"]}, {row[\"DEPTH95\"]}, ST_GeomFromText('{row['geometry'].wkt}', 4326, 'axis-order=long-lat')\n",
    "    # WHERE NOT EXISTS (SELECT * FROM Reaches WHERE Name = \"{row['reach_id']}\")\n",
    "    # \"\"\"\n",
    "\n",
    "    query = f\"\"\"\n",
    "    INSERT INTO Reaches (Name, RiverID, ClimateClass, WidthMin, WidthMean, WidthMax, RKm, geometry)\n",
    "    SELECT \"{row['reach_id']}\",(SELECT RiverID FROM Rivers WHERE Name = '{row['GNIS_Name']}'), {row['koppen']}, NULLIF(\"{str(row['WidthMin'])}\",'nan'), NULLIF(\"{str(row['WidthMean'])}\",'nan'), NULLIF(\"{str(row['WidthMax'])}\",'nan'), NULLIF(\"{str(row['RKm'])}\",'nan'), ST_GeomFromText('{row['geometry'].wkt}', 4326, 'axis-order=long-lat')\n",
    "    WHERE NOT EXISTS (SELECT * FROM Reaches WHERE Name = \"{row['reach_id']}\")\n",
    "    \"\"\"\n",
    "    \n",
    "    try:\n",
    "        cursor.execute(query)\n",
    "        connection.commit()\n",
    "    except:\n",
    "        print(query)\n",
    "        break"
   ]
  },
  {
   "cell_type": "code",
   "execution_count": null,
   "metadata": {},
   "outputs": [],
   "source": []
  }
 ],
 "metadata": {
  "kernelspec": {
   "display_name": "hydrothermal-history",
   "language": "python",
   "name": "python3"
  },
  "language_info": {
   "codemirror_mode": {
    "name": "ipython",
    "version": 3
   },
   "file_extension": ".py",
   "mimetype": "text/x-python",
   "name": "python",
   "nbconvert_exporter": "python",
   "pygments_lexer": "ipython3",
   "version": "3.11.4"
  }
 },
 "nbformat": 4,
 "nbformat_minor": 2
}
