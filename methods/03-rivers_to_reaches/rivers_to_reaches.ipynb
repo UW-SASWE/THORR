{
 "cells": [
  {
   "cell_type": "code",
   "execution_count": null,
   "metadata": {},
   "outputs": [],
   "source": [
    "import sys\n",
    "import os \n",
    "import pandas as pd\n",
    "import geopandas as gpd\n",
    "from pathlib import Path\n",
    "import json"
   ]
  },
  {
   "cell_type": "code",
   "execution_count": null,
   "metadata": {},
   "outputs": [],
   "source": [
    "proj_dir = Path(\"./../../\")"
   ]
  },
  {
   "cell_type": "code",
   "execution_count": null,
   "metadata": {},
   "outputs": [],
   "source": [
    "sys.path.insert(0, os.path.abspath(proj_dir / \"src\"))\n",
    "\n",
    "import thorr\n",
    "from thorr.data import processing as data_processing\n",
    "from thorr.utils import config as cfg\n",
    "from thorr.utils import database\n",
    "from thorr.utils import logger"
   ]
  },
  {
   "cell_type": "code",
   "execution_count": null,
   "metadata": {},
   "outputs": [],
   "source": [
    "config = cfg.read_config(config_path=str(proj_dir / \".env/config/thorr_config.ini\"))\n",
    "geopackage_path = proj_dir / config[\"data\"][\"geopackage_path\"]\n",
    "grwl_path = proj_dir / \"data/gis/raw/GRWL_summaryStats_V01.01/GRWL_summaryStats.shp\"\n",
    "koppen_path = proj_dir / \"data/gis/raw/Beck_KG_V1/Beck_KG_V1_present_0p083.tif\"\n",
    "good2_dams_path = proj_dir / \"data/gis/raw/GOOD/Data/GOOD2_dams.shp\""
   ]
  },
  {
   "cell_type": "code",
   "execution_count": null,
   "metadata": {},
   "outputs": [],
   "source": [
    "reaches, buffered_reaches = data_processing.rivers_to_reaches(\n",
    "    geopackage_path=geopackage_path,\n",
    "    grwl_path=grwl_path,\n",
    "    good2_dams_path=good2_dams_path,\n",
    "    koppen_path=koppen_path,\n",
    "    return_gdf=True,\n",
    ")"
   ]
  },
  {
   "cell_type": "code",
   "execution_count": null,
   "metadata": {},
   "outputs": [],
   "source": [
    "buffered_reaches.explore()"
   ]
  }
 ],
 "metadata": {
  "kernelspec": {
   "display_name": "hydrothermal-history",
   "language": "python",
   "name": "python3"
  },
  "language_info": {
   "codemirror_mode": {
    "name": "ipython",
    "version": 3
   },
   "file_extension": ".py",
   "mimetype": "text/x-python",
   "name": "python",
   "nbconvert_exporter": "python",
   "pygments_lexer": "ipython3",
   "version": "3.11.4"
  }
 },
 "nbformat": 4,
 "nbformat_minor": 2
}
