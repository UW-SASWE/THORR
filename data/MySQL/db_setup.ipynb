{
 "cells": [
  {
   "cell_type": "code",
   "execution_count": 1,
   "metadata": {},
   "outputs": [
    {
     "name": "stdout",
     "output_type": "stream",
     "text": [
      "Intel MKL WARNING: Support of Intel(R) Streaming SIMD Extensions 4.2 (Intel(R) SSE4.2) enabled only processors has been deprecated. Intel oneAPI Math Kernel Library 2025.0 will require Intel(R) Advanced Vector Extensions (Intel(R) AVX) instructions.\n",
      "Intel MKL WARNING: Support of Intel(R) Streaming SIMD Extensions 4.2 (Intel(R) SSE4.2) enabled only processors has been deprecated. Intel oneAPI Math Kernel Library 2025.0 will require Intel(R) Advanced Vector Extensions (Intel(R) AVX) instructions.\n"
     ]
    }
   ],
   "source": [
    "import sys\n",
    "import os \n",
    "import pandas as pd\n",
    "import geopandas as gpd\n",
    "from pathlib import Path\n",
    "import json"
   ]
  },
  {
   "cell_type": "code",
   "execution_count": 2,
   "metadata": {},
   "outputs": [],
   "source": [
    "proj_dir = Path(\"./../../\")\n",
    "thorr_packge_dir = proj_dir / \"../01-THORR/src/THORR\""
   ]
  },
  {
   "cell_type": "code",
   "execution_count": 3,
   "metadata": {},
   "outputs": [],
   "source": [
    "utils = os.path.abspath(thorr_packge_dir/ 'utils')\n",
    "sys.path.insert(0, utils)\n",
    "\n",
    "from sql import connect # utility functions for connecting to MySQL"
   ]
  },
  {
   "cell_type": "code",
   "execution_count": 4,
   "metadata": {},
   "outputs": [
    {
     "name": "stdout",
     "output_type": "stream",
     "text": [
      "Connecting to MySQL database...\n",
      "MySQL connection established.\n"
     ]
    }
   ],
   "source": [
    "# Create a connection object to the MySQL database\n",
    "# conn = connect.Connect(str(proj_dir / \"Methods/2.Data/DBManagement/mysql_config.ini\"))\n",
    "conn = connect.Connect(str(proj_dir / \".env/mysql_config.ini\"))\n",
    "connection = conn.conn\n",
    "cursor = conn.conn.cursor()"
   ]
  },
  {
   "cell_type": "code",
   "execution_count": 6,
   "metadata": {},
   "outputs": [],
   "source": [
    "db_name = \"thorr_transfer_test\""
   ]
  },
  {
   "cell_type": "code",
   "execution_count": 7,
   "metadata": {},
   "outputs": [],
   "source": [
    "# Create database if it doesn't exist\n",
    "cursor.execute(f\"CREATE SCHEMA IF NOT EXISTS `{db_name}` DEFAULT CHARACTER SET utf8mb3\")"
   ]
  },
  {
   "cell_type": "code",
   "execution_count": null,
   "metadata": {},
   "outputs": [],
   "source": [
    "# turn off foreign key checks\n",
    "cursor.execute(\"SET FOREIGN_KEY_CHECKS = 0\")\n",
    "\n",
    "# Create the Basins table\n",
    "basins_query = \"\"\"\n",
    "CREATE TABLE IF NOT EXISTS `Basins` (\n",
    "  `BasinID` SMALLINT NOT NULL AUTO_INCREMENT,\n",
    "  `Name` varchar(255) NOT NULL,\n",
    "  `DrainageAreaSqKm` float DEFAULT NULL COMMENT 'Drainage area of the Basin in square-kilometers',\n",
    "  `MajorRiverID` MEDIUMINT DEFAULT NULL,\n",
    "  `geometry` geometry NOT NULL /*!80003 SRID 4326 */,\n",
    "  PRIMARY KEY (`BasinID`),\n",
    "  UNIQUE KEY `BasinID_UNIQUE` (`BasinID`),\n",
    "  KEY `Fk_MajorRiver` (`MajorRiverID`),\n",
    "  CONSTRAINT `Fk_MajorRiver` FOREIGN KEY (`MajorRiverID`) REFERENCES `Rivers` (`RiverID`) ON DELETE SET NULL ON UPDATE CASCADE\n",
    ") ENGINE=InnoDB\n",
    "\"\"\"\n",
    "cursor.execute(basins_query)\n",
    "\n",
    "# Create the Rivers table\n",
    "rivers_query = \"\"\"\n",
    "CREATE TABLE IF NOT EXISTS `Rivers` (\n",
    "  `RiverID` MEDIUMINT NOT NULL AUTO_INCREMENT,\n",
    "  `Name` varchar(255) DEFAULT NULL,\n",
    "  `LengthKm` float DEFAULT NULL COMMENT 'Length of the river in kilometers',\n",
    "  `WidthM` float DEFAULT NULL COMMENT 'Width in meters',\n",
    "  `BasinID` SMALLINT DEFAULT NULL COMMENT 'ID for the basin in which this river lies',\n",
    "  `geometry` geometry NOT NULL /*!80003 SRID 4326 */,\n",
    "  PRIMARY KEY (`RiverID`),\n",
    "  UNIQUE KEY `RiverID_UNIQUE` (`RiverID`),\n",
    "  KEY `Fk_Basin` (`BasinID`),\n",
    "  CONSTRAINT `Fk_Basin` FOREIGN KEY (`BasinID`) REFERENCES `Basins` (`BasinID`) ON DELETE SET NULL ON UPDATE CASCADE\n",
    ") ENGINE=InnoDB\n",
    "\"\"\"\n",
    "cursor.execute(rivers_query)\n",
    "\n",
    "# Create the Dams table\n",
    "dams_query = \"\"\"\n",
    "CREATE TABLE IF NOT EXISTS `Dams` (\n",
    "  `DamID` int NOT NULL AUTO_INCREMENT,\n",
    "  `Name` varchar(255) NOT NULL,\n",
    "  `Reservoir` varchar(255) DEFAULT NULL,\n",
    "  `AltName` varchar(255) DEFAULT NULL,\n",
    "  `RiverID` MEDIUMINT DEFAULT NULL,\n",
    "  `BasinID` SMALLINT DEFAULT NULL,\n",
    "  `Country` varchar(255) DEFAULT NULL,\n",
    "  `Year` year DEFAULT NULL,\n",
    "  `AreaSqKm` float DEFAULT NULL,\n",
    "  `CapacityMCM` float DEFAULT NULL,\n",
    "  `DepthM` float DEFAULT NULL,\n",
    "  `ElevationMASL` int DEFAULT NULL,\n",
    "  `MainUse` varchar(255) DEFAULT NULL,\n",
    "  `LONG_DD` float DEFAULT NULL,\n",
    "  `LAT_DD` float DEFAULT NULL,\n",
    "  `DamGeometry` point /*!80003 SRID 4326 */ DEFAULT NULL COMMENT 'Point geometry for the dam',\n",
    "  `ReservoirGeometry` polygon /*!80003 SRID 4326 */ DEFAULT NULL COMMENT 'Polygon geometry for the reservoir',\n",
    "  PRIMARY KEY (`DamID`),\n",
    "  UNIQUE KEY `DamID_UNIQUE` (`DamID`),\n",
    "  KEY `Fk_basin_dams` (`BasinID`),\n",
    "  KEY `Fk_river_dams` (`RiverID`),\n",
    "  CONSTRAINT `Fk_basin_dams` FOREIGN KEY (`BasinID`) REFERENCES `Basins` (`BasinID`) ON DELETE SET NULL ON UPDATE CASCADE,\n",
    "  CONSTRAINT `Fk_river_dams` FOREIGN KEY (`RiverID`) REFERENCES `Rivers` (`RiverID`) ON DELETE SET NULL ON UPDATE CASCADE\n",
    ") ENGINE=InnoDB\n",
    "\"\"\"\n",
    "cursor.execute(dams_query)\n",
    "\n",
    "# create the Reaches table\n",
    "reaches_query = \"\"\"\n",
    "CREATE TABLE IF NOT EXISTS `Reaches` (\n",
    "  `ReachID` int NOT NULL AUTO_INCREMENT,\n",
    "  `Name` varchar(255) DEFAULT NULL,\n",
    "  `RiverID` MEDIUMINT DEFAULT NULL,\n",
    "  `ClimateClass` int DEFAULT NULL COMMENT 'Legend linking the numeric values in the maps to the Köppen-Geiger classes.\\nThe RGB colors used in Beck et al. [2018] are provided between parentheses',\n",
    "  `WidthMin` float DEFAULT NULL COMMENT 'Minimum width (meters)',\n",
    "  `WidthMean` float DEFAULT NULL COMMENT 'Mean width (meters)',\n",
    "  `WidthMax` float DEFAULT NULL COMMENT 'Maximum width (meters)',\n",
    "  `RKm` SMALLINT DEFAULT NULL COMMENT 'Distance from the mouth of the river (km)',\n",
    "  `geometry` geometry NOT NULL /*!80003 SRID 4326 */,\n",
    "  PRIMARY KEY (`ReachID`),\n",
    "  UNIQUE KEY `ReachID_UNIQUE` (`ReachID`),\n",
    "  KEY `Fk_river` (`RiverID`),\n",
    "  CONSTRAINT `Fk_river` FOREIGN KEY (`RiverID`) REFERENCES `Rivers` (`RiverID`) ON DELETE CASCADE ON UPDATE CASCADE\n",
    ") ENGINE=InnoDB;\n",
    "\"\"\"\n",
    "cursor.execute(reaches_query)\n",
    "\n",
    "# Create the DamData table\n",
    "dam_data_query = \"\"\"\n",
    "CREATE TABLE IF NOT EXISTS `DamData` (\n",
    "  `ID` int NOT NULL AUTO_INCREMENT,\n",
    "  `Date` date NOT NULL,\n",
    "  `DamID` int NOT NULL,\n",
    "  `WaterTempC` float NOT NULL COMMENT 'Landsat-based water temperature for reservoirs',\n",
    "  `Mission` varchar(4) DEFAULT NULL COMMENT 'The Landsat satellite mission',\n",
    "  PRIMARY KEY (`ID`),\n",
    "  UNIQUE KEY `DamDataID_UNIQUE` (`ID`),\n",
    "  KEY `Fk_water_temp_dam` (`DamID`),\n",
    "  CONSTRAINT `Fk_water_temp_dam` FOREIGN KEY (`DamID`) REFERENCES `Dams` (`DamID`) ON DELETE CASCADE ON UPDATE CASCADE\n",
    ") ENGINE=InnoDB\n",
    "\"\"\"\n",
    "cursor.execute(dam_data_query)\n",
    "\n",
    "# Create the ReachData table\n",
    "query = \"\"\"\n",
    "CREATE TABLE IF NOT EXISTS `ReachData` (\n",
    "  `ID` int NOT NULL AUTO_INCREMENT,\n",
    "  `Date` date NOT NULL,\n",
    "  `ReachID` int NOT NULL,\n",
    "  `LandTempC` float DEFAULT NULL COMMENT 'Landsat-based land temperature on the reach corridor. Unit: degrees Celsius',\n",
    "  `WaterTempC` float DEFAULT NULL COMMENT 'Landsat-based water temperature along the reach. Unit: degrees Celsius',\n",
    "  `NDVI` float DEFAULT NULL COMMENT 'Landsat-based land temperature on the reach corridor',\n",
    "  `Mission` VARCHAR(4) NULL COMMENT 'The Landsat satellite mission',\n",
    "  `EstTempC` float DEFAULT NULL COMMENT 'Estimated water temperature based on the THORR algorithm',\n",
    "  PRIMARY KEY (`ID`),\n",
    "  UNIQUE KEY `ReachLandsatDataID_UNIQUE` (`ID`),\n",
    "  KEY `Fk_landsat_data_reach` (`ReachID`),\n",
    "  CONSTRAINT `Fk_landsat_data_reach` FOREIGN KEY (`ReachID`) REFERENCES `Reaches` (`ReachID`) ON DELETE CASCADE ON UPDATE CASCADE\n",
    ") ENGINE=InnoDB\n",
    "\"\"\"\n",
    "cursor.execute(query)\n",
    "\n",
    "# turn on foreign key checks\n",
    "cursor.execute(\"SET FOREIGN_KEY_CHECKS = 1\")"
   ]
  }
 ],
 "metadata": {
  "kernelspec": {
   "display_name": "hydrothermal-history",
   "language": "python",
   "name": "python3"
  },
  "language_info": {
   "codemirror_mode": {
    "name": "ipython",
    "version": 3
   },
   "file_extension": ".py",
   "mimetype": "text/x-python",
   "name": "python",
   "nbconvert_exporter": "python",
   "pygments_lexer": "ipython3",
   "version": "3.11.4"
  }
 },
 "nbformat": 4,
 "nbformat_minor": 2
}
