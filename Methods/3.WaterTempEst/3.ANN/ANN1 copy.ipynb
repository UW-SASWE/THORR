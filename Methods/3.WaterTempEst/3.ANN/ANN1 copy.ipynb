{
 "cells": [
  {
   "cell_type": "markdown",
   "metadata": {},
   "source": [
    "# Artificial Neural Network Model 1 (ANN1)\n",
    "Without reservoir dynamics"
   ]
  },
  {
   "cell_type": "markdown",
   "metadata": {},
   "source": [
    "## Data Processing"
   ]
  },
  {
   "cell_type": "code",
   "execution_count": 1,
   "metadata": {},
   "outputs": [
    {
     "name": "stdout",
     "output_type": "stream",
     "text": [
      "Intel MKL WARNING: Support of Intel(R) Streaming SIMD Extensions 4.2 (Intel(R) SSE4.2) enabled only processors has been deprecated. Intel oneAPI Math Kernel Library 2025.0 will require Intel(R) Advanced Vector Extensions (Intel(R) AVX) instructions.\n",
      "Intel MKL WARNING: Support of Intel(R) Streaming SIMD Extensions 4.2 (Intel(R) SSE4.2) enabled only processors has been deprecated. Intel oneAPI Math Kernel Library 2025.0 will require Intel(R) Advanced Vector Extensions (Intel(R) AVX) instructions.\n"
     ]
    },
    {
     "name": "stderr",
     "output_type": "stream",
     "text": [
      "2023-10-30 04:02:50.426382: I tensorflow/core/platform/cpu_feature_guard.cc:182] This TensorFlow binary is optimized to use available CPU instructions in performance-critical operations.\n",
      "To enable the following instructions: SSE4.1 SSE4.2, in other operations, rebuild TensorFlow with the appropriate compiler flags.\n"
     ]
    },
    {
     "name": "stdout",
     "output_type": "stream",
     "text": [
      "Using TensorFlow backend\n"
     ]
    }
   ],
   "source": [
    "import sys\n",
    "from pathlib import Path\n",
    "import pandas as pd\n",
    "# import geopandas as gpd\n",
    "import numpy as np\n",
    "import os\n",
    "from pathlib import Path\n",
    "import time\n",
    "from random import randint\n",
    "import json\n",
    "\n",
    "\n",
    "from sklearn.preprocessing import StandardScaler, MinMaxScaler\n",
    "from sklearn.model_selection import KFold, ShuffleSplit, RepeatedKFold, train_test_split, GridSearchCV\n",
    "from sklearn.linear_model import ElasticNetCV, ElasticNet\n",
    "from sklearn.ensemble import RandomForestRegressor\n",
    "\n",
    "import numpy as np\n",
    "from datetime import datetime\n",
    "import matplotlib.pyplot as plt\n",
    "\n",
    "import tensorflow as tf\n",
    "from tensorflow import keras\n",
    "import keras_tuner as kt\n",
    "\n",
    "import HydroErr as he\n",
    "import pickle"
   ]
  },
  {
   "cell_type": "code",
   "execution_count": 2,
   "metadata": {},
   "outputs": [],
   "source": [
    "proj_dir = Path(\"../../..\")"
   ]
  },
  {
   "cell_type": "code",
   "execution_count": 3,
   "metadata": {},
   "outputs": [],
   "source": [
    "utils = str(proj_dir / 'utils')\n",
    "sys.path.insert(0, utils)\n",
    "from sql import connect # utility functions for connecting to MySQL"
   ]
  },
  {
   "cell_type": "code",
   "execution_count": 4,
   "metadata": {},
   "outputs": [
    {
     "name": "stdout",
     "output_type": "stream",
     "text": [
      "Connecting to MySQL database...\n",
      "Connection established.\n"
     ]
    }
   ],
   "source": [
    "# Create a connection object to the MySQL database\n",
    "# conn = connect.Connect(str(proj_dir / \"Methods/2.Data/DBManagement/mysql_config.ini\"))\n",
    "conn = connect.Connect(str(proj_dir / \".env/mysql_config.ini\"))\n",
    "connection = conn.conn"
   ]
  },
  {
   "cell_type": "code",
   "execution_count": 5,
   "metadata": {},
   "outputs": [],
   "source": [
    "reaches_and_dams = pd.read_csv(proj_dir / \"Methods/machine_learning/ML2/reaches_and_dams.csv\")"
   ]
  },
  {
   "cell_type": "code",
   "execution_count": 6,
   "metadata": {},
   "outputs": [],
   "source": [
    "reaches_of_interest = [\"Columbia_River_59\",\"Willamette_River_15\", \"Kootenay_River_47\", \"Okanogan_River_29\"]\n",
    "# also test for Willamette_River_16, Kootenay_River_47, "
   ]
  },
  {
   "cell_type": "code",
   "execution_count": 7,
   "metadata": {},
   "outputs": [],
   "source": [
    "# query = f\"\"\"\n",
    "# SELECT \n",
    "#     STR_TO_DATE(CONCAT(Year,\n",
    "#                     '-',\n",
    "#                     LPAD(Month, 2, '00'),\n",
    "#                     '-',\n",
    "#                     LPAD(DayOfMonth, 2, '00')),\n",
    "#             '%Y-%m-%d') AS Date,\n",
    "#     Month,\n",
    "#     DayOfMonth,\n",
    "#     ROUND(WaterTemp, 2) as WaterTemp,\n",
    "#     ROUND(LandTemp, 2) as LandTemp,\n",
    "#     ROUND(NDVI, 2) as NDVI,\n",
    "#     ClimateClass,\n",
    "#     --     ROUND(((watertemp - WaterTemperature) / WaterTemperature),\n",
    "#     --             2) AS PercentDeviation,\n",
    "#     --     ROUND((watertemp - WaterTemperature), 2) AS Deviation,\n",
    "#     Width,\n",
    "#     ReachID,\n",
    "#     ReachName,\n",
    "#     ROUND(InsituTemp, 2) AS InsituTemp\n",
    "# FROM\n",
    "#     (SELECT \n",
    "#         IF(DAY(ReachLandsatWaterTemp.date) < 15, 1, 15) AS DayOfMonth,\n",
    "#             MONTH(ReachLandsatWaterTemp.date) AS Month,\n",
    "#             YEAR(ReachLandsatWaterTemp.date) AS Year,\n",
    "#             AVG(ReachLandsatWaterTemp.Value) AS WaterTemp,\n",
    "#             AVG(ReachLandsatLandTemp.Value) AS LandTemp,\n",
    "#             AVG(ReachNDVI.Value) AS NDVI,\n",
    "#             IFNULL(Reaches.WidthMean, 30) AS Width,\n",
    "#             Reaches.ClimateClass AS ClimateClass,\n",
    "#             ReachLandsatWaterTemp.ReachID AS ReachID,\n",
    "#             Reaches.Name AS ReachName\n",
    "#     FROM\n",
    "#         ReachLandsatWaterTemp\n",
    "#     INNER JOIN ReachLandsatLandTemp USING (date , ReachID)\n",
    "#     INNER JOIN ReachNDVI USING (date , ReachID)\n",
    "#     INNER JOIN Reaches USING (ReachID)\n",
    "#     -- WHERE\n",
    "#     --    Reaches.Name NOT IN {tuple(reaches_of_interest)}\n",
    "#     --        AND ReachLandsatWaterTemp.Value > 0\n",
    "#     GROUP BY DayOfMonth , Month , Year , ClimateClass , ReachID , Width) AS T\n",
    "#     --         INNER JOIN\n",
    "#     --     ReachLandsatLTMSemiMonthly USING (DayOfMonth , Month , ReachID)\n",
    "#         LEFT JOIN\n",
    "#     (SELECT \n",
    "#         IF(DAY(ReachInsituWaterTemp.date) < 15, 1, 15) AS DayOfMonth,\n",
    "#             MONTH(ReachInsituWaterTemp.date) AS Month,\n",
    "#             YEAR(ReachInsituWaterTemp.date) AS Year,\n",
    "#             AVG(ReachInsituWaterTemp.Value) AS InsituTemp,\n",
    "#             ReachInsituWaterTemp.ReachID AS ReachID\n",
    "#     FROM\n",
    "#         ReachInsituWaterTemp\n",
    "#     INNER JOIN Reaches USING (ReachID)\n",
    "#     WHERE\n",
    "#         ReachInsituWaterTemp.Value > 0\n",
    "#     GROUP BY DayOfMonth , Month , Year , ReachID) AS I USING (DayOfMonth , Month , Year , ReachID)\n",
    "# -- ORDER BY RAND();\n",
    "# \"\"\" \n",
    "# # print(query)\n",
    "\n",
    "# df = conn.query_with_fetchmany(query, chunksize=100)\n",
    "\n",
    "# df.to_csv(proj_dir / \"Methods/2.Data/ML_input_data.csv\", index=False)\n",
    "\n",
    "df = pd.read_csv(proj_dir / \"Methods/2.Data/ML_input_data.csv\")"
   ]
  },
  {
   "cell_type": "code",
   "execution_count": 8,
   "metadata": {},
   "outputs": [],
   "source": [
    "# df = pd.concat([chunk for chunk in data], ignore_index=True)\n",
    "df['Date'] = pd.to_datetime(df['Date'])\n",
    "df['DayOfYear'] = df['Date'].dt.dayofyear\n",
    "\n",
    "dels = pd.read_csv(proj_dir / \"Methods/3.WaterTempEst/rat_dels.csv\")\n",
    "dels[\"Date\"] = pd.to_datetime(dels[\"Date\"])\n",
    "sarea = pd.read_csv(proj_dir / \"Methods/3.WaterTempEst/rat_sarea.csv\")\n",
    "sarea[\"Date\"] = pd.to_datetime(sarea[\"Date\"])"
   ]
  },
  {
   "cell_type": "code",
   "execution_count": 9,
   "metadata": {},
   "outputs": [],
   "source": [
    "df = df.merge(reaches_and_dams, on=\"ReachName\", how=\"left\")\n",
    "df = df.merge(dels, on=[\"GranD_ID\", \"Date\"], how=\"left\")\n",
    "df = df.merge(sarea, on=[\"GranD_ID\", \"Date\"], how=\"left\")\n",
    "\n",
    "df.rename(columns={\"dS (m3)\": \"dels\", \"area (km2)\": \"sarea\", \"Within_n*10km\": \"rel_dist\"}, inplace=True)\n",
    "\n",
    "original_cols = df.columns\n",
    "# df.head()"
   ]
  },
  {
   "cell_type": "code",
   "execution_count": 10,
   "metadata": {},
   "outputs": [],
   "source": [
    "# plot kde of dels\n",
    "# df[abs(df[\"dels\"])>0][\"dels\"].plot.kde()\n",
    "# df[\"sarea\"].plot.kde()\n",
    "# df[\"sarea_scaled\"].plot.kde()"
   ]
  },
  {
   "cell_type": "code",
   "execution_count": 11,
   "metadata": {},
   "outputs": [
    {
     "name": "stderr",
     "output_type": "stream",
     "text": [
      "/Users/gdarkwah/opt/anaconda3/envs/tensorflow/lib/python3.11/site-packages/sklearn/base.py:348: InconsistentVersionWarning: Trying to unpickle estimator MinMaxScaler from version 1.3.0 when using version 1.3.2. This might lead to breaking code or invalid results. Use at your own risk. For more info please refer to:\n",
      "https://scikit-learn.org/stable/model_persistence.html#security-maintainability-limitations\n",
      "  warnings.warn(\n",
      "/Users/gdarkwah/opt/anaconda3/envs/tensorflow/lib/python3.11/site-packages/sklearn/base.py:348: InconsistentVersionWarning: Trying to unpickle estimator StandardScaler from version 1.3.0 when using version 1.3.2. This might lead to breaking code or invalid results. Use at your own risk. For more info please refer to:\n",
      "https://scikit-learn.org/stable/model_persistence.html#security-maintainability-limitations\n",
      "  warnings.warn(\n"
     ]
    }
   ],
   "source": [
    "# Scalers\n",
    "# load scalers and model\n",
    "with open(proj_dir / f\"Results/2.WaterTempEst/scalers.pkl\", \"rb\") as f:\n",
    "    scalers = pickle.load(f)\n",
    "\n",
    "    dayofmonth_scaler = scalers[\"dayofmonth_scaler\"]\n",
    "    month_scaler = scalers[\"month_scaler\"]\n",
    "    watertemp_scaler =  scalers[\"watertemp_scaler\"]\n",
    "    landtemp_scaler = scalers[\"landtemp_scaler\"]\n",
    "    width_scaler = scalers[\"width_scaler\"]\n",
    "    NDVI_scaler = scalers[\"NDVI_scaler\"]\n",
    "    climate_scaler = scalers[\"climate_scaler\"]\n",
    "    dels_scaler =   scalers[\"dels_scaler\"]\n",
    "    sarea_scaler = scalers[\"sarea_scaler\"]\n",
    "    rel_dist_scaler = scalers[\"rel_dist_scaler\"]\n",
    "\n",
    "# # define scalers\n",
    "# dayofmonth_scaler = MinMaxScaler(feature_range=(0, 1)).fit(pd.DataFrame({'DayOfMonth': range(1, 15+1)}))\n",
    "# month_scaler = MinMaxScaler(feature_range=(0, 1)).fit(pd.DataFrame({'Month': range(1, 12+1)}))\n",
    "# watertemp_scaler = StandardScaler().fit(df[['WaterTemp']])\n",
    "# landtemp_scaler = StandardScaler().fit(df[['LandTemp']])\n",
    "# # watertemp_scaler = MinMaxScaler(feature_range=(0, 1)).fit(df3[['WaterTemp']])\n",
    "# # landtemp_scaler = MinMaxScaler(feature_range=(0, 1)).fit(df3[['LandTemp']])\n",
    "# width_scaler = MinMaxScaler(feature_range=(0, 1)).fit(df[['Width']])\n",
    "# NDVI_scaler = StandardScaler().fit(df[['NDVI']])\n",
    "# # NDVI_scaler = MinMaxScaler(feature_range=(-1, 1)).fit(df3[['NDVI']])\n",
    "# climate_scaler = MinMaxScaler(feature_range=(0, 1)).fit(pd.DataFrame({'ClimateClass': range(1, 30+1)}))\n",
    "# dels_scaler = MinMaxScaler(feature_range=(0, 1)).fit(df[['dels']])\n",
    "# sarea_scaler = MinMaxScaler(feature_range=(0, 1)).fit(df[['sarea']])\n",
    "# rel_dist_scaler = MinMaxScaler(feature_range=(0, 1)).fit(pd.DataFrame({'rel_dist': range(0, 5+1)}))\n",
    "\n",
    "# replace missing values for dels, sarea, and rel_dist with the 0\n",
    "df[\"dels\"].fillna(0, inplace=True)\n",
    "df[\"sarea\"].fillna(0, inplace=True)\n",
    "df[\"rel_dist\"].fillna(0, inplace=True)\n",
    "\n",
    "# Scale values\n",
    "df[\"DayOfMonth_scaled\"] = dayofmonth_scaler.transform(df[[\"DayOfMonth\"]])\n",
    "df[\"Month_scaled\"] = month_scaler.transform(df[[\"Month\"]])\n",
    "df[\"LandTemp_scaled\"] = landtemp_scaler.transform(df[[\"LandTemp\"]])\n",
    "df[\"WaterTemp_scaled\"] = watertemp_scaler.transform(df[[\"WaterTemp\"]])\n",
    "df[\"Width_scaled\"] = width_scaler.transform(df[[\"Width\"]])\n",
    "df[\"NDVI_scaled\"] = NDVI_scaler.transform(df[[\"NDVI\"]])\n",
    "df[\"ClimateClass_scaled\"] = climate_scaler.transform(df[[\"ClimateClass\"]])\n",
    "df[\"dels_scaled\"] = dels_scaler.transform(df[[\"dels\"]])\n",
    "df[\"sarea_scaled\"] = sarea_scaler.transform(df[[\"sarea\"]])\n",
    "df[\"rel_dist_scaled\"] = rel_dist_scaler.transform(df[[\"rel_dist\"]])\n",
    "\n",
    "# # save the scalers\n",
    "# with open(proj_dir / f\"Results/2.WaterTempEst/scalers.pkl\", \"wb\") as f:\n",
    "#     pickle.dump({\n",
    "#         \"dayofmonth_scaler\": dayofmonth_scaler,\n",
    "#         \"month_scaler\": month_scaler,\n",
    "#         \"watertemp_scaler\": watertemp_scaler,\n",
    "#         \"landtemp_scaler\": landtemp_scaler,\n",
    "#         \"width_scaler\": width_scaler,\n",
    "#         \"NDVI_scaler\": NDVI_scaler,\n",
    "#         \"climate_scaler\": climate_scaler,\n",
    "#         \"dels_scaler\": dels_scaler,\n",
    "#         \"sarea_scaler\": sarea_scaler,\n",
    "#         \"rel_dist_scaler\": rel_dist_scaler,\n",
    "#     }, f)"
   ]
  },
  {
   "cell_type": "code",
   "execution_count": 12,
   "metadata": {},
   "outputs": [],
   "source": [
    "handpicked = df[\n",
    "    (df[\"ReachName\"].isin(reaches_of_interest)) & (df[\"InsituTemp\"].notnull())\n",
    "].copy()\n",
    "\n",
    "# X and y to be used for model (excluding handpicked reaches of interest)\n",
    "X = df[(~df[\"ReachName\"].isin(reaches_of_interest)) & (df[\"InsituTemp\"].notnull())][\n",
    "    [\n",
    "        \"DayOfMonth_scaled\",\n",
    "        \"Month_scaled\",\n",
    "        \"LandTemp_scaled\",\n",
    "        \"Width_scaled\",\n",
    "        \"NDVI_scaled\",\n",
    "        \"ClimateClass_scaled\",\n",
    "        # \"dels_scaled\",\n",
    "        # \"sarea_scaled\",\n",
    "        # \"rel_dist_scaled\",\n",
    "    ]\n",
    "]\n",
    "X2 = df[(~df[\"ReachName\"].isin(reaches_of_interest)) & (df[\"InsituTemp\"].notnull())][\n",
    "    [\n",
    "        \"dels_scaled\",\n",
    "        \"sarea_scaled\",\n",
    "        \"rel_dist_scaled\",\n",
    "    ]\n",
    "]\n",
    "y_lsat = df[\n",
    "    (~df[\"ReachName\"].isin(reaches_of_interest)) & (df[\"InsituTemp\"].notnull())\n",
    "][\"WaterTemp\"]\n",
    "y = df[(~df[\"ReachName\"].isin(reaches_of_interest)) & (df[\"InsituTemp\"].notnull())][\n",
    "    \"InsituTemp\"\n",
    "]\n",
    "\n",
    "# dev set and test set (including handpicked reaches of interest)\n",
    "dev_set, test_set = train_test_split(\n",
    "    df[(~df[\"ReachName\"].isin(reaches_of_interest)) & (df[\"InsituTemp\"].notnull())],\n",
    "    test_size=0.1,\n",
    "    random_state=1993,\n",
    ")\n",
    "test_set = pd.concat([test_set, handpicked])\n",
    "\n",
    "X_dev = dev_set[\n",
    "    [\n",
    "        \"DayOfMonth_scaled\",\n",
    "        \"Month_scaled\",\n",
    "        \"LandTemp_scaled\",\n",
    "        \"Width_scaled\",\n",
    "        \"NDVI_scaled\",\n",
    "        \"ClimateClass_scaled\",\n",
    "        # \"dels_scaled\",\n",
    "        # \"sarea_scaled\",\n",
    "        # \"rel_dist_scaled\",\n",
    "    ]\n",
    "]\n",
    "X2_dev = dev_set[\n",
    "    [\n",
    "        \"dels_scaled\",\n",
    "        \"sarea_scaled\",\n",
    "        \"rel_dist_scaled\",\n",
    "    ]\n",
    "]\n",
    "y_dev = dev_set[\"InsituTemp\"]\n",
    "y_dev_lsat = dev_set[\"WaterTemp\"]\n",
    "\n",
    "X_test = test_set[\n",
    "    [\n",
    "        \"DayOfMonth_scaled\",\n",
    "        \"Month_scaled\",\n",
    "        \"LandTemp_scaled\",\n",
    "        \"Width_scaled\",\n",
    "        \"NDVI_scaled\",\n",
    "        \"ClimateClass_scaled\",\n",
    "        # \"dels_scaled\",\n",
    "        # \"sarea_scaled\",\n",
    "        # \"rel_dist_scaled\",\n",
    "    ]\n",
    "]\n",
    "X2_test = test_set[\n",
    "    [\n",
    "        \"dels_scaled\",\n",
    "        \"sarea_scaled\",\n",
    "        \"rel_dist_scaled\",\n",
    "    ]\n",
    "]\n",
    "y_test = test_set[\"InsituTemp\"]\n",
    "y_test_lsat = test_set[\"WaterTemp\"]\n",
    "\n",
    "# X and y for handpicked reaches of interest\n",
    "X_handpicked = handpicked[\n",
    "    [\n",
    "        \"DayOfMonth_scaled\",\n",
    "        \"Month_scaled\",\n",
    "        \"LandTemp_scaled\",\n",
    "        \"Width_scaled\",\n",
    "        \"NDVI_scaled\",\n",
    "        \"ClimateClass_scaled\",\n",
    "        # \"dels_scaled\",\n",
    "        # \"sarea_scaled\",\n",
    "        # \"rel_dist_scaled\",\n",
    "    ]\n",
    "]\n",
    "X2_handpicked = handpicked[\n",
    "    [\n",
    "        \"dels_scaled\",\n",
    "        \"sarea_scaled\",\n",
    "        \"rel_dist_scaled\",\n",
    "    ]\n",
    "]\n",
    "y_handpicked = handpicked[\"InsituTemp\"]\n",
    "y_handpicked_lsat = handpicked[\"WaterTemp\"]"
   ]
  },
  {
   "cell_type": "markdown",
   "metadata": {},
   "source": [
    "## Model Development"
   ]
  },
  {
   "cell_type": "code",
   "execution_count": 13,
   "metadata": {},
   "outputs": [],
   "source": [
    "input1_shape = X.shape[1]\n",
    "input2_shape = X2.shape[1]\n",
    "# print(\"Input shape:\", input_shape)"
   ]
  },
  {
   "cell_type": "code",
   "execution_count": 17,
   "metadata": {},
   "outputs": [],
   "source": [
    "model_name = \"ANN1_b\"\n",
    "block1_model = tf.keras.models.load_model(\n",
    "    proj_dir / f\"Methods/3.WaterTempEst/3.ANN/block1_model.keras\"\n",
    ")\n",
    "\n",
    "\n",
    "class InsituEquivHyperModel(kt.HyperModel):\n",
    "    def __init__(self, \n",
    "                 input1_shape, \n",
    "                #  input2_shape, \n",
    "                #  block1_model\n",
    "                 ):\n",
    "        self.input1_shape = input1_shape\n",
    "        # self.input2_shape = input2_shape\n",
    "        # self.block1_model = block1_model\n",
    "\n",
    "    def build(self, hp):\n",
    "        # Define hyperparameters to tune\n",
    "        hp_units = hp.Int(\"units\", min_value=8, max_value=64, step=8)\n",
    "        hp_learning_rate = hp.Choice(\"learning_rate\", values=[1e-2, 1e-3, 1e-4, 1e-5])\n",
    "        # hp_activation = hp.Choice(\"activation\", values=[\"linear\", \"relu\"])\n",
    "\n",
    "        # First layer representing the residual (from block 1)\n",
    "        input1 = tf.keras.Input(shape=self.input1_shape, name=\"input1\")\n",
    "        residual = tf.keras.layers.Dense(\n",
    "            units=hp_units, name=\"l1\"\n",
    "        )(input1)\n",
    "        x = tf.keras.layers.Dense(16)(residual)\n",
    "        x = tf.keras.layers.Dense(64)(x)\n",
    "        x = tf.keras.layers.Dense(64)(x)\n",
    "        x = tf.keras.layers.Dense(16)(x)\n",
    "        x = tf.keras.layers.Dense(1)(x)\n",
    "\n",
    "        # # Stage 1 block\n",
    "        # stage1_ = self.block1_model.get_layer(\"stage1\")\n",
    "        # stage1_.trainable = False\n",
    "        # stage1_output = stage1_(residual_output)\n",
    "\n",
    "        # # First layer after reservoir inputs - input2\n",
    "        # input2 = tf.keras.Input(shape=self.input2_shape, name=\"input2\")\n",
    "        # x2 = tf.keras.layers.Dense(units=hp_units, activation=hp_activation, name=\"x2\")(\n",
    "        #     input2\n",
    "        # )\n",
    "\n",
    "        # concatenate the residual, stage1_output, and x2\n",
    "        # concat = tf.keras.layers.concatenate([residual_output, stage1_output, x2])\n",
    "        concat = tf.keras.layers.concatenate([residual, x])\n",
    "\n",
    "        output = tf.keras.layers.Dense(16)(concat)\n",
    "        # output = tf.keras.layers.Dense(64)(output)\n",
    "        # output = tf.keras.layers.Dense(64)(output)\n",
    "        # output = tf.keras.layers.Dense(16)(output)\n",
    "        output = tf.keras.layers.Dense(1)(output)\n",
    "\n",
    "        # insitu_equiv_model = tf.keras.Model(inputs=[input1, input2], outputs=output)\n",
    "        insitu_equiv_model = tf.keras.Model(inputs=input1, outputs=output)\n",
    "\n",
    "        insitu_equiv_model.compile(\n",
    "            optimizer=tf.keras.optimizers.Adam(learning_rate=hp_learning_rate),\n",
    "            loss=tf.keras.losses.MeanSquaredError(),\n",
    "            metrics=[\"mse\"],\n",
    "        )\n",
    "\n",
    "        return insitu_equiv_model\n",
    "\n",
    "    def fit(self, hp, model, *args, **kwargs):\n",
    "        return model.fit(\n",
    "            *args,\n",
    "            batch_size=hp.Choice(\"batch_size\", [8, 16, 32, 64]),\n",
    "            **kwargs,\n",
    "        )"
   ]
  },
  {
   "cell_type": "code",
   "execution_count": 18,
   "metadata": {},
   "outputs": [],
   "source": [
    "# Early stopping callback\n",
    "early_stopping = tf.keras.callbacks.EarlyStopping(\n",
    "    monitor=\"val_loss\",\n",
    "    min_delta=0,\n",
    "    patience=5,\n",
    "    verbose=0,\n",
    "    mode=\"auto\",\n",
    "    baseline=None,\n",
    "    restore_best_weights=True,\n",
    "    start_from_epoch=0,\n",
    ")"
   ]
  },
  {
   "cell_type": "code",
   "execution_count": 19,
   "metadata": {},
   "outputs": [],
   "source": [
    "tuner = kt.GridSearch(\n",
    "    InsituEquivHyperModel(\n",
    "        input1_shape,\n",
    "        #   input2_shape,\n",
    "        # block1_model,\n",
    "    ),\n",
    "    objective=\"val_loss\",\n",
    "    # max_trials=10,\n",
    "    # factor=3,\n",
    "    directory=proj_dir / f\"Results/2.WaterTempEst/3.ANN\",\n",
    "    project_name=f\"{model_name}_tuning\",\n",
    "    overwrite=True,\n",
    ")"
   ]
  },
  {
   "cell_type": "code",
   "execution_count": 20,
   "metadata": {},
   "outputs": [
    {
     "name": "stdout",
     "output_type": "stream",
     "text": [
      "Trial 128 Complete [00h 00m 06s]\n",
      "val_loss: 10.735594749450684\n",
      "\n",
      "Best val_loss So Far: 9.556499481201172\n",
      "Total elapsed time: 00h 13m 06s\n"
     ]
    }
   ],
   "source": [
    "tuner.search(\n",
    "    [\n",
    "        X,\n",
    "        #   X2\n",
    "    ],\n",
    "    y,\n",
    "    epochs=1000,\n",
    "    validation_split=0.2,\n",
    "    callbacks=[early_stopping],\n",
    ")"
   ]
  },
  {
   "cell_type": "code",
   "execution_count": 32,
   "metadata": {},
   "outputs": [],
   "source": [
    "# get parameters and scores\n",
    "trials = tuner.oracle.get_best_trials(num_trials=256)\n",
    "hp_list = []\n",
    "for trial in trials:\n",
    "    hp_list.append(trial.hyperparameters.get_config()[\"values\"] | {\"Score\": trial.score})\n",
    "\n",
    "\n",
    "hp_df = pd.DataFrame(hp_list)\n",
    "hp_df.to_csv(proj_dir / f\"Results/2.WaterTempEst/3.ANN/{model_name}hp_tuning.csv\", index=False)\n",
    "\n",
    "best_hps = tuner.get_best_hyperparameters(num_trials=1)[0]\n",
    "\n",
    "# save the best hyperparameters\n",
    "pd.DataFrame(best_hps.values, index=[0]).to_csv(\n",
    "    proj_dir / f\"Results/2.WaterTempEst/3.ANN/{model_name}_hyperparameters.csv\", index=False\n",
    ")"
   ]
  },
  {
   "cell_type": "code",
   "execution_count": 34,
   "metadata": {},
   "outputs": [
    {
     "name": "stdout",
     "output_type": "stream",
     "text": [
      "{'units': 64, 'learning_rate': 0.01, 'activation': 'relu', 'batch_size': 8}\n",
      "Epoch 1/1000\n",
      "184/184 [==============================] - 0s 1ms/step - loss: 5.8161 - mse: 5.8161 - val_loss: 16.2515 - val_mse: 16.2515\n",
      "Epoch 2/1000\n",
      "184/184 [==============================] - 0s 1ms/step - loss: 5.6386 - mse: 5.6386 - val_loss: 12.2898 - val_mse: 12.2898\n",
      "Epoch 3/1000\n",
      "184/184 [==============================] - 0s 933us/step - loss: 5.3146 - mse: 5.3146 - val_loss: 20.5211 - val_mse: 20.5211\n",
      "Epoch 4/1000\n",
      "184/184 [==============================] - 0s 853us/step - loss: 5.3383 - mse: 5.3383 - val_loss: 15.8459 - val_mse: 15.8459\n",
      "Epoch 5/1000\n",
      "184/184 [==============================] - 0s 821us/step - loss: 5.2307 - mse: 5.2307 - val_loss: 17.5319 - val_mse: 17.5319\n",
      "Epoch 6/1000\n",
      "184/184 [==============================] - 0s 855us/step - loss: 5.0224 - mse: 5.0224 - val_loss: 21.4319 - val_mse: 21.4319\n",
      "Epoch 7/1000\n",
      "184/184 [==============================] - 0s 862us/step - loss: 4.7763 - mse: 4.7763 - val_loss: 24.2669 - val_mse: 24.2669\n"
     ]
    }
   ],
   "source": [
    "# Build the model with the optimal hyperparameters and train it on the data for 50 epochs\n",
    "# best_hps = tuner.get_best_hyperparameters(num_trials=1)[0]\n",
    "print(best_hps.values)\n",
    "insitu_equiv_model_final = tuner.hypermodel.build(best_hps)\n",
    "history = block1_model.fit(\n",
    "    X, y, epochs=1000, validation_split=0.2, \n",
    "    callbacks=[early_stopping]\n",
    ")"
   ]
  },
  {
   "cell_type": "code",
   "execution_count": null,
   "metadata": {},
   "outputs": [],
   "source": [
    "# save block1_model\n",
    "block1_model.save(proj_dir / f\"Methods/3.WaterTempEst/3.ANN/{model_name}_model.keras\")"
   ]
  },
  {
   "cell_type": "code",
   "execution_count": null,
   "metadata": {},
   "outputs": [],
   "source": [
    "history_df = pd.DataFrame(history.history)\n",
    "history_df[\"epoch\"] = history.epoch\n",
    "history_df[\"epoch\"] = history_df[\"epoch\"] + 1\n",
    "history_df.to_csv(proj_dir / f\"Results/2.WaterTempEst/3.ANN/{model_name}_history.csv\", index=False)\n",
    "# history_df"
   ]
  },
  {
   "cell_type": "code",
   "execution_count": null,
   "metadata": {},
   "outputs": [
    {
     "data": {
      "image/png": "[encoded data removed]",
      "text/plain": [
       "<Figure size 500x500 with 1 Axes>"
      ]
     },
     "metadata": {},
     "output_type": "display_data"
    }
   ],
   "source": [
    "# plot losses for training and validation sets\n",
    "plt.figure(figsize=(5, 5))\n",
    "plt.plot(history.history[\"loss\"], label=\"Training Loss\")\n",
    "plt.plot(history.history[\"val_loss\"], label=\"Validation Loss\")\n",
    "plt.xlabel(\"Epoch\")\n",
    "plt.ylabel(\"Loss (MSE)\")\n",
    "plt.legend()\n",
    "plt.title(\"Losses for Training and Validation Sets Block 1\")\n",
    "plt.grid()"
   ]
  },
  {
   "cell_type": "code",
   "execution_count": 20,
   "metadata": {},
   "outputs": [],
   "source": [
    "# manually choose the best set of hyperparameters based on the plot\n",
    "selected_n_estimators = 150\n",
    "# selected_combination = search.best_params_\n",
    "selected_combination = search.cv_results_[\"params\"][param_n_estimators.index(selected_n_estimators)]"
   ]
  },
  {
   "cell_type": "code",
   "execution_count": 21,
   "metadata": {},
   "outputs": [],
   "source": [
    "# save the hyperparameters\n",
    "hyperparameters = pd.DataFrame(\n",
    "    {\n",
    "        \"hyperparameter\": list(selected_combination.keys()),\n",
    "        \"value\": list(selected_combination.values()),\n",
    "    }\n",
    ")\n",
    "hyperparameters.model = model_name\n",
    "\n",
    "hyperparameters.to_csv(proj_dir / f\"Results/2.WaterTempEst/2.RandomForestRegression/{model_name}_hyperparameters.csv\", index=False)"
   ]
  },
  {
   "cell_type": "markdown",
   "metadata": {},
   "source": [
    "## Model Evaluation (Using cross-validation)"
   ]
  },
  {
   "cell_type": "code",
   "execution_count": 22,
   "metadata": {},
   "outputs": [],
   "source": [
    "model_eval = pd.DataFrame(columns=[\"model\", \"fold\", \"rmse\", \"nse\", \"r_sqaured\", \"mse\"])\n",
    "\n",
    "model_final = search.best_estimator_\n",
    "\n",
    "for i, (train_index, test_index) in enumerate(cv_splitter.split(X)):\n",
    "    X_train_, X_test_ = X.iloc[train_index], X.iloc[test_index]\n",
    "    y_train_, y_test_ = y.iloc[train_index], y.iloc[test_index]\n",
    "    model_final.fit(X_train_, y_train_)\n",
    "    y_pred = model_final.predict(X_test_)\n",
    "    rmse = he.rmse(simulated_array=list(y_pred), observed_array=list(y_test_))\n",
    "    nse = he.nse(simulated_array=list(y_pred), observed_array=list(y_test_))\n",
    "    r_squared = he.r_squared(simulated_array=list(y_pred), observed_array=list(y_test_))\n",
    "    mse = he.mse(simulated_array=list(y_pred), observed_array=list(y_test_))\n",
    "    model_eval = pd.concat([model_eval, pd.DataFrame([[f\"{model_name}\", i, rmse, nse, r_squared, mse]], columns=[\"model\", \"fold\", \"rmse\", \"nse\", \"r_sqaured\", \"mse\"])], ignore_index=True)"
   ]
  },
  {
   "cell_type": "code",
   "execution_count": 23,
   "metadata": {},
   "outputs": [],
   "source": [
    "model_eval.to_csv(proj_dir / f\"Results/2.WaterTempEst/2.RandomForestRegression/{model_name}_eval.csv\", index=False)"
   ]
  },
  {
   "cell_type": "markdown",
   "metadata": {},
   "source": [
    "## Testing (Train with dev set and test with test set)"
   ]
  },
  {
   "cell_type": "code",
   "execution_count": 24,
   "metadata": {},
   "outputs": [],
   "source": [
    "model_final.fit(X_dev, y_dev)\n",
    "y_pred = model_final.predict(X_test)\n",
    "rmse = he.rmse(simulated_array=list(y_pred), observed_array=list(y_test))\n",
    "nse = he.nse(simulated_array=list(y_pred), observed_array=list(y_test))\n",
    "r_squared = he.r_squared(simulated_array=list(y_pred), observed_array=list(y_test))\n",
    "mse = he.mse(simulated_array=list(y_pred), observed_array=list(y_test))\n",
    "\n",
    "model_test = pd.DataFrame([[f\"{model_name}\", rmse, nse, r_squared, mse]], columns=[\"model\", \"rmse\", \"nse\", \"r_sqaured\", \"mse\"])\n",
    "model_test.to_csv(proj_dir / f\"Results/2.WaterTempEst/2.RandomForestRegression/{model_name}_test.csv\", index=False)\n",
    "\n",
    "\n"
   ]
  },
  {
   "cell_type": "code",
   "execution_count": 25,
   "metadata": {},
   "outputs": [],
   "source": [
    "test_set[f\"{model_name}\"] = y_pred\n",
    "test_set.to_csv(proj_dir / f\"Results/2.WaterTempEst/2.RandomForestRegression/{model_name}_test_set.csv\", index=False)"
   ]
  },
  {
   "cell_type": "code",
   "execution_count": 26,
   "metadata": {},
   "outputs": [
    {
     "data": {
      "text/plain": [
       "[<matplotlib.lines.Line2D at 0x14a828450>]"
      ]
     },
     "execution_count": 26,
     "metadata": {},
     "output_type": "execute_result"
    },
    {
     "data": {
      "image/png": "[encoded data removed]",
      "text/plain": [
       "<Figure size 640x480 with 1 Axes>"
      ]
     },
     "metadata": {},
     "output_type": "display_data"
    }
   ],
   "source": [
    "# plot the test model vs. insitu\n",
    "fig, ax = plt.subplots()\n",
    "ax.scatter(test_set[\"InsituTemp\"], test_set[f\"{model_name}\"])\n",
    "ax.set_xlabel(\"InsituTemp\")\n",
    "ax.set_ylabel(f\"{model_name}\")\n",
    "ax.set_title(f\"{model_name} vs. InsituTemp\")\n",
    "\n",
    "# add 1:1 line\n",
    "lims = [\n",
    "    np.min([ax.get_xlim(), ax.get_ylim()]),\n",
    "    np.max([ax.get_xlim(), ax.get_ylim()]),\n",
    "]\n",
    "ax.plot(lims, lims, \"k-\", alpha=0.75, zorder=0)\n"
   ]
  },
  {
   "cell_type": "markdown",
   "metadata": {},
   "source": [
    "# Finally, train the model with the complete dataset and store it"
   ]
  },
  {
   "cell_type": "code",
   "execution_count": 27,
   "metadata": {},
   "outputs": [
    {
     "data": {
      "text/html": [
       "<style>#sk-container-id-2 {color: black;}#sk-container-id-2 pre{padding: 0;}#sk-container-id-2 div.sk-toggleable {background-color: white;}#sk-container-id-2 label.sk-toggleable__label {cursor: pointer;display: block;width: 100%;margin-bottom: 0;padding: 0.3em;box-sizing: border-box;text-align: center;}#sk-container-id-2 label.sk-toggleable__label-arrow:before {content: \"▸\";float: left;margin-right: 0.25em;color: #696969;}#sk-container-id-2 label.sk-toggleable__label-arrow:hover:before {color: black;}#sk-container-id-2 div.sk-estimator:hover label.sk-toggleable__label-arrow:before {color: black;}#sk-container-id-2 div.sk-toggleable__content {max-height: 0;max-width: 0;overflow: hidden;text-align: left;background-color: #f0f8ff;}#sk-container-id-2 div.sk-toggleable__content pre {margin: 0.2em;color: black;border-radius: 0.25em;background-color: #f0f8ff;}#sk-container-id-2 input.sk-toggleable__control:checked~div.sk-toggleable__content {max-height: 200px;max-width: 100%;overflow: auto;}#sk-container-id-2 input.sk-toggleable__control:checked~label.sk-toggleable__label-arrow:before {content: \"▾\";}#sk-container-id-2 div.sk-estimator input.sk-toggleable__control:checked~label.sk-toggleable__label {background-color: #d4ebff;}#sk-container-id-2 div.sk-label input.sk-toggleable__control:checked~label.sk-toggleable__label {background-color: #d4ebff;}#sk-container-id-2 input.sk-hidden--visually {border: 0;clip: rect(1px 1px 1px 1px);clip: rect(1px, 1px, 1px, 1px);height: 1px;margin: -1px;overflow: hidden;padding: 0;position: absolute;width: 1px;}#sk-container-id-2 div.sk-estimator {font-family: monospace;background-color: #f0f8ff;border: 1px dotted black;border-radius: 0.25em;box-sizing: border-box;margin-bottom: 0.5em;}#sk-container-id-2 div.sk-estimator:hover {background-color: #d4ebff;}#sk-container-id-2 div.sk-parallel-item::after {content: \"\";width: 100%;border-bottom: 1px solid gray;flex-grow: 1;}#sk-container-id-2 div.sk-label:hover label.sk-toggleable__label {background-color: #d4ebff;}#sk-container-id-2 div.sk-serial::before {content: \"\";position: absolute;border-left: 1px solid gray;box-sizing: border-box;top: 0;bottom: 0;left: 50%;z-index: 0;}#sk-container-id-2 div.sk-serial {display: flex;flex-direction: column;align-items: center;background-color: white;padding-right: 0.2em;padding-left: 0.2em;position: relative;}#sk-container-id-2 div.sk-item {position: relative;z-index: 1;}#sk-container-id-2 div.sk-parallel {display: flex;align-items: stretch;justify-content: center;background-color: white;position: relative;}#sk-container-id-2 div.sk-item::before, #sk-container-id-2 div.sk-parallel-item::before {content: \"\";position: absolute;border-left: 1px solid gray;box-sizing: border-box;top: 0;bottom: 0;left: 50%;z-index: -1;}#sk-container-id-2 div.sk-parallel-item {display: flex;flex-direction: column;z-index: 1;position: relative;background-color: white;}#sk-container-id-2 div.sk-parallel-item:first-child::after {align-self: flex-end;width: 50%;}#sk-container-id-2 div.sk-parallel-item:last-child::after {align-self: flex-start;width: 50%;}#sk-container-id-2 div.sk-parallel-item:only-child::after {width: 0;}#sk-container-id-2 div.sk-dashed-wrapped {border: 1px dashed gray;margin: 0 0.4em 0.5em 0.4em;box-sizing: border-box;padding-bottom: 0.4em;background-color: white;}#sk-container-id-2 div.sk-label label {font-family: monospace;font-weight: bold;display: inline-block;line-height: 1.2em;}#sk-container-id-2 div.sk-label-container {text-align: center;}#sk-container-id-2 div.sk-container {/* jupyter's `normalize.less` sets `[hidden] { display: none; }` but bootstrap.min.css set `[hidden] { display: none !important; }` so we also need the `!important` here to be able to override the default hidden behavior on the sphinx rendered scikit-learn.org. See: https://github.com/scikit-learn/scikit-learn/issues/21755 */display: inline-block !important;position: relative;}#sk-container-id-2 div.sk-text-repr-fallback {display: none;}</style><div id=\"sk-container-id-2\" class=\"sk-top-container\"><div class=\"sk-text-repr-fallback\"><pre>RandomForestRegressor(n_estimators=1000, random_state=1993)</pre><b>In a Jupyter environment, please rerun this cell to show the HTML representation or trust the notebook. <br />On GitHub, the HTML representation is unable to render, please try loading this page with nbviewer.org.</b></div><div class=\"sk-container\" hidden><div class=\"sk-item\"><div class=\"sk-estimator sk-toggleable\"><input class=\"sk-toggleable__control sk-hidden--visually\" id=\"sk-estimator-id-4\" type=\"checkbox\" checked><label for=\"sk-estimator-id-4\" class=\"sk-toggleable__label sk-toggleable__label-arrow\">RandomForestRegressor</label><div class=\"sk-toggleable__content\"><pre>RandomForestRegressor(n_estimators=1000, random_state=1993)</pre></div></div></div></div></div>"
      ],
      "text/plain": [
       "RandomForestRegressor(n_estimators=1000, random_state=1993)"
      ]
     },
     "execution_count": 27,
     "metadata": {},
     "output_type": "execute_result"
    }
   ],
   "source": [
    "# X and y to be used for final model (excluding handpicked reaches of interest)\n",
    "X_final = df[\n",
    "    (~df[\"ReachName\"].isin(reaches_of_interest)) & (df[\"InsituTemp\"].notnull())\n",
    "][\n",
    "    [\n",
    "        \"DayOfMonth_scaled\",\n",
    "        \"Month_scaled\",\n",
    "        \"LandTemp_scaled\",\n",
    "        \"Width_scaled\",\n",
    "        \"NDVI_scaled\",\n",
    "        \"ClimateClass_scaled\",\n",
    "        # \"dels_scaled\",\n",
    "        # \"sarea_scaled\",\n",
    "        # \"rel_dist_scaled\",\n",
    "    ]\n",
    "]\n",
    "y_final = df[\n",
    "    (~df[\"ReachName\"].isin(reaches_of_interest)) & (df[\"InsituTemp\"].notnull())\n",
    "][\"InsituTemp\"]\n",
    "\n",
    "model_final.fit(X_final, y_final)\n",
    "\n",
    "# # save the coefficients\n",
    "# coefficients = pd.DataFrame(\n",
    "#     {\n",
    "#         \"variable\": X_final.columns.to_list() + [\"intercept\"],\n",
    "#         \"coefficient\": model_final.coef_.tolist() + [model_final.intercept_],\n",
    "#     }\n",
    "# )\n",
    "# coefficients[\"model\"] = model_name\n",
    "\n",
    "# coefficients.to_csv(proj_dir / f\"Results/2.WaterTempEst/2.RandomForestRegression/{model_name}_coefficients.csv\", index=False)"
   ]
  },
  {
   "cell_type": "code",
   "execution_count": 28,
   "metadata": {},
   "outputs": [],
   "source": [
    "# save the model\n",
    "with open(proj_dir / f\"Results/2.WaterTempEst/2.RandomForestRegression/{model_name}_final_model.pkl\", \"wb\") as f:\n",
    "    pickle.dump(model_final, f)"
   ]
  }
 ],
 "metadata": {
  "kernelspec": {
   "display_name": "hydrothermal-history",
   "language": "python",
   "name": "python3"
  },
  "language_info": {
   "codemirror_mode": {
    "name": "ipython",
    "version": 3
   },
   "file_extension": ".py",
   "mimetype": "text/x-python",
   "name": "python",
   "nbconvert_exporter": "python",
   "pygments_lexer": "ipython3",
   "version": "3.11.4"
  }
 },
 "nbformat": 4,
 "nbformat_minor": 2
}
