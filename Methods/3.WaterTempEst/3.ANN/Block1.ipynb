{
 "cells": [
  {
   "cell_type": "markdown",
   "metadata": {},
   "source": [
    "# Artificial Neural Network Block 1 (Block1)\n",
    "Without reservoir dynamics"
   ]
  },
  {
   "cell_type": "markdown",
   "metadata": {},
   "source": [
    "## Data Processing"
   ]
  },
  {
   "cell_type": "code",
   "execution_count": 1,
   "metadata": {},
   "outputs": [
    {
     "name": "stdout",
     "output_type": "stream",
     "text": [
      "Intel MKL WARNING: Support of Intel(R) Streaming SIMD Extensions 4.2 (Intel(R) SSE4.2) enabled only processors has been deprecated. Intel oneAPI Math Kernel Library 2025.0 will require Intel(R) Advanced Vector Extensions (Intel(R) AVX) instructions.\n",
      "Intel MKL WARNING: Support of Intel(R) Streaming SIMD Extensions 4.2 (Intel(R) SSE4.2) enabled only processors has been deprecated. Intel oneAPI Math Kernel Library 2025.0 will require Intel(R) Advanced Vector Extensions (Intel(R) AVX) instructions.\n"
     ]
    },
    {
     "name": "stderr",
     "output_type": "stream",
     "text": [
      "2023-10-29 20:41:31.792091: I tensorflow/core/platform/cpu_feature_guard.cc:182] This TensorFlow binary is optimized to use available CPU instructions in performance-critical operations.\n",
      "To enable the following instructions: SSE4.1 SSE4.2, in other operations, rebuild TensorFlow with the appropriate compiler flags.\n"
     ]
    },
    {
     "name": "stdout",
     "output_type": "stream",
     "text": [
      "Using TensorFlow backend\n"
     ]
    }
   ],
   "source": [
    "import sys\n",
    "from pathlib import Path\n",
    "import pandas as pd\n",
    "# import geopandas as gpd\n",
    "import numpy as np\n",
    "import os\n",
    "from pathlib import Path\n",
    "import time\n",
    "from random import randint\n",
    "import json\n",
    "\n",
    "\n",
    "from sklearn.preprocessing import StandardScaler, MinMaxScaler\n",
    "from sklearn.model_selection import KFold, ShuffleSplit, RepeatedKFold, train_test_split, GridSearchCV\n",
    "from sklearn.linear_model import ElasticNetCV, ElasticNet\n",
    "from sklearn.ensemble import RandomForestRegressor\n",
    "\n",
    "import numpy as np\n",
    "from datetime import datetime\n",
    "import matplotlib.pyplot as plt\n",
    "\n",
    "import tensorflow as tf\n",
    "from tensorflow import keras\n",
    "import keras_tuner as kt\n",
    "\n",
    "import HydroErr as he\n",
    "import pickle"
   ]
  },
  {
   "cell_type": "code",
   "execution_count": 2,
   "metadata": {},
   "outputs": [],
   "source": [
    "proj_dir = Path(\"../../..\")"
   ]
  },
  {
   "cell_type": "code",
   "execution_count": 3,
   "metadata": {},
   "outputs": [],
   "source": [
    "utils = str(proj_dir / 'utils')\n",
    "sys.path.insert(0, utils)\n",
    "from sql import connect # utility functions for connecting to MySQL"
   ]
  },
  {
   "cell_type": "code",
   "execution_count": 4,
   "metadata": {},
   "outputs": [
    {
     "name": "stdout",
     "output_type": "stream",
     "text": [
      "Connecting to MySQL database...\n",
      "Connection established.\n"
     ]
    }
   ],
   "source": [
    "# Create a connection object to the MySQL database\n",
    "# conn = connect.Connect(str(proj_dir / \"Methods/2.Data/DBManagement/mysql_config.ini\"))\n",
    "conn = connect.Connect(str(proj_dir / \".env/mysql_config.ini\"))\n",
    "connection = conn.conn"
   ]
  },
  {
   "cell_type": "code",
   "execution_count": 5,
   "metadata": {},
   "outputs": [],
   "source": [
    "reaches_and_dams = pd.read_csv(proj_dir / \"Methods/machine_learning/ML2/reaches_and_dams.csv\")"
   ]
  },
  {
   "cell_type": "code",
   "execution_count": 6,
   "metadata": {},
   "outputs": [],
   "source": [
    "reaches_of_interest = [\"Columbia_River_59\",\"Willamette_River_15\", \"Kootenay_River_47\", \"Okanogan_River_29\"]\n",
    "# also test for Willamette_River_16, Kootenay_River_47, "
   ]
  },
  {
   "cell_type": "code",
   "execution_count": 7,
   "metadata": {},
   "outputs": [],
   "source": [
    "# query = f\"\"\"\n",
    "# SELECT \n",
    "#     STR_TO_DATE(CONCAT(Year,\n",
    "#                     '-',\n",
    "#                     LPAD(Month, 2, '00'),\n",
    "#                     '-',\n",
    "#                     LPAD(DayOfMonth, 2, '00')),\n",
    "#             '%Y-%m-%d') AS Date,\n",
    "#     Month,\n",
    "#     DayOfMonth,\n",
    "#     ROUND(WaterTemp, 2) as WaterTemp,\n",
    "#     ROUND(LandTemp, 2) as LandTemp,\n",
    "#     ROUND(NDVI, 2) as NDVI,\n",
    "#     ClimateClass,\n",
    "#     --     ROUND(((watertemp - WaterTemperature) / WaterTemperature),\n",
    "#     --             2) AS PercentDeviation,\n",
    "#     --     ROUND((watertemp - WaterTemperature), 2) AS Deviation,\n",
    "#     Width,\n",
    "#     ReachID,\n",
    "#     ReachName,\n",
    "#     ROUND(InsituTemp, 2) AS InsituTemp\n",
    "# FROM\n",
    "#     (SELECT \n",
    "#         IF(DAY(ReachLandsatWaterTemp.date) < 15, 1, 15) AS DayOfMonth,\n",
    "#             MONTH(ReachLandsatWaterTemp.date) AS Month,\n",
    "#             YEAR(ReachLandsatWaterTemp.date) AS Year,\n",
    "#             AVG(ReachLandsatWaterTemp.Value) AS WaterTemp,\n",
    "#             AVG(ReachLandsatLandTemp.Value) AS LandTemp,\n",
    "#             AVG(ReachNDVI.Value) AS NDVI,\n",
    "#             IFNULL(Reaches.WidthMean, 30) AS Width,\n",
    "#             Reaches.ClimateClass AS ClimateClass,\n",
    "#             ReachLandsatWaterTemp.ReachID AS ReachID,\n",
    "#             Reaches.Name AS ReachName\n",
    "#     FROM\n",
    "#         ReachLandsatWaterTemp\n",
    "#     INNER JOIN ReachLandsatLandTemp USING (date , ReachID)\n",
    "#     INNER JOIN ReachNDVI USING (date , ReachID)\n",
    "#     INNER JOIN Reaches USING (ReachID)\n",
    "#     -- WHERE\n",
    "#     --    Reaches.Name NOT IN {tuple(reaches_of_interest)}\n",
    "#     --        AND ReachLandsatWaterTemp.Value > 0\n",
    "#     GROUP BY DayOfMonth , Month , Year , ClimateClass , ReachID , Width) AS T\n",
    "#     --         INNER JOIN\n",
    "#     --     ReachLandsatLTMSemiMonthly USING (DayOfMonth , Month , ReachID)\n",
    "#         LEFT JOIN\n",
    "#     (SELECT \n",
    "#         IF(DAY(ReachInsituWaterTemp.date) < 15, 1, 15) AS DayOfMonth,\n",
    "#             MONTH(ReachInsituWaterTemp.date) AS Month,\n",
    "#             YEAR(ReachInsituWaterTemp.date) AS Year,\n",
    "#             AVG(ReachInsituWaterTemp.Value) AS InsituTemp,\n",
    "#             ReachInsituWaterTemp.ReachID AS ReachID\n",
    "#     FROM\n",
    "#         ReachInsituWaterTemp\n",
    "#     INNER JOIN Reaches USING (ReachID)\n",
    "#     WHERE\n",
    "#         ReachInsituWaterTemp.Value > 0\n",
    "#     GROUP BY DayOfMonth , Month , Year , ReachID) AS I USING (DayOfMonth , Month , Year , ReachID)\n",
    "# -- ORDER BY RAND();\n",
    "# \"\"\" \n",
    "# # print(query)\n",
    "\n",
    "# df = conn.query_with_fetchmany(query, chunksize=100)\n",
    "\n",
    "# df.to_csv(proj_dir / \"Methods/2.Data/ML_input_data.csv\", index=False)\n",
    "\n",
    "df = pd.read_csv(proj_dir / \"Methods/2.Data/ML_input_data.csv\")"
   ]
  },
  {
   "cell_type": "code",
   "execution_count": 8,
   "metadata": {},
   "outputs": [],
   "source": [
    "# df = pd.concat([chunk for chunk in data], ignore_index=True)\n",
    "df['Date'] = pd.to_datetime(df['Date'])\n",
    "df['DayOfYear'] = df['Date'].dt.dayofyear\n",
    "\n",
    "dels = pd.read_csv(proj_dir / \"Methods/3.WaterTempEst/rat_dels.csv\")\n",
    "dels[\"Date\"] = pd.to_datetime(dels[\"Date\"])\n",
    "sarea = pd.read_csv(proj_dir / \"Methods/3.WaterTempEst/rat_sarea.csv\")\n",
    "sarea[\"Date\"] = pd.to_datetime(sarea[\"Date\"])"
   ]
  },
  {
   "cell_type": "code",
   "execution_count": 9,
   "metadata": {},
   "outputs": [],
   "source": [
    "df = df.merge(reaches_and_dams, on=\"ReachName\", how=\"left\")\n",
    "df = df.merge(dels, on=[\"GranD_ID\", \"Date\"], how=\"left\")\n",
    "df = df.merge(sarea, on=[\"GranD_ID\", \"Date\"], how=\"left\")\n",
    "\n",
    "df.rename(columns={\"dS (m3)\": \"dels\", \"area (km2)\": \"sarea\", \"Within_n*10km\": \"rel_dist\"}, inplace=True)\n",
    "\n",
    "original_cols = df.columns\n",
    "# df.head()"
   ]
  },
  {
   "cell_type": "code",
   "execution_count": 10,
   "metadata": {},
   "outputs": [],
   "source": [
    "# plot kde of dels\n",
    "# df[abs(df[\"dels\"])>0][\"dels\"].plot.kde()\n",
    "# df[\"sarea\"].plot.kde()\n",
    "# df[\"sarea_scaled\"].plot.kde()"
   ]
  },
  {
   "cell_type": "code",
   "execution_count": 11,
   "metadata": {},
   "outputs": [
    {
     "name": "stderr",
     "output_type": "stream",
     "text": [
      "/Users/gdarkwah/opt/anaconda3/envs/tensorflow/lib/python3.11/site-packages/sklearn/base.py:348: InconsistentVersionWarning: Trying to unpickle estimator MinMaxScaler from version 1.3.0 when using version 1.3.2. This might lead to breaking code or invalid results. Use at your own risk. For more info please refer to:\n",
      "https://scikit-learn.org/stable/model_persistence.html#security-maintainability-limitations\n",
      "  warnings.warn(\n",
      "/Users/gdarkwah/opt/anaconda3/envs/tensorflow/lib/python3.11/site-packages/sklearn/base.py:348: InconsistentVersionWarning: Trying to unpickle estimator StandardScaler from version 1.3.0 when using version 1.3.2. This might lead to breaking code or invalid results. Use at your own risk. For more info please refer to:\n",
      "https://scikit-learn.org/stable/model_persistence.html#security-maintainability-limitations\n",
      "  warnings.warn(\n"
     ]
    }
   ],
   "source": [
    "# Scalers\n",
    "# load scalers and model\n",
    "with open(proj_dir / f\"Results/2.WaterTempEst/scalers.pkl\", \"rb\") as f:\n",
    "    scalers = pickle.load(f)\n",
    "\n",
    "    dayofmonth_scaler = scalers[\"dayofmonth_scaler\"]\n",
    "    month_scaler = scalers[\"month_scaler\"]\n",
    "    watertemp_scaler =  scalers[\"watertemp_scaler\"]\n",
    "    landtemp_scaler = scalers[\"landtemp_scaler\"]\n",
    "    width_scaler = scalers[\"width_scaler\"]\n",
    "    NDVI_scaler = scalers[\"NDVI_scaler\"]\n",
    "    climate_scaler = scalers[\"climate_scaler\"]\n",
    "    dels_scaler =   scalers[\"dels_scaler\"]\n",
    "    sarea_scaler = scalers[\"sarea_scaler\"]\n",
    "    rel_dist_scaler = scalers[\"rel_dist_scaler\"]\n",
    "\n",
    "# # define scalers\n",
    "# dayofmonth_scaler = MinMaxScaler(feature_range=(0, 1)).fit(pd.DataFrame({'DayOfMonth': range(1, 15+1)}))\n",
    "# month_scaler = MinMaxScaler(feature_range=(0, 1)).fit(pd.DataFrame({'Month': range(1, 12+1)}))\n",
    "# watertemp_scaler = StandardScaler().fit(df[['WaterTemp']])\n",
    "# landtemp_scaler = StandardScaler().fit(df[['LandTemp']])\n",
    "# # watertemp_scaler = MinMaxScaler(feature_range=(0, 1)).fit(df3[['WaterTemp']])\n",
    "# # landtemp_scaler = MinMaxScaler(feature_range=(0, 1)).fit(df3[['LandTemp']])\n",
    "# width_scaler = MinMaxScaler(feature_range=(0, 1)).fit(df[['Width']])\n",
    "# NDVI_scaler = StandardScaler().fit(df[['NDVI']])\n",
    "# # NDVI_scaler = MinMaxScaler(feature_range=(-1, 1)).fit(df3[['NDVI']])\n",
    "# climate_scaler = MinMaxScaler(feature_range=(0, 1)).fit(pd.DataFrame({'ClimateClass': range(1, 30+1)}))\n",
    "# dels_scaler = MinMaxScaler(feature_range=(0, 1)).fit(df[['dels']])\n",
    "# sarea_scaler = MinMaxScaler(feature_range=(0, 1)).fit(df[['sarea']])\n",
    "# rel_dist_scaler = MinMaxScaler(feature_range=(0, 1)).fit(pd.DataFrame({'rel_dist': range(0, 5+1)}))\n",
    "\n",
    "# replace missing values for dels, sarea, and rel_dist with the 0\n",
    "df[\"dels\"].fillna(0, inplace=True)\n",
    "df[\"sarea\"].fillna(0, inplace=True)\n",
    "df[\"rel_dist\"].fillna(0, inplace=True)\n",
    "\n",
    "# Scale values\n",
    "df[\"DayOfMonth_scaled\"] = dayofmonth_scaler.transform(df[[\"DayOfMonth\"]])\n",
    "df[\"Month_scaled\"] = month_scaler.transform(df[[\"Month\"]])\n",
    "df[\"LandTemp_scaled\"] = landtemp_scaler.transform(df[[\"LandTemp\"]])\n",
    "df[\"WaterTemp_scaled\"] = watertemp_scaler.transform(df[[\"WaterTemp\"]])\n",
    "df[\"Width_scaled\"] = width_scaler.transform(df[[\"Width\"]])\n",
    "df[\"NDVI_scaled\"] = NDVI_scaler.transform(df[[\"NDVI\"]])\n",
    "df[\"ClimateClass_scaled\"] = climate_scaler.transform(df[[\"ClimateClass\"]])\n",
    "df[\"dels_scaled\"] = dels_scaler.transform(df[[\"dels\"]])\n",
    "df[\"sarea_scaled\"] = sarea_scaler.transform(df[[\"sarea\"]])\n",
    "df[\"rel_dist_scaled\"] = rel_dist_scaler.transform(df[[\"rel_dist\"]])\n",
    "\n",
    "# # save the scalers\n",
    "# with open(proj_dir / f\"Results/2.WaterTempEst/scalers.pkl\", \"wb\") as f:\n",
    "#     pickle.dump({\n",
    "#         \"dayofmonth_scaler\": dayofmonth_scaler,\n",
    "#         \"month_scaler\": month_scaler,\n",
    "#         \"watertemp_scaler\": watertemp_scaler,\n",
    "#         \"landtemp_scaler\": landtemp_scaler,\n",
    "#         \"width_scaler\": width_scaler,\n",
    "#         \"NDVI_scaler\": NDVI_scaler,\n",
    "#         \"climate_scaler\": climate_scaler,\n",
    "#         \"dels_scaler\": dels_scaler,\n",
    "#         \"sarea_scaler\": sarea_scaler,\n",
    "#         \"rel_dist_scaler\": rel_dist_scaler,\n",
    "#     }, f)"
   ]
  },
  {
   "cell_type": "code",
   "execution_count": 12,
   "metadata": {},
   "outputs": [],
   "source": [
    "# df.head()"
   ]
  },
  {
   "cell_type": "code",
   "execution_count": 13,
   "metadata": {},
   "outputs": [],
   "source": [
    "# df.columns"
   ]
  },
  {
   "cell_type": "code",
   "execution_count": 14,
   "metadata": {},
   "outputs": [],
   "source": [
    "handpicked = df[(df[\"ReachName\"].isin(reaches_of_interest)) & (df[\"InsituTemp\"].notnull())].copy()\n",
    "\n",
    "# X and y to be used for model (excluding handpicked reaches of interest)\n",
    "X = df[(~df[\"ReachName\"].isin(reaches_of_interest)) & (df[\"InsituTemp\"].notnull())][\n",
    "    [\n",
    "        \"DayOfMonth_scaled\",\n",
    "        \"Month_scaled\",\n",
    "        \"LandTemp_scaled\",\n",
    "        \"Width_scaled\",\n",
    "        \"NDVI_scaled\",\n",
    "        \"ClimateClass_scaled\",\n",
    "        # \"dels_scaled\",\n",
    "        # \"sarea_scaled\",\n",
    "        # \"rel_dist_scaled\",\n",
    "    ]\n",
    "]\n",
    "y_lsat = df[(~df[\"ReachName\"].isin(reaches_of_interest)) & (df[\"InsituTemp\"].notnull())][\"WaterTemp\"]\n",
    "y = df[(~df[\"ReachName\"].isin(reaches_of_interest)) & (df[\"InsituTemp\"].notnull())][\"InsituTemp\"]\n",
    "\n",
    "# dev set and test set (including handpicked reaches of interest)\n",
    "dev_set, test_set = train_test_split(df[(~df[\"ReachName\"].isin(reaches_of_interest)) & (df[\"InsituTemp\"].notnull())], test_size=0.1, random_state=1993)\n",
    "test_set = pd.concat([test_set, handpicked])\n",
    "\n",
    "X_dev = dev_set[\n",
    "    [\n",
    "        \"DayOfMonth_scaled\",\n",
    "        \"Month_scaled\",\n",
    "        \"LandTemp_scaled\",\n",
    "        \"Width_scaled\",\n",
    "        \"NDVI_scaled\",\n",
    "        \"ClimateClass_scaled\",\n",
    "        # \"dels_scaled\",\n",
    "        # \"sarea_scaled\",\n",
    "        # \"rel_dist_scaled\",\n",
    "    ]\n",
    "]\n",
    "y_dev = dev_set[\"InsituTemp\"]\n",
    "y_dev_lsat = dev_set[\"WaterTemp\"]\n",
    "\n",
    "X_test = test_set[\n",
    "    [\n",
    "        \"DayOfMonth_scaled\",\n",
    "        \"Month_scaled\",\n",
    "        \"LandTemp_scaled\",\n",
    "        \"Width_scaled\",\n",
    "        \"NDVI_scaled\",\n",
    "        \"ClimateClass_scaled\",\n",
    "        # \"dels_scaled\",\n",
    "        # \"sarea_scaled\",\n",
    "        # \"rel_dist_scaled\",\n",
    "    ]\n",
    "]\n",
    "y_test = test_set[\"InsituTemp\"]\n",
    "y_test_lsat = test_set[\"WaterTemp\"]\n",
    "\n",
    "# X and y for handpicked reaches of interest\n",
    "X_handpicked = handpicked[\n",
    "    [\n",
    "        \"DayOfMonth_scaled\",\n",
    "        \"Month_scaled\",\n",
    "        \"LandTemp_scaled\",\n",
    "        \"Width_scaled\",\n",
    "        \"NDVI_scaled\",\n",
    "        \"ClimateClass_scaled\",\n",
    "        # \"dels_scaled\",\n",
    "        # \"sarea_scaled\",\n",
    "        # \"rel_dist_scaled\",\n",
    "    ]\n",
    "]\n",
    "y_handpicked = handpicked[\"InsituTemp\"]\n",
    "y_handpicked_lsat = handpicked[\"WaterTemp\"]\n"
   ]
  },
  {
   "cell_type": "markdown",
   "metadata": {},
   "source": [
    "## Model Development"
   ]
  },
  {
   "cell_type": "code",
   "execution_count": 15,
   "metadata": {},
   "outputs": [],
   "source": [
    "input_shape = X.shape[1]\n",
    "# print(\"Input shape:\", input_shape)"
   ]
  },
  {
   "cell_type": "code",
   "execution_count": 65,
   "metadata": {},
   "outputs": [],
   "source": [
    "model_name = \"Block1\"\n",
    "\n",
    "class LsatEquivHyperModel(kt.HyperModel):\n",
    "    def __init__(self, input_shape):\n",
    "        self.input_shape = input_shape\n",
    "\n",
    "    def build(self, hp):\n",
    "        # Define hyperparameters to tune\n",
    "        hp_units = hp.Int(\"units\", min_value=8, max_value=64, step=8)\n",
    "        hp_learning_rate = hp.Choice(\"learning_rate\", values=[1e-2, 1e-3, 1e-4, 1e-5])\n",
    "        hp_activation = hp.Choice(\"activation\", values=[\"linear\", \"relu\"])\n",
    "\n",
    "        # First layer representing the residual\n",
    "        l1_inputs = tf.keras.Input(shape=self.input_shape, name=\"l1_inputs\")\n",
    "        l1_outputs = tf.keras.layers.Dense(\n",
    "            units=hp_units, activation=hp_activation, name=\"l1\"\n",
    "        )(l1_inputs)\n",
    "        residual = tf.keras.Model(inputs=l1_inputs, outputs=l1_outputs, name=\"residual\")\n",
    "\n",
    "        # Stage 1 block\n",
    "        stage1_input_shape = residual.output.shape[1]\n",
    "        stage1_inputs = tf.keras.Input(shape=stage1_input_shape, name=\"stage1_inputs\")\n",
    "        # output1 = ML1Block(name=\"output1\")(stage1_inputs)\n",
    "\n",
    "        x1 = tf.keras.layers.Dense(16)(stage1_inputs)\n",
    "        x1 = tf.keras.layers.Dense(64)(x1)\n",
    "        x1 = tf.keras.layers.Dense(64)(x1)\n",
    "        x1 = tf.keras.layers.Dense(16)(x1)\n",
    "        output1 = tf.keras.layers.Dense(1)(x1)\n",
    "\n",
    "        stage1 = tf.keras.Model(inputs=stage1_inputs, outputs=output1, name=\"stage1\")\n",
    "\n",
    "        # Insitu Equivalent Model\n",
    "        inputs = tf.keras.Input(shape=input_shape, name=\"inputs\")\n",
    "        residual_output = residual(inputs)\n",
    "        stage1_output = stage1(residual_output)\n",
    "        lsat_equiv_model = tf.keras.Model(\n",
    "            inputs=inputs, outputs=stage1_output, name=\"lsat_equiv\"\n",
    "        )\n",
    "\n",
    "        lsat_equiv_model.compile(\n",
    "            optimizer=tf.keras.optimizers.Adam(learning_rate=hp_learning_rate),\n",
    "            loss=tf.keras.losses.MeanSquaredError(),\n",
    "            metrics=[\"mse\"],\n",
    "        )\n",
    "\n",
    "        return lsat_equiv_model\n",
    "\n",
    "    def fit(self, hp, model, *args, **kwargs):\n",
    "        return model.fit(\n",
    "            *args,\n",
    "            batch_size=hp.Choice(\"batch_size\", [8, 16, 32, 64]),\n",
    "            **kwargs,\n",
    "        )"
   ]
  },
  {
   "cell_type": "code",
   "execution_count": 66,
   "metadata": {},
   "outputs": [],
   "source": [
    "# Early stopping callback\n",
    "early_stopping = tf.keras.callbacks.EarlyStopping(\n",
    "    monitor=\"val_loss\",\n",
    "    min_delta=0,\n",
    "    patience=5,\n",
    "    verbose=0,\n",
    "    mode=\"auto\",\n",
    "    baseline=None,\n",
    "    restore_best_weights=True,\n",
    "    start_from_epoch=0,\n",
    ")"
   ]
  },
  {
   "cell_type": "code",
   "execution_count": 88,
   "metadata": {},
   "outputs": [],
   "source": [
    "tuner = kt.GridSearch(\n",
    "    LsatEquivHyperModel(input_shape),\n",
    "    objective=\"val_loss\",\n",
    "    # max_trials=100,\n",
    "    # factor=3,\n",
    "    directory=proj_dir / f\"Results/2.WaterTempEst/3.ANN/blk1_tuning\",\n",
    "    project_name=\"kt_tuning\",\n",
    "    overwrite=True,\n",
    ")"
   ]
  },
  {
   "cell_type": "code",
   "execution_count": 89,
   "metadata": {},
   "outputs": [
    {
     "name": "stdout",
     "output_type": "stream",
     "text": [
      "Trial 256 Complete [00h 00m 32s]\n",
      "val_loss: 5.796325206756592\n",
      "\n",
      "Best val_loss So Far: 3.0424599647521973\n",
      "Total elapsed time: 00h 38m 27s\n"
     ]
    }
   ],
   "source": [
    "tuner.search(X, y_lsat, epochs=1000, validation_split=0.2, callbacks=[early_stopping])"
   ]
  },
  {
   "cell_type": "code",
   "execution_count": 94,
   "metadata": {},
   "outputs": [],
   "source": [
    "# get parameters and scores\n",
    "trials = tuner.oracle.get_best_trials(num_trials=256)\n",
    "hp_list = []\n",
    "for trial in trials:\n",
    "    hp_list.append(trial.hyperparameters.get_config()[\"values\"] | {\"Score\": trial.score})\n",
    "\n",
    "\n",
    "hp_df = pd.DataFrame(hp_list)\n",
    "hp_df.to_csv(proj_dir / f\"Results/2.WaterTempEst/3.ANN/{model_name}hp_tuning.csv\", index=False)\n"
   ]
  },
  {
   "cell_type": "code",
   "execution_count": 135,
   "metadata": {},
   "outputs": [
    {
     "name": "stdout",
     "output_type": "stream",
     "text": [
      "{'units': 24, 'learning_rate': 0.01, 'activation': 'relu', 'batch_size': 16}\n",
      "Epoch 1/100\n",
      "184/184 [==============================] - 1s 1ms/step - loss: 18.3837 - mse: 18.3837 - val_loss: 10.5021 - val_mse: 10.5021\n",
      "Epoch 2/100\n",
      "184/184 [==============================] - 0s 787us/step - loss: 6.9115 - mse: 6.9115 - val_loss: 6.3625 - val_mse: 6.3625\n",
      "Epoch 3/100\n",
      "184/184 [==============================] - 0s 774us/step - loss: 6.4471 - mse: 6.4471 - val_loss: 4.5093 - val_mse: 4.5093\n",
      "Epoch 4/100\n",
      "184/184 [==============================] - 0s 750us/step - loss: 5.6182 - mse: 5.6182 - val_loss: 6.0232 - val_mse: 6.0232\n",
      "Epoch 5/100\n",
      "184/184 [==============================] - 0s 761us/step - loss: 5.0027 - mse: 5.0027 - val_loss: 3.7007 - val_mse: 3.7007\n",
      "Epoch 6/100\n",
      "184/184 [==============================] - 0s 754us/step - loss: 5.1534 - mse: 5.1534 - val_loss: 4.0310 - val_mse: 4.0310\n",
      "Epoch 7/100\n",
      "184/184 [==============================] - 0s 762us/step - loss: 5.0419 - mse: 5.0419 - val_loss: 3.5557 - val_mse: 3.5557\n",
      "Epoch 8/100\n",
      "184/184 [==============================] - 0s 743us/step - loss: 4.7428 - mse: 4.7428 - val_loss: 4.2738 - val_mse: 4.2738\n",
      "Epoch 9/100\n",
      "184/184 [==============================] - 0s 737us/step - loss: 4.8853 - mse: 4.8853 - val_loss: 3.5221 - val_mse: 3.5221\n",
      "Epoch 10/100\n",
      "184/184 [==============================] - 0s 746us/step - loss: 4.4899 - mse: 4.4899 - val_loss: 3.7898 - val_mse: 3.7898\n",
      "Epoch 11/100\n",
      "184/184 [==============================] - 0s 757us/step - loss: 4.7882 - mse: 4.7882 - val_loss: 3.6656 - val_mse: 3.6656\n",
      "Epoch 12/100\n",
      "184/184 [==============================] - 0s 722us/step - loss: 4.6223 - mse: 4.6223 - val_loss: 4.7225 - val_mse: 4.7225\n",
      "Epoch 13/100\n",
      "184/184 [==============================] - 0s 730us/step - loss: 4.3504 - mse: 4.3504 - val_loss: 5.0237 - val_mse: 5.0237\n",
      "Epoch 14/100\n",
      "184/184 [==============================] - 0s 762us/step - loss: 4.1254 - mse: 4.1254 - val_loss: 3.8515 - val_mse: 3.8515\n"
     ]
    }
   ],
   "source": [
    "# Build the model with the optimal hyperparameters and train it on the data for 50 epochs\n",
    "best_hps = tuner.get_best_hyperparameters(num_trials=1)[0]\n",
    "print(best_hps.values)\n",
    "block1_model = tuner.hypermodel.build(best_hps)\n",
    "history = block1_model.fit(\n",
    "    X, y_lsat, epochs=100, validation_split=0.2, \n",
    "    callbacks=[early_stopping]\n",
    ")"
   ]
  },
  {
   "cell_type": "code",
   "execution_count": 136,
   "metadata": {},
   "outputs": [],
   "source": [
    "# save block1_model\n",
    "block1_model.save(proj_dir / f\"Methods/3.WaterTempEst/3.ANN/{model_name}_model.keras\")"
   ]
  },
  {
   "cell_type": "code",
   "execution_count": 137,
   "metadata": {},
   "outputs": [],
   "source": [
    "history_df = pd.DataFrame(history.history)\n",
    "history_df[\"epoch\"] = history.epoch\n",
    "history_df[\"epoch\"] = history_df[\"epoch\"] + 1\n",
    "history_df.to_csv(proj_dir / f\"Results/2.WaterTempEst/3.ANN/{model_name}_history.csv\", index=False)\n",
    "# history_df"
   ]
  },
  {
   "cell_type": "code",
   "execution_count": 138,
   "metadata": {},
   "outputs": [
    {
     "data": {
      "image/png": "[encoded data removed]",
      "text/plain": [
       "<Figure size 500x500 with 1 Axes>"
      ]
     },
     "metadata": {},
     "output_type": "display_data"
    }
   ],
   "source": [
    "# plot losses for training and validation sets\n",
    "plt.figure(figsize=(5, 5))\n",
    "plt.plot(history.history[\"loss\"], label=\"Training Loss\")\n",
    "plt.plot(history.history[\"val_loss\"], label=\"Validation Loss\")\n",
    "plt.xlabel(\"Epoch\")\n",
    "plt.ylabel(\"Loss (MSE)\")\n",
    "plt.legend()\n",
    "plt.title(\"Losses for Training and Validation Sets Block 1\")\n",
    "plt.grid()"
   ]
  }
 ],
 "metadata": {
  "kernelspec": {
   "display_name": "hydrothermal-history",
   "language": "python",
   "name": "python3"
  },
  "language_info": {
   "codemirror_mode": {
    "name": "ipython",
    "version": 3
   },
   "file_extension": ".py",
   "mimetype": "text/x-python",
   "name": "python",
   "nbconvert_exporter": "python",
   "pygments_lexer": "ipython3",
   "version": "3.11.4"
  }
 },
 "nbformat": 4,
 "nbformat_minor": 2
}
