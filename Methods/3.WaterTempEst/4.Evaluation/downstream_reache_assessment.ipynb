{
 "cells": [
  {
   "cell_type": "code",
   "execution_count": 1,
   "metadata": {},
   "outputs": [
    {
     "name": "stdout",
     "output_type": "stream",
     "text": [
      "Intel MKL WARNING: Support of Intel(R) Streaming SIMD Extensions 4.2 (Intel(R) SSE4.2) enabled only processors has been deprecated. Intel oneAPI Math Kernel Library 2025.0 will require Intel(R) Advanced Vector Extensions (Intel(R) AVX) instructions.\n",
      "Intel MKL WARNING: Support of Intel(R) Streaming SIMD Extensions 4.2 (Intel(R) SSE4.2) enabled only processors has been deprecated. Intel oneAPI Math Kernel Library 2025.0 will require Intel(R) Advanced Vector Extensions (Intel(R) AVX) instructions.\n"
     ]
    }
   ],
   "source": [
    "import sys\n",
    "from pathlib import Path\n",
    "import pandas as pd\n",
    "# import geopandas as gpd\n",
    "import numpy as np\n",
    "import os\n",
    "from pathlib import Path\n",
    "import time\n",
    "from random import randint\n",
    "import json\n",
    "\n",
    "\n",
    "from sklearn.preprocessing import StandardScaler, MinMaxScaler\n",
    "from sklearn.model_selection import KFold, ShuffleSplit, RepeatedKFold, train_test_split, GridSearchCV\n",
    "from sklearn.linear_model import ElasticNetCV, ElasticNet\n",
    "from sklearn.ensemble import RandomForestRegressor\n",
    "\n",
    "import numpy as np\n",
    "from datetime import datetime\n",
    "import matplotlib.pyplot as plt\n",
    "\n",
    "import HydroErr as he\n",
    "import pickle"
   ]
  },
  {
   "cell_type": "code",
   "execution_count": 2,
   "metadata": {},
   "outputs": [],
   "source": [
    "proj_dir = Path(\"../../..\")"
   ]
  },
  {
   "cell_type": "code",
   "execution_count": 3,
   "metadata": {},
   "outputs": [],
   "source": [
    "test_data = pd.read_csv(proj_dir / \"Results/2.WaterTempEst/test_data.csv\")"
   ]
  },
  {
   "cell_type": "code",
   "execution_count": 7,
   "metadata": {},
   "outputs": [],
   "source": [
    "within_50k = test_data[(test_data[\"rel_dist\"]!=0) & (test_data[\"type\"]==\"Random Forest Regression\") & (test_data[\"variation\"]==1)]\n",
    "within_50k2 = test_data[(test_data[\"rel_dist\"]!=0) & (test_data[\"type\"]==\"Random Forest Regression\") & (test_data[\"variation\"]==3)]\n",
    "beyond_50k = test_data[(test_data[\"rel_dist\"]==0) & (test_data[\"type\"]==\"Random Forest Regression\") & (test_data[\"variation\"]==1)]"
   ]
  },
  {
   "cell_type": "code",
   "execution_count": 8,
   "metadata": {},
   "outputs": [],
   "source": [
    "# find rmse, r2 and nse for within 50k\n",
    "rmse_within_50k = he.rmse(within_50k[\"Estimated\"], within_50k[\"InsituTemp\"])\n",
    "r2_within_50k = he.r_squared(within_50k[\"Estimated\"], within_50k[\"InsituTemp\"])\n",
    "nse_within_50k = he.nse(within_50k[\"Estimated\"], within_50k[\"InsituTemp\"])\n",
    "\n",
    "# find rmse, r2 and nse for within 50k2\n",
    "rmse_within_50k2 = he.rmse(within_50k2[\"Estimated\"], within_50k2[\"InsituTemp\"])\n",
    "r2_within_50k2 = he.r_squared(within_50k2[\"Estimated\"], within_50k2[\"InsituTemp\"])\n",
    "nse_within_50k2 = he.nse(within_50k2[\"Estimated\"], within_50k2[\"InsituTemp\"])\n",
    "\n",
    "# find rmse, r2 and nse for beyond 50k\n",
    "rmse_beyond_50k = he.rmse(beyond_50k[\"Estimated\"], beyond_50k[\"InsituTemp\"])\n",
    "r2_beyond_50k = he.r_squared(beyond_50k[\"Estimated\"], beyond_50k[\"InsituTemp\"])\n",
    "nse_beyond_50k = he.nse(beyond_50k[\"Estimated\"], beyond_50k[\"InsituTemp\"])"
   ]
  },
  {
   "cell_type": "code",
   "execution_count": 9,
   "metadata": {},
   "outputs": [
    {
     "name": "stdout",
     "output_type": "stream",
     "text": [
      "rmse_within_50k:  2.6298081456293376\n",
      "r2_within_50k:  0.8603937802189335\n",
      "nse_within_50k:  0.8487551355806101\n",
      "rmse_within_50k2:  3.4584699057119086\n",
      "r2_within_50k2:  0.7857213965664971\n",
      "nse_within_50k2:  0.7384224267244557\n",
      "rmse_beyond_50k:  1.3774648400937892\n",
      "r2_beyond_50k:  0.9374759962472721\n",
      "nse_beyond_50k:  0.9370665151294717\n"
     ]
    }
   ],
   "source": [
    "print(\"rmse_within_50k: \", rmse_within_50k)\n",
    "print(\"r2_within_50k: \", r2_within_50k)\n",
    "print(\"nse_within_50k: \", nse_within_50k)\n",
    "\n",
    "print(\"rmse_within_50k2: \", rmse_within_50k2)\n",
    "print(\"r2_within_50k2: \", r2_within_50k2)\n",
    "print(\"nse_within_50k2: \", nse_within_50k2)\n",
    "\n",
    "print(\"rmse_beyond_50k: \", rmse_beyond_50k)\n",
    "print(\"r2_beyond_50k: \", r2_beyond_50k)\n",
    "print(\"nse_beyond_50k: \", nse_beyond_50k)\n"
   ]
  },
  {
   "cell_type": "code",
   "execution_count": 20,
   "metadata": {},
   "outputs": [],
   "source": [
    "donwstream_reach_assessment_df = pd.DataFrame(\n",
    "    {\n",
    "        \"distance_category\": [\"within_50k\", \"beyond_50k\"],\n",
    "        \"rmse\": [rmse_within_50k, rmse_beyond_50k],\n",
    "        \"r2\": [r2_within_50k, r2_beyond_50k],\n",
    "        \"nse\": [nse_within_50k, nse_beyond_50k]\n",
    "    }\n",
    ")\n",
    "\n",
    "donwstream_reach_assessment_df.to_csv(proj_dir / \"Results/2.WaterTempEst/donwstream_reach_assessment1.csv\", index=False)"
   ]
  },
  {
   "cell_type": "code",
   "execution_count": null,
   "metadata": {},
   "outputs": [],
   "source": []
  }
 ],
 "metadata": {
  "kernelspec": {
   "display_name": "hydrothermal-history",
   "language": "python",
   "name": "python3"
  },
  "language_info": {
   "codemirror_mode": {
    "name": "ipython",
    "version": 3
   },
   "file_extension": ".py",
   "mimetype": "text/x-python",
   "name": "python",
   "nbconvert_exporter": "python",
   "pygments_lexer": "ipython3",
   "version": "3.11.4"
  }
 },
 "nbformat": 4,
 "nbformat_minor": 2
}
