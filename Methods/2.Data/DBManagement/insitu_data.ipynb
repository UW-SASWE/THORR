{
 "cells": [
  {
   "cell_type": "markdown",
   "metadata": {},
   "source": [
    "# MySQL Database Administration"
   ]
  },
  {
   "cell_type": "code",
   "execution_count": null,
   "metadata": {},
   "outputs": [],
   "source": [
    "import sys\n",
    "import os \n",
    "\n",
    "import pandas as pd\n",
    "import geopandas as gpd\n",
    "from pathlib import Path"
   ]
  },
  {
   "cell_type": "code",
   "execution_count": null,
   "metadata": {},
   "outputs": [],
   "source": [
    "proj_dir = Path(\"../../../\")"
   ]
  },
  {
   "cell_type": "code",
   "execution_count": null,
   "metadata": {},
   "outputs": [],
   "source": [
    "utils = os.path.abspath(proj_dir/ 'utils')\n",
    "sys.path.insert(0, utils)\n",
    "\n",
    "from sql import connect # utility functions for connecting to MySQL"
   ]
  },
  {
   "cell_type": "code",
   "execution_count": null,
   "metadata": {},
   "outputs": [],
   "source": [
    "# Create a connection object to the MySQL database\n",
    "# conn = connect.Connect('/Users/gdarkwah/Library/CloudStorage/OneDrive-UW/01-Research/01-Hydrothermal History/Methods/database_management/mysql_config.ini')\n",
    "conn = connect.Connect(str(proj_dir / \".env/mysql_config.ini\"))\n",
    "cursor = conn.conn.cursor()"
   ]
  },
  {
   "cell_type": "code",
   "execution_count": null,
   "metadata": {},
   "outputs": [],
   "source": [
    "data_dir = proj_dir / \"Data/InSituTemperature\"\n",
    "# insitu_reach_key = pd.read_csv(data_dir / \"insitu_reach_key.csv\")\n",
    "insitu_reach_key = gpd.read_file(\"/Users/gdarkwah/Library/CloudStorage/OneDrive-UW/01-Research/01-Hydrothermal History/Data/temp_timeseries/insitu_reach_key.shp\")\n",
    "# insitu_reach_key = gpd.read_file(data_dir / \"insitu_reach_key.shp\")\n",
    "# insitu_reach_key.head()"
   ]
  },
  {
   "cell_type": "code",
   "execution_count": null,
   "metadata": {},
   "outputs": [],
   "source": [
    "for index, row in insitu_reach_key.iterrows():\n",
    "    insitu_data = pd.read_csv(data_dir / \"processed\" / f\"{row['source']}_{row['id']}.csv\")\n",
    "    insitu_data['date'] = pd.to_datetime(insitu_data['date']).dt.strftime('%Y-%m-%d')\n",
    "    insitu_data.dropna(subset=['avg water temperature (C)'], inplace=True)\n",
    "\n",
    "    # add values to the database\n",
    "    for i, r in insitu_data.iterrows():\n",
    "        query = f\"\"\"\n",
    "        INSERT INTO ReachInsituWaterTemp (Date, ReachID, Value)\n",
    "        SELECT \"{r['date']}\", (SELECT ReachID FROM Reaches WHERE Name = \"{row['reach_id']}\"), {r['avg water temperature (C)']}\n",
    "        WHERE NOT EXISTS (SELECT * FROM ReachInsituWaterTemp WHERE Date = \"{r['date']}\" AND ReachID = (SELECT ReachID FROM Reaches WHERE Name = \"{row['reach_id']}\"));\n",
    "        \"\"\"\n",
    "        cursor.execute(query)\n",
    "        conn.conn.commit()\n",
    "\n",
    "        # print(f\"Inserted {r['date']} for {row['reach_id']}\")\n",
    "\n",
    "        # break\n",
    "\n",
    "    # break\n"
   ]
  },
  {
   "cell_type": "code",
   "execution_count": null,
   "metadata": {},
   "outputs": [],
   "source": [
    "query = \"\"\"\n",
    "SELECT \n",
    "    *\n",
    "FROM\n",
    "    (SELECT \n",
    "        STR_TO_DATE(CONCAT(YEAR(ReachLandsatWaterTemp.date), '-', LPAD(MONTH(ReachLandsatWaterTemp.date), 2, '00'), '-', LPAD(IF(DAY(ReachLandsatWaterTemp.date) < 15, 1, 15), 2, '00')), '%Y-%m-%d') AS Date,\n",
    "            AVG(ReachLandsatWaterTemp.Value) AS WaterTemp,\n",
    "            ReachLandsatWaterTemp.ReachID AS ReachID\n",
    "    FROM\n",
    "        ReachLandsatWaterTemp\n",
    "    INNER JOIN Reaches USING (ReachID)\n",
    "    WHERE\n",
    "        ReachLandsatWaterTemp.Value > 0\n",
    "    GROUP BY Date , ReachID) AS L\n",
    "        INNER JOIN\n",
    "    (SELECT \n",
    "        STR_TO_DATE(CONCAT(YEAR(ReachInsituWaterTemp.date), '-', LPAD(MONTH(ReachInsituWaterTemp.date), 2, '00'), '-', LPAD(IF(DAY(ReachInsituWaterTemp.date) < 15, 1, 15), 2, '00')), '%Y-%m-%d') AS Date,\n",
    "            AVG(ReachInsituWaterTemp.Value) AS InsituTemp,\n",
    "            ReachInsituWaterTemp.ReachID AS ReachID\n",
    "    FROM\n",
    "        ReachInsituWaterTemp\n",
    "    INNER JOIN Reaches USING (ReachID)\n",
    "    WHERE\n",
    "        ReachInsituWaterTemp.Value > 0\n",
    "    GROUP BY Date , ReachID) AS I USING (Date , ReachID)\n",
    "\"\"\"\n",
    "\n",
    "df = conn.query_with_fetchmany(query, chunksize=100)\n",
    "# df = cursor.execute(query)"
   ]
  },
  {
   "cell_type": "code",
   "execution_count": null,
   "metadata": {},
   "outputs": [],
   "source": [
    "# df = pd.concat([chunk for chunk in data], ignore_index=True)\n",
    "df['Date'] = pd.to_datetime(df['Date'])"
   ]
  },
  {
   "cell_type": "code",
   "execution_count": null,
   "metadata": {},
   "outputs": [],
   "source": [
    "df.head(100)"
   ]
  },
  {
   "cell_type": "code",
   "execution_count": null,
   "metadata": {},
   "outputs": [],
   "source": [
    "# df.to_csv(data_dir / \"insitu_landsat.csv\", index=False)"
   ]
  },
  {
   "cell_type": "code",
   "execution_count": null,
   "metadata": {},
   "outputs": [],
   "source": [
    "# scatter plot of the data\n",
    "import matplotlib.pyplot as plt\n",
    "import numpy as np\n",
    "\n",
    "fig, ax = plt.subplots(figsize=(10, 10))\n",
    "ax.scatter(df['InsituTemp'], df['WaterTemp'], alpha=0.5)\n",
    "ax.set_xlabel(\"Insitu Temperature (C)\") \n",
    "ax.set_ylabel(\"Landsat Temperature (C)\")\n",
    "ax.set_title(\"Insitu vs Landsat Water Temperature\")\n",
    "\n",
    "# add 1:1 line\n",
    "lims = [\n",
    "    np.min([ax.get_xlim(), ax.get_ylim()]),  # min of both axes\n",
    "    np.max([ax.get_xlim(), ax.get_ylim()]),  # max of both axes\n",
    "]\n",
    "ax.plot(lims, lims, 'k-', alpha=0.75, zorder=0)\n",
    "ax.set_aspect('equal')\n",
    "ax.set_xlim(lims)\n",
    "ax.set_ylim(lims)\n",
    "\n",
    "plt.show()\n"
   ]
  },
  {
   "cell_type": "code",
   "execution_count": null,
   "metadata": {},
   "outputs": [],
   "source": []
  }
 ],
 "metadata": {
  "kernelspec": {
   "display_name": "hydrothermal-history",
   "language": "python",
   "name": "python3"
  },
  "language_info": {
   "codemirror_mode": {
    "name": "ipython",
    "version": 3
   },
   "file_extension": ".py",
   "mimetype": "text/x-python",
   "name": "python",
   "nbconvert_exporter": "python",
   "pygments_lexer": "ipython3",
   "version": "3.11.4"
  },
  "orig_nbformat": 4
 },
 "nbformat": 4,
 "nbformat_minor": 2
}
