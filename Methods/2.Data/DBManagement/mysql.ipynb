{
 "cells": [
  {
   "cell_type": "markdown",
   "metadata": {},
   "source": [
    "# MySQL Database Administration"
   ]
  },
  {
   "cell_type": "code",
   "execution_count": 1,
   "metadata": {},
   "outputs": [],
   "source": [
    "import sys\n",
    "utils = '/Users/gdarkwah/Library/CloudStorage/OneDrive-UW/01-Research/01-Hydrothermal History/utils'\n",
    "sys.path.insert(0, utils)"
   ]
  },
  {
   "cell_type": "code",
   "execution_count": 2,
   "metadata": {},
   "outputs": [
    {
     "name": "stdout",
     "output_type": "stream",
     "text": [
      "Intel MKL WARNING: Support of Intel(R) Streaming SIMD Extensions 4.2 (Intel(R) SSE4.2) enabled only processors has been deprecated. Intel oneAPI Math Kernel Library 2025.0 will require Intel(R) Advanced Vector Extensions (Intel(R) AVX) instructions.\n",
      "Intel MKL WARNING: Support of Intel(R) Streaming SIMD Extensions 4.2 (Intel(R) SSE4.2) enabled only processors has been deprecated. Intel oneAPI Math Kernel Library 2025.0 will require Intel(R) Advanced Vector Extensions (Intel(R) AVX) instructions.\n"
     ]
    }
   ],
   "source": [
    "from sql import connect # utility functions for connecting to MySQL\n",
    "\n",
    "import pandas as pd\n",
    "import geopandas as gpd\n",
    "from pathlib import Path"
   ]
  },
  {
   "cell_type": "code",
   "execution_count": 4,
   "metadata": {},
   "outputs": [],
   "source": [
    "proj_dir = Path(\"../../..\")"
   ]
  },
  {
   "cell_type": "code",
   "execution_count": 7,
   "metadata": {},
   "outputs": [
    {
     "name": "stdout",
     "output_type": "stream",
     "text": [
      "Connecting to MySQL database...\n",
      "Connection established.\n"
     ]
    }
   ],
   "source": [
    "# Create a connection object to the MySQL database\n",
    "# conn = connect.Connect(str(proj_dir / \"Methods/2.Data/DBManagement/mysql_config.ini\"))\n",
    "conn = connect.Connect(str(proj_dir / \".env/mysql_config.ini\"))\n",
    "connection = conn.conn\n",
    "cursor = conn.conn.cursor()"
   ]
  },
  {
   "cell_type": "code",
   "execution_count": 4,
   "metadata": {},
   "outputs": [],
   "source": [
    "# CREATE SCHEMA IF NOT EXISTS `hydrothermal_history` DEFAULT CHARACTER SET utf8"
   ]
  },
  {
   "cell_type": "markdown",
   "metadata": {},
   "source": [
    "## Basins"
   ]
  },
  {
   "cell_type": "markdown",
   "metadata": {},
   "source": [
    "### Create new Basins table if it doesnt exist"
   ]
  },
  {
   "cell_type": "code",
   "execution_count": 5,
   "metadata": {},
   "outputs": [],
   "source": [
    "# turn off foreign key checks\n",
    "cursor.execute(\"SET FOREIGN_KEY_CHECKS = 0\")\n",
    "\n",
    "query = \"\"\"\n",
    "CREATE TABLE IF NOT EXISTS `Basins` (\n",
    "  `BasinID` int NOT NULL AUTO_INCREMENT,\n",
    "  `Prefix` varchar(45) NOT NULL DEFAULT 'BAS',\n",
    "  `Name` varchar(255) NOT NULL,\n",
    "  `DrainageAreaSqKm` float DEFAULT NULL COMMENT 'Drainage area of the Basin in square-kilometers',\n",
    "  `MajorRiverID` int DEFAULT NULL,\n",
    "  `geometry` geometry NOT NULL /*!80003 SRID 4326 */,\n",
    "  PRIMARY KEY (`BasinID`),\n",
    "  UNIQUE KEY `BasinID_UNIQUE` (`BasinID`),\n",
    "  KEY `Fk_MajorRiver` (`MajorRiverID`),\n",
    "  CONSTRAINT `Fk_MajorRiver` FOREIGN KEY (`MajorRiverID`) REFERENCES `Rivers` (`RiverID`) ON DELETE SET NULL ON UPDATE CASCADE\n",
    ") ENGINE=InnoDB\n",
    "\"\"\"\n",
    "\n",
    "# Create the table\n",
    "cursor.execute(query)\n",
    "\n",
    "# turn on foreign key checks\n",
    "cursor.execute(\"SET FOREIGN_KEY_CHECKS = 1\")"
   ]
  },
  {
   "cell_type": "markdown",
   "metadata": {},
   "source": [
    "### Add new Basins"
   ]
  },
  {
   "cell_type": "code",
   "execution_count": 6,
   "metadata": {},
   "outputs": [],
   "source": [
    "# Load basin shapefile\n",
    "basins_shp = Path('../../Data/GIS/shapefiles/CRBSingle.shp')\n",
    "basins_gdf = gpd.read_file(basins_shp)\n",
    "basins_gdf = basins_gdf.to_crs(epsg=4326) # convert to WGS84. This is the CRS used by the database\n",
    "# basins_gdf.head()"
   ]
  },
  {
   "cell_type": "code",
   "execution_count": 7,
   "metadata": {},
   "outputs": [],
   "source": [
    "a = basins_gdf['geometry'][0].wkt"
   ]
  },
  {
   "cell_type": "code",
   "execution_count": 8,
   "metadata": {},
   "outputs": [],
   "source": [
    "# Insert basin data into the table if the entry doesn't already exist\n",
    "for i, row in basins_gdf.iterrows():\n",
    "    query = f\"\"\"\n",
    "    INSERT INTO Basins (Name, DrainageAreaSqKm, geometry)\n",
    "    SELECT '{row['Name']}', {row['AreaSqKm']}, ST_GeomFromText('{row['geometry'].wkt}', 4326, 'axis-order=long-lat')\n",
    "    WHERE NOT EXISTS (SELECT * FROM Basins WHERE Name = '{row['Name']}')\n",
    "    \"\"\"\n",
    "    \n",
    "    cursor.execute(query)\n",
    "    conn.conn.commit()\n",
    "\n",
    "    # # Update the MajorRiverID column if the river exists in the Rivers table\n",
    "    # query2 = f\"\"\"\n",
    "    # UPDATE Basins\n",
    "    # SET MajorRiverID = (SELECT RiverID FROM Rivers WHERE Name = '{row['MajorRiver']}')\n",
    "    # WHERE Name = '{row['Name']}'\n",
    "    # \"\"\"\n",
    "\n",
    "    # cursor.execute(query2)\n",
    "    # conn.conn.commit()\n"
   ]
  },
  {
   "cell_type": "markdown",
   "metadata": {},
   "source": [
    "### Retrieve basin geometry"
   ]
  },
  {
   "cell_type": "code",
   "execution_count": 9,
   "metadata": {},
   "outputs": [
    {
     "data": {
      "text/plain": [
       "<Axes: >"
      ]
     },
     "execution_count": 9,
     "metadata": {},
     "output_type": "execute_result"
    },
    {
     "data": {
      "image/png": "[encoded data removed]",
      "text/plain": [
       "<Figure size 640x480 with 1 Axes>"
      ]
     },
     "metadata": {},
     "output_type": "display_data"
    }
   ],
   "source": [
    "# Retrieve basin geometry from the database\n",
    "cursor.execute(\"SELECT BasinID, Name, ST_AsText(geometry, 'axis-order=long-lat'), ST_SRID(geometry) AS SRID FROM basins\")\n",
    "basins = cursor.fetchall()\n",
    "basins = pd.DataFrame(basins, columns=['basin_id', 'basin_name', 'geometry', 'srid'])\n",
    "\n",
    "basins['geometry'] = gpd.GeoSeries.from_wkt(basins['geometry'])\n",
    "basins = gpd.GeoDataFrame(basins, geometry='geometry')\n",
    "basins = basins.set_crs(epsg=basins['srid'][0])\n",
    "basins.plot()"
   ]
  },
  {
   "cell_type": "markdown",
   "metadata": {},
   "source": [
    "## Rivers"
   ]
  },
  {
   "cell_type": "markdown",
   "metadata": {},
   "source": [
    "### Create new Rivers table if it doesn't exist"
   ]
  },
  {
   "cell_type": "code",
   "execution_count": 10,
   "metadata": {},
   "outputs": [],
   "source": [
    "query = \"\"\"\n",
    "CREATE TABLE IF NOT EXISTS `Rivers` (\n",
    "  `RiverID` INT NOT NULL AUTO_INCREMENT,\n",
    "  `Prefix` varchar(45) NOT NULL DEFAULT 'RIV',\n",
    "  `Name` varchar(255) DEFAULT NULL,\n",
    "  `LengthKm` float DEFAULT NULL COMMENT 'Length of the river in kilometers',\n",
    "  `WidthM` float DEFAULT NULL COMMENT 'Width in meters',\n",
    "  `BasinID` int DEFAULT NULL COMMENT 'ID for the basin in which this river lies',\n",
    "  `geometry` geometry NOT NULL /*!80003 SRID 4326 */,\n",
    "  PRIMARY KEY (`RiverID`),\n",
    "  UNIQUE KEY `RiverID_UNIQUE` (`RiverID`),\n",
    "  KEY `Fk_Basin` (`BasinID`),\n",
    "  CONSTRAINT `Fk_Basin` FOREIGN KEY (`BasinID`) REFERENCES `Basins` (`BasinID`) ON DELETE SET NULL ON UPDATE CASCADE\n",
    ") ENGINE=InnoDB\n",
    "\"\"\"\n",
    "\n",
    "# Create the table\n",
    "cursor.execute(query)\n"
   ]
  },
  {
   "cell_type": "markdown",
   "metadata": {},
   "source": [
    "### Add new Rivers"
   ]
  },
  {
   "cell_type": "code",
   "execution_count": 11,
   "metadata": {},
   "outputs": [],
   "source": [
    "# Load river shapefile\n",
    "rivers_shp = Path('../../Data/GIS/shapefiles/ColumbiaTributaries.shp')\n",
    "rivers_gdf = gpd.read_file(rivers_shp)\n",
    "rivers_gdf = rivers_gdf.to_crs(epsg=4326) # convert to WGS84. This is the CRS used by the database\n",
    "# rivers_gdf.head(60)"
   ]
  },
  {
   "cell_type": "code",
   "execution_count": 12,
   "metadata": {},
   "outputs": [],
   "source": [
    "# for i, row in rivers_gdf.iterrows():\n",
    "#     print(i, row['GNIS_Name'], row['geometry'].wkt)"
   ]
  },
  {
   "cell_type": "code",
   "execution_count": 13,
   "metadata": {},
   "outputs": [],
   "source": [
    "# Insert river data into the table if the entry doesn't already exist\n",
    "for i, row in rivers_gdf.iterrows():\n",
    "    query = f\"\"\"\n",
    "    INSERT INTO Rivers (Name, LengthKm, geometry)\n",
    "    SELECT '{row['GNIS_Name']}', {row['LengthKM']}, ST_GeomFromText('{row['geometry'].wkt}', 4326, 'axis-order=long-lat')\n",
    "    WHERE NOT EXISTS (SELECT * FROM Rivers WHERE Name = '{row['GNIS_Name']}')\n",
    "    \"\"\"\n",
    "    \n",
    "    cursor.execute(query)\n",
    "    conn.conn.commit()\n",
    "\n",
    "    # # Update the BasinID column if the basin exists in the Basins table\n",
    "    # query2 = f\"\"\"\n",
    "    # UPDATE Rivers\n",
    "    # SET BasinID = (SELECT BasinID FROM Basins WHERE Name = '{row['Basin']}')\n",
    "    # WHERE Name = '{row['GNIS_Name']}'\n",
    "    # \"\"\"\n",
    "    query2 = f\"\"\"\n",
    "    UPDATE Rivers\n",
    "    SET BasinID = (SELECT BasinID FROM Basins WHERE Name = '{row['Basin']}'), LengthKm = {row['LengthKM']}\n",
    "    WHERE Name = \"{row['GNIS_Name']}\"\n",
    "    \"\"\"\n",
    "\n",
    "    cursor.execute(query2)\n",
    "    conn.conn.commit()"
   ]
  },
  {
   "cell_type": "code",
   "execution_count": 14,
   "metadata": {},
   "outputs": [],
   "source": [
    "# Update the MajorRiverID column if the river exists in the Rivers table\n",
    "for i, row in basins_gdf.iterrows():\n",
    "    query = f\"\"\"\n",
    "    UPDATE Basins\n",
    "    SET MajorRiverID = (SELECT RiverID FROM Rivers WHERE Name = '{row['MajorRiver']}')\n",
    "    WHERE Name = '{row['Name']}'\n",
    "    \"\"\"\n",
    "\n",
    "    cursor.execute(query)\n",
    "    conn.conn.commit()\n"
   ]
  },
  {
   "cell_type": "markdown",
   "metadata": {},
   "source": [
    "## Dams"
   ]
  },
  {
   "cell_type": "markdown",
   "metadata": {},
   "source": [
    "### Create a new Dam table if it doesn't exist"
   ]
  },
  {
   "cell_type": "code",
   "execution_count": 15,
   "metadata": {},
   "outputs": [],
   "source": [
    "query = \"\"\"\n",
    "CREATE TABLE IF NOT EXISTS `Dams` (\n",
    "  `DamID` int NOT NULL AUTO_INCREMENT,\n",
    "  `Prefix` varchar(45) NOT NULL DEFAULT 'DAM',\n",
    "  `Name` varchar(255) NOT NULL,\n",
    "  `Reservoir` varchar(255) DEFAULT NULL,\n",
    "  `AltName` varchar(255) DEFAULT NULL,\n",
    "  `RiverID` int DEFAULT NULL,\n",
    "  `BasinID` int DEFAULT NULL,\n",
    "  `AdminUnit` varchar(255) DEFAULT NULL,\n",
    "  `Country` varchar(255) DEFAULT NULL,\n",
    "  `Year` year DEFAULT NULL,\n",
    "  `AreaSqKm` float DEFAULT NULL,\n",
    "  `CapacityMCM` float DEFAULT NULL,\n",
    "  `DepthM` float DEFAULT NULL,\n",
    "  `ElevationMASL` int DEFAULT NULL,\n",
    "  `MainUse` varchar(255) DEFAULT NULL,\n",
    "  `LONG_DD` float DEFAULT NULL,\n",
    "  `LAT_DD` float DEFAULT NULL,\n",
    "  `DamGeometry` point DEFAULT NULL COMMENT 'Point geometry for the dam',\n",
    "  `ReservoirGeometry` polygon DEFAULT NULL COMMENT 'Polygon geometry for the reservoir',\n",
    "  PRIMARY KEY (`DamID`),\n",
    "  UNIQUE KEY `DamID_UNIQUE` (`DamID`),\n",
    "  KEY `Fk_river_dams` (`RiverID`),\n",
    "  KEY `Fk_basin_dams` (`BasinID`),\n",
    "  CONSTRAINT `Fk_basin_dams` FOREIGN KEY (`BasinID`) REFERENCES `Basins` (`BasinID`) ON DELETE SET NULL ON UPDATE CASCADE,\n",
    "  CONSTRAINT `Fk_river_dams` FOREIGN KEY (`RiverID`) REFERENCES `Rivers` (`RiverID`) ON DELETE SET NULL ON UPDATE CASCADE\n",
    ") ENGINE=InnoDB\n",
    "\"\"\"\n",
    "\n",
    "# Create the table\n",
    "cursor.execute(query)"
   ]
  },
  {
   "cell_type": "code",
   "execution_count": 16,
   "metadata": {},
   "outputs": [],
   "source": [
    "# Load dams shapefile\n",
    "dams_shp = Path('../../Data/GIS/shapefiles/CRBDams.shp')\n",
    "reservoirs_shp = Path('../../Data/GIS/shapefiles/CRBReservoirs.shp')\n",
    "dams_gdf = gpd.read_file(dams_shp)\n",
    "dams_gdf = dams_gdf.to_crs(epsg=4326) # convert to WGS84. This is the CRS used by the database\n",
    "reservoirs_gdf = gpd.read_file(reservoirs_shp)\n",
    "reservoirs_gdf = reservoirs_gdf.to_crs(epsg=4326) # convert to WGS84. This is the CRS used by the database\n",
    "# dams_gdf.head()\n",
    "# reservoirs_gdf.head()"
   ]
  },
  {
   "cell_type": "code",
   "execution_count": 17,
   "metadata": {},
   "outputs": [
    {
     "name": "stderr",
     "output_type": "stream",
     "text": [
      "/var/folders/0q/tm370x9d1qdg6nt3w7pcqh_w0000gq/T/ipykernel_2478/1910903996.py:1: FutureWarning: Setting an item of incompatible dtype is deprecated and will raise in a future error of pandas. Value '' has dtype incompatible with float64, please explicitly cast to a compatible dtype first.\n",
      "  dams_gdf.fillna('', inplace=True)\n",
      "/var/folders/0q/tm370x9d1qdg6nt3w7pcqh_w0000gq/T/ipykernel_2478/1910903996.py:2: FutureWarning: Setting an item of incompatible dtype is deprecated and will raise in a future error of pandas. Value '' has dtype incompatible with float64, please explicitly cast to a compatible dtype first.\n",
      "  reservoirs_gdf.fillna('', inplace=True)\n"
     ]
    }
   ],
   "source": [
    "dams_gdf.fillna('', inplace=True)\n",
    "reservoirs_gdf.fillna('', inplace=True)"
   ]
  },
  {
   "cell_type": "code",
   "execution_count": 18,
   "metadata": {},
   "outputs": [],
   "source": [
    "# Insert river data into the table if the entry doesn't already exist\n",
    "for i, row in dams_gdf.iterrows():\n",
    "    # print(row['DAM_NAME'])\n",
    "    query = f\"\"\"\n",
    "    INSERT INTO Dams (Name, Reservoir, AltName, AdminUnit, Country, Year, AreaSqKm, CapacityMCM, DepthM, ElevationMASL, MainUse, LONG_DD, LAT_DD, DamGeometry)\n",
    "    SELECT \"{row['DAM_NAME']}\", NULLIF(\"{row['RES_NAME']}\", ''), NULLIF(\"{str(row['ALT_NAME'])}\",''), '{row['ADMIN_UNIT']}', '{row['COUNTRY']}', {row['YEAR']}, {row['AREA_SKM']}, {row['CAP_MCM']}, {row['DEPTH_M']}, {row['ELEV_MASL']}, '{row['MAIN_USE']}', {row['LONG_DD']}, {row['LAT_DD']}, ST_PointFromText('{row['geometry'].wkt}', 4326, 'axis-order=long-lat')\n",
    "    WHERE NOT EXISTS (SELECT * FROM Dams WHERE Name = \"{row['DAM_NAME']}\")\n",
    "    \"\"\"\n",
    "\n",
    "    cursor.execute(query)\n",
    "    conn.conn.commit()\n",
    "\n",
    "\n",
    "    # Update the RiverID column if the river exists in the Rivers table\n",
    "    query2 = f\"\"\"\n",
    "    UPDATE Dams\n",
    "    SET RiverID = (SELECT RiverID FROM Rivers WHERE Name = \"{row['RIVER']}\")\n",
    "    WHERE Name = \"{row['DAM_NAME']}\"\n",
    "    \"\"\"\n",
    "\n",
    "    cursor.execute(query2)\n",
    "    conn.conn.commit()\n",
    "\n",
    "    # Update the BasinID column if the basin exists in the Basins table\n",
    "    query3 = f\"\"\"\n",
    "    UPDATE Dams\n",
    "    SET BasinID = (SELECT BasinID FROM Basins WHERE Name = 'Columbia River Basin')\n",
    "    WHERE Name = \"{row['DAM_NAME']}\"\n",
    "    \"\"\"\n",
    "\n",
    "    cursor.execute(query3)\n",
    "    conn.conn.commit()\n",
    "\n",
    "# Insert reservoir data into the table if the entry doesn't already exist\n",
    "for i, row in reservoirs_gdf.iterrows():\n",
    "    query = f\"\"\"\n",
    "    UPDATE Dams\n",
    "    SET ReservoirGeometry = ST_GeomFromText('{row['geometry'].wkt}', 4326, 'axis-order=long-lat')\n",
    "    WHERE Name = \"{row['DAM_NAME']}\"\n",
    "    \"\"\"\n",
    "\n",
    "    cursor.execute(query)\n",
    "    conn.conn.commit()\n"
   ]
  },
  {
   "cell_type": "markdown",
   "metadata": {},
   "source": [
    "## Reaches"
   ]
  },
  {
   "cell_type": "markdown",
   "metadata": {},
   "source": [
    "### Create new Reaches table if it doesn't exist"
   ]
  },
  {
   "cell_type": "code",
   "execution_count": 19,
   "metadata": {},
   "outputs": [],
   "source": [
    "# query = \"\"\"\n",
    "# CREATE TABLE IF NOT EXISTS `Reaches` (\n",
    "#   `ReachID` int NOT NULL AUTO_INCREMENT,\n",
    "#   `Prefix` varchar(45) NOT NULL DEFAULT 'REA',\n",
    "#   `Name` varchar(255) DEFAULT NULL,\n",
    "#   `RiverID` int DEFAULT NULL,\n",
    "#   `ClimateClass` int DEFAULT NULL COMMENT 'Legend linking the numeric values in the maps to the Köppen-Geiger classes.\\nThe RGB colors used in Beck et al. [2018] are provided between parentheses',\n",
    "#   `Width` float DEFAULT NULL COMMENT 'Nominal Width (meters)',\n",
    "#   `Width5` float DEFAULT NULL COMMENT 'Width at 5% (meters)',\n",
    "#   `Width95` float DEFAULT NULL COMMENT 'Width 95% (meters)',\n",
    "#   `Depth` float DEFAULT NULL COMMENT 'Nominal depth (meters)',\n",
    "#   `Depth5` float DEFAULT NULL COMMENT 'Depth 5% (meters)',\n",
    "#   `Depth95` float DEFAULT NULL COMMENT 'Depth 95% (meters)',\n",
    "#   `geometry` geometry NOT NULL /*!80003 SRID 4326 */,\n",
    "#   PRIMARY KEY (`ReachID`),\n",
    "#   UNIQUE KEY `ReachID_UNIQUE` (`ReachID`),\n",
    "#   KEY `Fk_river` (`RiverID`),\n",
    "#   CONSTRAINT `Fk_river` FOREIGN KEY (`RiverID`) REFERENCES `Rivers` (`RiverID`) ON DELETE CASCADE ON UPDATE CASCADE\n",
    "# ) ENGINE=InnoDB\n",
    "# \"\"\"\n",
    "\n",
    "query = \"\"\"\n",
    "CREATE TABLE IF NOT EXISTS `Reaches` (\n",
    "  `ReachID` int NOT NULL AUTO_INCREMENT,\n",
    "  `Prefix` varchar(45) NOT NULL DEFAULT 'REA',\n",
    "  `Name` varchar(255) DEFAULT NULL,\n",
    "  `RiverID` int DEFAULT NULL,\n",
    "  `ClimateClass` int DEFAULT NULL COMMENT 'Legend linking the numeric values in the maps to the Köppen-Geiger classes.\\nThe RGB colors used in Beck et al. [2018] are provided between parentheses',\n",
    "  `WidthMin` float DEFAULT NULL COMMENT 'Minimum width (meters)',\n",
    "  `WidthMean` float DEFAULT NULL COMMENT 'Mean width (meters)',\n",
    "  `WidthMax` float DEFAULT NULL COMMENT 'Maximum width (meters)',\n",
    "  `geometry` geometry NOT NULL /*!80003 SRID 4326 */,\n",
    "  PRIMARY KEY (`ReachID`),\n",
    "  UNIQUE KEY `ReachID_UNIQUE` (`ReachID`),\n",
    "  KEY `Fk_river` (`RiverID`),\n",
    "  CONSTRAINT `Fk_river` FOREIGN KEY (`RiverID`) REFERENCES `Rivers` (`RiverID`) ON DELETE CASCADE ON UPDATE CASCADE\n",
    ") ENGINE=InnoDB;\n",
    "\"\"\"\n",
    "\n",
    "# Create the table\n",
    "cursor.execute(query)"
   ]
  },
  {
   "cell_type": "markdown",
   "metadata": {},
   "source": [
    "### Add new Reaches"
   ]
  },
  {
   "cell_type": "code",
   "execution_count": 20,
   "metadata": {},
   "outputs": [],
   "source": [
    "reaches_shp = Path('../../Data/GIS/shapefiles/flowlines_to_reaches/filteredReachLines.shp')\n",
    "reaches_gdf = gpd.read_file(reaches_shp)\n",
    "reaches_gdf = reaches_gdf.to_crs(epsg=4326) # convert to WGS84. This is the CRS used by the database"
   ]
  },
  {
   "cell_type": "code",
   "execution_count": 21,
   "metadata": {},
   "outputs": [],
   "source": [
    "# Iinsert reach data into the table if the entry doesn't already exist\n",
    "for i, row in reaches_gdf.iterrows():\n",
    "    # query = f\"\"\"\n",
    "    # INSERT INTO Reaches (Name, RiverID, ClimateClass, Width, Width5, Width95, Depth, Depth5, Depth95, geometry)\n",
    "    # SELECT \"{row['reach_id']}\",(SELECT RiverID FROM Rivers WHERE Name = '{row['GNIS_Name']}'), {row['koppen']}, {row[\"WIDTH\"]}, {row[\"WIDTH5\"]}, {row[\"WIDTH95\"]}, {row[\"DEPTH\"]}, {row[\"DEPTH5\"]}, {row[\"DEPTH95\"]}, ST_GeomFromText('{row['geometry'].wkt}', 4326, 'axis-order=long-lat')\n",
    "    # WHERE NOT EXISTS (SELECT * FROM Reaches WHERE Name = \"{row['reach_id']}\")\n",
    "    # \"\"\"\n",
    "\n",
    "    query = f\"\"\"\n",
    "    INSERT INTO Reaches (Name, RiverID, ClimateClass, WidthMin, WidthMean, WidthMax, geometry)\n",
    "    SELECT \"{row['reach_id']}\",(SELECT RiverID FROM Rivers WHERE Name = '{row['GNIS_Name']}'), {row['koppen']}, NULLIF(\"{str(row['WidthMin'])}\",'nan'), NULLIF(\"{str(row['WidthMean'])}\",'nan'), NULLIF(\"{str(row['WidthMax'])}\",'nan'), ST_GeomFromText('{row['geometry'].wkt}', 4326, 'axis-order=long-lat')\n",
    "    WHERE NOT EXISTS (SELECT * FROM Reaches WHERE Name = \"{row['reach_id']}\")\n",
    "    \"\"\"\n",
    "    \n",
    "    try:\n",
    "        cursor.execute(query)\n",
    "        conn.conn.commit()\n",
    "    except:\n",
    "        print(query)\n",
    "        break\n",
    "\n",
    "    # cursor.execute(query)\n",
    "    # conn.conn.commit()"
   ]
  },
  {
   "cell_type": "code",
   "execution_count": 22,
   "metadata": {},
   "outputs": [],
   "source": [
    "# for i, row in reaches_gdf.iterrows():\n",
    "#     query = f\"\"\"\n",
    "#     UPDATE Reaches\n",
    "#     SET Width = {row[\"WIDTH\"]}, Width5 = {row[\"WIDTH5\"]}, Width95 = {row[\"WIDTH95\"]}, Depth = {row[\"DEPTH\"]}, Depth5 = {row[\"DEPTH5\"]}, Depth95 = {row[\"DEPTH95\"]}\n",
    "#     WHERE Name = \"{row['reach_id']}\"\n",
    "#     \"\"\"\n",
    "\n",
    "#     cursor.execute(query)\n",
    "#     conn.conn.commit()"
   ]
  },
  {
   "cell_type": "markdown",
   "metadata": {},
   "source": [
    "## Timeseries Tables"
   ]
  },
  {
   "cell_type": "code",
   "execution_count": 8,
   "metadata": {},
   "outputs": [],
   "source": [
    "# Create a table for the Dam Landsat Water Temperature data\n",
    "query = \"\"\"\n",
    "CREATE TABLE IF NOT EXISTS `DamLandsatWaterTemp` (\n",
    "  `ID` int NOT NULL AUTO_INCREMENT,\n",
    "  `Date` date NOT NULL,\n",
    "  `DamID` int DEFAULT NULL,\n",
    "  `Value` float DEFAULT NULL COMMENT 'Landsat-based water temperature for reservoirs',\n",
    "  PRIMARY KEY (`ID`),\n",
    "  UNIQUE KEY `DamLandsatWaterTempID_UNIQUE` (`ID`),\n",
    "  KEY `Fk_water_temp_dam` (`DamID`),\n",
    "  CONSTRAINT `Fk_water_temp_dam` FOREIGN KEY (`DamID`) REFERENCES `Dams` (`DamID`) ON DELETE CASCADE ON UPDATE CASCADE\n",
    ") ENGINE=InnoDB\n",
    "\"\"\"\n",
    "\n",
    "# Create the table\n",
    "cursor.execute(query)\n",
    "\n",
    "# Create a table for the Reach Landsat Water Temperature data\n",
    "query = \"\"\"\n",
    "CREATE TABLE IF NOT EXISTS `ReachLandsatWaterTemp` (\n",
    "  `ID` int NOT NULL AUTO_INCREMENT,\n",
    "  `Date` date NOT NULL,\n",
    "  `ReachID` int DEFAULT NULL,\n",
    "  `Value` float DEFAULT NULL COMMENT 'Landsat-based water temperature for reaches',\n",
    "  PRIMARY KEY (`ID`),\n",
    "  UNIQUE KEY `ReachLandsatWaterTempID_UNIQUE` (`ID`),\n",
    "  KEY `Fk_water_temp_reach` (`ReachID`),\n",
    "  CONSTRAINT `Fk_water_temp_reach` FOREIGN KEY (`ReachID`) REFERENCES `Reaches` (`ReachID`) ON DELETE CASCADE ON UPDATE CASCADE\n",
    ") ENGINE=InnoDB\n",
    "\"\"\"\n",
    "\n",
    "# Create the table\n",
    "cursor.execute(query)\n",
    "\n",
    "\n",
    "# Create a table for the Reach Landsat Land Temperature data\n",
    "query = \"\"\"\n",
    "CREATE TABLE IF NOT EXISTS `ReachLandsatLandTemp` (\n",
    "  `ID` int NOT NULL AUTO_INCREMENT,\n",
    "  `Date` date NOT NULL,\n",
    "  `ReachID` int DEFAULT NULL,\n",
    "  `Value` float DEFAULT NULL COMMENT 'Landsat-based land temperature on the reach corridor',\n",
    "  PRIMARY KEY (`ID`),\n",
    "  UNIQUE KEY `ReachLandsatLandTempID_UNIQUE` (`ID`),\n",
    "  KEY `Fk_land_temp_reach` (`ReachID`),\n",
    "  CONSTRAINT `Fk_land_temp_reach` FOREIGN KEY (`ReachID`) REFERENCES `Reaches` (`ReachID`) ON DELETE CASCADE ON UPDATE CASCADE\n",
    ") ENGINE=InnoDB\n",
    "\"\"\"\n",
    "\n",
    "# Create the table\n",
    "cursor.execute(query)\n",
    "\n",
    "\n",
    "# Create a table for the Reach Landsat NDVI data\n",
    "query = \"\"\"\n",
    "CREATE TABLE IF NOT EXISTS `ReachNDVI` (\n",
    "  `ID` int NOT NULL AUTO_INCREMENT,\n",
    "  `Date` date NOT NULL,\n",
    "  `ReachID` int DEFAULT NULL,\n",
    "  `Value` float DEFAULT NULL COMMENT 'NDVI on the reach buffer or corridor',\n",
    "  PRIMARY KEY (`ID`),\n",
    "  UNIQUE KEY `ReachNDVIID_UNIQUE` (`ID`),\n",
    "  KEY `Fk_NDVI_reach` (`ReachID`),\n",
    "  CONSTRAINT `Fk_NDVI_reach` FOREIGN KEY (`ReachID`) REFERENCES `Reaches` (`ReachID`) ON DELETE CASCADE ON UPDATE CASCADE\n",
    ") ENGINE=InnoDB\n",
    "\"\"\"\n",
    "\n",
    "# Create the table\n",
    "cursor.execute(query)\n",
    "\n",
    "# Create a table for the Estimated water temperauter data\n",
    "query = \"\"\"\n",
    "CREATE TABLE IF NOT EXISTS `ReachEstimatedWaterTemp` (\n",
    "  `ID` int NOT NULL AUTO_INCREMENT,\n",
    "  `Date` date NOT NULL,\n",
    "  `ReachID` int DEFAULT NULL,\n",
    "  `Value` float DEFAULT NULL COMMENT 'Estimated water temperature for reach',\n",
    "  `Tag` VARCHAR(45) NOT NULL COMMENT 'SM - Semi-monthly estimate\\nM - Monthly estimate',\n",
    "  PRIMARY KEY (`ID`),\n",
    "  UNIQUE KEY `ReachNDVIID_UNIQUE` (`ID`),\n",
    "  KEY `Fk_est_water_temp_reach` (`ReachID`),\n",
    "  CONSTRAINT `Fk_est_water_temp_reach` FOREIGN KEY (`ReachID`) REFERENCES `Reaches` (`ReachID`) ON DELETE CASCADE ON UPDATE CASCADE\n",
    ") ENGINE=InnoDB\n",
    "\"\"\"\n",
    "\n",
    "# Create the table\n",
    "cursor.execute(query)\n",
    "\n",
    "# # Create a table for the Reach Landsat Daily Climatology data\n",
    "# query = \"\"\"\n",
    "# CREATE TABLE `ReachLandsatLTMDaily` (\n",
    "#   `ID` int NOT NULL AUTO_INCREMENT,\n",
    "#   `DayOfYear` int NOT NULL,\n",
    "#   `WaterTemperature` float DEFAULT NULL COMMENT 'Mean water temperature',\n",
    "#   `WaterTemperature5` float DEFAULT NULL COMMENT '5th percentile',\n",
    "#   `WaterTemperature95` float DEFAULT NULL COMMENT '95th percentile',\n",
    "#   `LandTemperature` float DEFAULT NULL COMMENT 'Mean',\n",
    "#   `LandTemperature5` float DEFAULT NULL COMMENT '5th percentile',\n",
    "#   `LandTemperature95` float DEFAULT NULL COMMENT '95th percentile land temp',\n",
    "#   `ReachID` int NOT NULL,\n",
    "#   PRIMARY KEY (`ID`),\n",
    "#   UNIQUE KEY `ID_UNIQUE` (`ID`),\n",
    "#   KEY `Fk_reachdlandsatltmdaily` (`ReachID`),\n",
    "#   CONSTRAINT `Fk_reachdlandsatltmdaily` FOREIGN KEY (`ReachID`) REFERENCES `Reaches` (`ReachID`) ON DELETE CASCADE ON UPDATE CASCADE\n",
    "# ) ENGINE=InnoDB\n",
    "# \"\"\"\n",
    "\n",
    "# # Create the table\n",
    "# cursor.execute(query)\n",
    "\n",
    "# # Create a table for the Reach Landsat Semi-monthly Climatology data\n",
    "# query = \"\"\"\n",
    "# CREATE TABLE IF NOT EXISTS `ReachLandsatLTMSemiMonthly` (\n",
    "#   `ID` int NOT NULL AUTO_INCREMENT,\n",
    "#   `Month` int NOT NULL,\n",
    "#   `DayOfMonth` int NOT NULL,\n",
    "#   `WaterTemperature` float DEFAULT NULL COMMENT 'Mean water temperature',\n",
    "#   `WaterTemperature5` float DEFAULT NULL COMMENT '5th percentile',\n",
    "#   `WaterTemperature95` float DEFAULT NULL COMMENT '95th percentile',\n",
    "#   `LandTemperature` float DEFAULT NULL COMMENT 'Mean',\n",
    "#   `LandTemperature5` float DEFAULT NULL COMMENT '5th percentile',\n",
    "#   `LandTemperature95` float DEFAULT NULL COMMENT '95th percentile land temp',\n",
    "#   `ReachID` int NOT NULL,\n",
    "#   PRIMARY KEY (`ID`),\n",
    "#   UNIQUE KEY `ID_UNIQUE` (`ID`),\n",
    "#   KEY `Fk_reachdlandsatltmsemimonthly` (`ReachID`),\n",
    "#   CONSTRAINT `Fk_reachdlandsatltmsemimonthly` FOREIGN KEY (`ReachID`) REFERENCES `Reaches` (`ReachID`) ON DELETE CASCADE ON UPDATE CASCADE\n",
    "# ) ENGINE=InnoDB\n",
    "# \"\"\"\n",
    "\n",
    "# # Create the table\n",
    "# cursor.execute(query)\n",
    "\n",
    "# # Create a table for the Reach Landsat Monthly Climatology data\n",
    "# query = \"\"\"\n",
    "# CREATE TABLE `ReachLandsatLTMMonthly` (\n",
    "#   `ID` int NOT NULL AUTO_INCREMENT,\n",
    "#   `Month` int NOT NULL,\n",
    "#   `WaterTemperature` float DEFAULT NULL COMMENT 'Mean water temperature',\n",
    "#   `WaterTemperature5` float DEFAULT NULL COMMENT '5th percentile',\n",
    "#   `WaterTemperature95` float DEFAULT NULL COMMENT '95th percentile',\n",
    "#   `LandTemperature` float DEFAULT NULL COMMENT 'Mean',\n",
    "#   `LandTemperature5` float DEFAULT NULL COMMENT '5th percentile',\n",
    "#   `LandTemperature95` float DEFAULT NULL COMMENT '95th percentile land temp',\n",
    "#   `ReachID` int NOT NULL,\n",
    "#   PRIMARY KEY (`ID`),\n",
    "#   UNIQUE KEY `ID_UNIQUE` (`ID`),\n",
    "#   KEY `Fk_reachdlandsatltmmonthly` (`ReachID`),\n",
    "#   CONSTRAINT `Fk_reachdlandsatltmmonthly` FOREIGN KEY (`ReachID`) REFERENCES `Reaches` (`ReachID`) ON DELETE CASCADE ON UPDATE CASCADE\n",
    "# ) ENGINE=InnoDB\n",
    "# \"\"\"\n",
    "\n",
    "# # Create the table\n",
    "# cursor.execute(query)\n",
    "\n",
    "# Create a table for Reach Insitu Daily Temperature data\n",
    "query = \"\"\"\n",
    "CREATE TABLE IF NOT EXISTS `ReachInsituWaterTemp` (\n",
    "  `ID` int NOT NULL AUTO_INCREMENT,\n",
    "  `Date` date NOT NULL,\n",
    "  `ReachID` int DEFAULT NULL,\n",
    "  `Value` float DEFAULT NULL COMMENT 'Insitu water temperature for reach',\n",
    "  PRIMARY KEY (`ID`),\n",
    "  UNIQUE KEY `ReachInsituWaterTempID_UNIQUE` (`ID`),\n",
    "  KEY `Fk_insitu_water_temp_reach` (`ReachID`),\n",
    "  CONSTRAINT `Fk_insitu_water_temp_reach` FOREIGN KEY (`ReachID`) REFERENCES `Reaches` (`ReachID`) ON DELETE CASCADE ON UPDATE CASCADE\n",
    ") ENGINE=InnoDB\n",
    "\"\"\""
   ]
  },
  {
   "cell_type": "markdown",
   "metadata": {},
   "source": [
    "### Dam Landsat Water Temperature Entries"
   ]
  },
  {
   "cell_type": "code",
   "execution_count": 24,
   "metadata": {},
   "outputs": [],
   "source": [
    "# data_dir = Path(\"/Users/gdarkwah/Library/CloudStorage/OneDrive-UW/01-Research/01-Hydrothermal History/Data/temp_timeseries/Landsat8/reservoirs\")\n",
    "# files = [f for f in data_dir.iterdir() if f.is_file()] # get the files in the directory\n",
    "# filenames = [f.stem for f in files] # get the filenames without the extensions"
   ]
  },
  {
   "cell_type": "code",
   "execution_count": 25,
   "metadata": {},
   "outputs": [],
   "source": [
    "# for file, filename in zip(files, filenames):\n",
    "#     dam_name = ' '.join(filename.split('_')[1:])\n",
    "#     data = pd.read_csv(file)\n",
    "#     data.dropna(inplace=True)\n",
    "#     # convert the date column to datetime YYYY-MM-DD\n",
    "#     data['date'] = pd.to_datetime(data['date'])\n",
    "#     data['date'] = data['date'].dt.date\n",
    "\n",
    "#     for i, row in data.iterrows():\n",
    "#         query = f\"\"\"\n",
    "#         INSERT INTO DamLandsatWaterTemp (Date, DamID, Value)\n",
    "#         SELECT '{row['date']}', (SELECT DamID FROM Dams WHERE Name = \"{dam_name}\"), {row['temp(C)']}\n",
    "#         WHERE NOT EXISTS (SELECT * FROM DamLandsatWaterTemp WHERE Date = '{row['date']}' AND DamID = (SELECT DamID FROM Dams WHERE Name = \"{dam_name}\"))\n",
    "#         \"\"\"\n",
    "\n",
    "#         cursor.execute(query)\n",
    "#         conn.conn.commit()\n"
   ]
  },
  {
   "cell_type": "markdown",
   "metadata": {},
   "source": [
    "### Reach Landsat Water Temperature Entries"
   ]
  },
  {
   "cell_type": "code",
   "execution_count": 26,
   "metadata": {},
   "outputs": [],
   "source": [
    "# data_dir = Path(\"/Users/gdarkwah/Library/CloudStorage/OneDrive-UW/01-Research/01-Hydrothermal History/Data/temp_timeseries/Landsat8/reaches\")\n",
    "# # get only files with the .csv extension\n",
    "# files = [f for f in data_dir.iterdir() if f.is_file() and f.suffix == '.csv'] # get the files in the directory\n",
    "# filenames = [f.stem for f in files] # get the filenames without the extensions"
   ]
  },
  {
   "cell_type": "code",
   "execution_count": 27,
   "metadata": {},
   "outputs": [],
   "source": [
    "# for file, filename in zip(files, filenames):\n",
    "#     reach_name = filename\n",
    "#     data = pd.read_csv(file)[['date', 'watertemp(C)']]\n",
    "#     data.dropna(inplace=True)\n",
    "#     # convert the date column to datetime YYYY-MM-DD\n",
    "#     data['date'] = pd.to_datetime(data['date'])\n",
    "#     data['date'] = data['date'].dt.date\n",
    "\n",
    "#     for i, row in data.iterrows():\n",
    "#         query = f\"\"\"\n",
    "#         INSERT INTO ReachLandsatWaterTemp (Date, ReachID, Value)\n",
    "#         SELECT '{row['date']}', (SELECT ReachID FROM Reaches WHERE Name = \"{reach_name}\"), {row['watertemp(C)']}\n",
    "#         WHERE NOT EXISTS (SELECT * FROM ReachLandsatWaterTemp WHERE Date = '{row['date']}' AND ReachID = (SELECT ReachID FROM Reaches WHERE Name = \"{reach_name}\"))\n",
    "#         \"\"\"\n",
    "\n",
    "#         cursor.execute(query)\n",
    "#         conn.conn.commit()"
   ]
  },
  {
   "cell_type": "markdown",
   "metadata": {},
   "source": [
    "### Reach Landsat Land Temperature Entries  "
   ]
  },
  {
   "cell_type": "code",
   "execution_count": 54,
   "metadata": {},
   "outputs": [],
   "source": [
    "# data_dir = Path(\"/Users/gdarkwah/Library/CloudStorage/OneDrive-UW/01-Research/01-Hydrothermal History/Data/temp_timeseries/Landsat8/reaches\")\n",
    "# # get only files with the .csv extension\n",
    "# files = [f for f in data_dir.iterdir() if f.is_file() and f.suffix == '.csv'] # get the files in the directory\n",
    "# filenames = [f.stem for f in files] # get the filenames without the extensions"
   ]
  },
  {
   "cell_type": "code",
   "execution_count": 55,
   "metadata": {},
   "outputs": [],
   "source": [
    "# for file, filename in zip(files, filenames):\n",
    "#     reach_name = filename\n",
    "#     data = pd.read_csv(file)[['date', 'landtemp(C)']]\n",
    "#     data.dropna(inplace=True)\n",
    "#     # convert the date column to datetime YYYY-MM-DD\n",
    "#     data['date'] = pd.to_datetime(data['date'])\n",
    "#     data['date'] = data['date'].dt.date\n",
    "\n",
    "#     for i, row in data.iterrows():\n",
    "#         query = f\"\"\"\n",
    "#         INSERT INTO ReachLandsatLandTemp (Date, ReachID, Value)\n",
    "#         SELECT '{row['date']}', (SELECT ReachID FROM Reaches WHERE Name = \"{reach_name}\"), {row['landtemp(C)']}\n",
    "#         WHERE NOT EXISTS (SELECT * FROM ReachLandsatLandTemp WHERE Date = '{row['date']}' AND ReachID = (SELECT ReachID FROM Reaches WHERE Name = \"{reach_name}\"))\n",
    "#         \"\"\"\n",
    "\n",
    "#         cursor.execute(query)\n",
    "#         conn.conn.commit()"
   ]
  },
  {
   "cell_type": "markdown",
   "metadata": {},
   "source": [
    "### Reach NDVI Entries"
   ]
  },
  {
   "cell_type": "code",
   "execution_count": 56,
   "metadata": {},
   "outputs": [],
   "source": [
    "# data_dir = Path(\"/Users/gdarkwah/Library/CloudStorage/OneDrive-UW/01-Research/01-Hydrothermal History/Data/temp_timeseries/Landsat8/reaches\")\n",
    "# # get only files with the .csv extension\n",
    "# files = [f for f in data_dir.iterdir() if f.is_file() and f.suffix == '.csv'] # get the files in the directory\n",
    "# filenames = [f.stem for f in files] # get the filenames without the extensions"
   ]
  },
  {
   "cell_type": "code",
   "execution_count": 57,
   "metadata": {},
   "outputs": [],
   "source": [
    "# for file, filename in zip(files, filenames):\n",
    "#     reach_name = filename\n",
    "#     data = pd.read_csv(file)[['date', 'NDVI']]\n",
    "#     data.dropna(inplace=True)\n",
    "#     # convert the date column to datetime YYYY-MM-DD\n",
    "#     data['date'] = pd.to_datetime(data['date'])\n",
    "#     data['date'] = data['date'].dt.date\n",
    "\n",
    "#     for i, row in data.iterrows():\n",
    "#         query = f\"\"\"\n",
    "#         INSERT INTO ReachNDVI (Date, ReachID, Value)\n",
    "#         SELECT '{row['date']}', (SELECT ReachID FROM Reaches WHERE Name = \"{reach_name}\"), {row['NDVI']}\n",
    "#         WHERE NOT EXISTS (SELECT * FROM ReachNDVI WHERE Date = '{row['date']}' AND ReachID = (SELECT ReachID FROM Reaches WHERE Name = \"{reach_name}\"))\n",
    "#         \"\"\"\n",
    "\n",
    "#         cursor.execute(query)\n",
    "#         conn.conn.commit()"
   ]
  },
  {
   "cell_type": "code",
   "execution_count": 58,
   "metadata": {},
   "outputs": [
    {
     "name": "stdout",
     "output_type": "stream",
     "text": [
      "Connection closed.\n"
     ]
    }
   ],
   "source": [
    "# close the connection\n",
    "conn.close()"
   ]
  }
 ],
 "metadata": {
  "kernelspec": {
   "display_name": "hydrothermal-history",
   "language": "python",
   "name": "python3"
  },
  "language_info": {
   "codemirror_mode": {
    "name": "ipython",
    "version": 3
   },
   "file_extension": ".py",
   "mimetype": "text/x-python",
   "name": "python",
   "nbconvert_exporter": "python",
   "pygments_lexer": "ipython3",
   "version": "3.11.4"
  },
  "orig_nbformat": 4
 },
 "nbformat": 4,
 "nbformat_minor": 2
}
