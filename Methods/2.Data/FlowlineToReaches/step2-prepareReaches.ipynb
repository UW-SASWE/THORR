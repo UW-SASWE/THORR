{
 "cells": [
  {
   "attachments": {},
   "cell_type": "markdown",
   "metadata": {},
   "source": [
    "# Prepare buffered reaches for landsat temperature extraction"
   ]
  },
  {
   "cell_type": "code",
   "execution_count": 1,
   "metadata": {},
   "outputs": [],
   "source": [
    "import geopandas as gpd\n",
    "import pandas as pd\n",
    "import numpy as np\n",
    "from pathlib import Path\n",
    "import rasterio as rio"
   ]
  },
  {
   "cell_type": "code",
   "execution_count": 2,
   "metadata": {},
   "outputs": [],
   "source": [
    "shapefile_io_dir = Path('/Users/gdarkwah/Library/CloudStorage/OneDrive-UW/01-Research/01-Hydrothermal History/Data/GIS/shapefiles/flowlines_to_reaches')\n",
    "# shapefile_io_dir = Path('/Users/gdarkwah/Library/CloudStorage/OneDrive-UW/01-Research/01-Hydrothermal History/Data/GIS/shapefiles/flowlines_to_reaches')\n",
    "\n",
    "koppen = Path(\n",
    "    \"/Users/gdarkwah/Library/CloudStorage/OneDrive-UW/01-Research/01-Hydrothermal History/Data/GIS/raw/Beck_KG_V1/Beck_KG_V1_present_0p083.tif\"\n",
    ")"
   ]
  },
  {
   "cell_type": "code",
   "execution_count": 3,
   "metadata": {},
   "outputs": [],
   "source": [
    "filteredReachLines = gpd.read_file(shapefile_io_dir / 'filteredReachLines.shp')\n",
    "\n",
    "# replace all null values in the Width* with 30\n",
    "filteredReachLines_ = filteredReachLines.copy()\n",
    "filteredReachLines_.fillna({'WidthMax': 30, 'WidthMean': 30}, inplace=True)"
   ]
  },
  {
   "cell_type": "code",
   "execution_count": 4,
   "metadata": {},
   "outputs": [],
   "source": [
    "# add unique reach_id to bufferedReaches\n",
    "countList = []\n",
    "unique_ids = []\n",
    "for row, value in filteredReachLines.iterrows():\n",
    "    countList.append(value[\"GNIS_Name\"])\n",
    "    unique_ids.append('_'.join(value[\"GNIS_Name\"].split()+[str(countList.count(value[\"GNIS_Name\"]))]))\n",
    "\n",
    "# bufferedReaches[\"reach_id\"] = unique_ids\n",
    "\n",
    "# add reach_id to filteredReachLines\n",
    "filteredReachLines[\"reach_id\"] = unique_ids"
   ]
  },
  {
   "cell_type": "code",
   "execution_count": 5,
   "metadata": {},
   "outputs": [],
   "source": [
    "bufferedReaches = filteredReachLines.copy()\n",
    "# bufferedReaches['geometry'] = bufferedReaches.geometry.buffer(filteredReachLines['WIDTH95']/2 + 120, resolution=5)\n",
    "bufferedReaches[\"geometry\"] = bufferedReaches.geometry.buffer(\n",
    "    filteredReachLines_[\"WidthMean\"] / 2 + 120,\n",
    "    # filteredReachLines_[\"WidthMax\"] / 2 + 120,\n",
    "    resolution=5,\n",
    "    # cap_style=3\n",
    ")"
   ]
  },
  {
   "cell_type": "code",
   "execution_count": 6,
   "metadata": {},
   "outputs": [],
   "source": [
    "koppen_raster = rio.open(koppen)\n",
    "reprojected_reaches = bufferedReaches.to_crs(koppen_raster.crs)"
   ]
  },
  {
   "cell_type": "code",
   "execution_count": 7,
   "metadata": {},
   "outputs": [
    {
     "data": {
      "text/html": [
       "<div>\n",
       "<style scoped>\n",
       "    .dataframe tbody tr th:only-of-type {\n",
       "        vertical-align: middle;\n",
       "    }\n",
       "\n",
       "    .dataframe tbody tr th {\n",
       "        vertical-align: top;\n",
       "    }\n",
       "\n",
       "    .dataframe thead th {\n",
       "        text-align: right;\n",
       "    }\n",
       "</style>\n",
       "<table border=\"1\" class=\"dataframe\">\n",
       "  <thead>\n",
       "    <tr style=\"text-align: right;\">\n",
       "      <th></th>\n",
       "      <th>GNIS_ID</th>\n",
       "      <th>GNIS_Name</th>\n",
       "      <th>Basin</th>\n",
       "      <th>uniqueID</th>\n",
       "      <th>WidthMin</th>\n",
       "      <th>WidthMean</th>\n",
       "      <th>WidthMax</th>\n",
       "      <th>geometry</th>\n",
       "      <th>reach_id</th>\n",
       "    </tr>\n",
       "  </thead>\n",
       "  <tbody>\n",
       "    <tr>\n",
       "      <th>0</th>\n",
       "      <td>01527909</td>\n",
       "      <td>Wenatchee River</td>\n",
       "      <td>Columbia River Basin</td>\n",
       "      <td>0</td>\n",
       "      <td>NaN</td>\n",
       "      <td>NaN</td>\n",
       "      <td>NaN</td>\n",
       "      <td>POLYGON ((-120.72772 47.80910, -120.72771 47.8...</td>\n",
       "      <td>Wenatchee_River_1</td>\n",
       "    </tr>\n",
       "    <tr>\n",
       "      <th>1</th>\n",
       "      <td>01527909</td>\n",
       "      <td>Wenatchee River</td>\n",
       "      <td>Columbia River Basin</td>\n",
       "      <td>1</td>\n",
       "      <td>NaN</td>\n",
       "      <td>NaN</td>\n",
       "      <td>NaN</td>\n",
       "      <td>POLYGON ((-120.66311 47.78491, -120.66323 47.7...</td>\n",
       "      <td>Wenatchee_River_2</td>\n",
       "    </tr>\n",
       "    <tr>\n",
       "      <th>2</th>\n",
       "      <td>01527909</td>\n",
       "      <td>Wenatchee River</td>\n",
       "      <td>Columbia River Basin</td>\n",
       "      <td>2</td>\n",
       "      <td>NaN</td>\n",
       "      <td>NaN</td>\n",
       "      <td>NaN</td>\n",
       "      <td>POLYGON ((-120.66674 47.75771, -120.66709 47.7...</td>\n",
       "      <td>Wenatchee_River_3</td>\n",
       "    </tr>\n",
       "    <tr>\n",
       "      <th>3</th>\n",
       "      <td>01527909</td>\n",
       "      <td>Wenatchee River</td>\n",
       "      <td>Columbia River Basin</td>\n",
       "      <td>3</td>\n",
       "      <td>NaN</td>\n",
       "      <td>NaN</td>\n",
       "      <td>NaN</td>\n",
       "      <td>POLYGON ((-120.71482 47.70213, -120.71495 47.7...</td>\n",
       "      <td>Wenatchee_River_4</td>\n",
       "    </tr>\n",
       "    <tr>\n",
       "      <th>4</th>\n",
       "      <td>01527909</td>\n",
       "      <td>Wenatchee River</td>\n",
       "      <td>Columbia River Basin</td>\n",
       "      <td>4</td>\n",
       "      <td>NaN</td>\n",
       "      <td>NaN</td>\n",
       "      <td>NaN</td>\n",
       "      <td>POLYGON ((-120.73500 47.67660, -120.73494 47.6...</td>\n",
       "      <td>Wenatchee_River_5</td>\n",
       "    </tr>\n",
       "  </tbody>\n",
       "</table>\n",
       "</div>"
      ],
      "text/plain": [
       "    GNIS_ID        GNIS_Name                 Basin  uniqueID  WidthMin  \\\n",
       "0  01527909  Wenatchee River  Columbia River Basin         0       NaN   \n",
       "1  01527909  Wenatchee River  Columbia River Basin         1       NaN   \n",
       "2  01527909  Wenatchee River  Columbia River Basin         2       NaN   \n",
       "3  01527909  Wenatchee River  Columbia River Basin         3       NaN   \n",
       "4  01527909  Wenatchee River  Columbia River Basin         4       NaN   \n",
       "\n",
       "   WidthMean  WidthMax                                           geometry  \\\n",
       "0        NaN       NaN  POLYGON ((-120.72772 47.80910, -120.72771 47.8...   \n",
       "1        NaN       NaN  POLYGON ((-120.66311 47.78491, -120.66323 47.7...   \n",
       "2        NaN       NaN  POLYGON ((-120.66674 47.75771, -120.66709 47.7...   \n",
       "3        NaN       NaN  POLYGON ((-120.71482 47.70213, -120.71495 47.7...   \n",
       "4        NaN       NaN  POLYGON ((-120.73500 47.67660, -120.73494 47.6...   \n",
       "\n",
       "            reach_id  \n",
       "0  Wenatchee_River_1  \n",
       "1  Wenatchee_River_2  \n",
       "2  Wenatchee_River_3  \n",
       "3  Wenatchee_River_4  \n",
       "4  Wenatchee_River_5  "
      ]
     },
     "execution_count": 7,
     "metadata": {},
     "output_type": "execute_result"
    }
   ],
   "source": [
    "reprojected_reaches.head()"
   ]
  },
  {
   "cell_type": "code",
   "execution_count": 8,
   "metadata": {},
   "outputs": [],
   "source": [
    "# Extract Köppen class for each reach based on centroid and add to reaches_gdf\n",
    "koppen_class = []\n",
    "for i in range(len(reprojected_reaches)):\n",
    "    row = reprojected_reaches.iloc[i]\n",
    "    x = row.geometry.centroid.x\n",
    "    y = row.geometry.centroid.y\n",
    "    row, col = koppen_raster.index(x, y)\n",
    "    koppen_class.append(koppen_raster\n",
    "                        .read(1)[row, col])\n",
    "    \n",
    "bufferedReaches['koppen'] = koppen_class\n",
    "filteredReachLines['koppen'] = koppen_class"
   ]
  },
  {
   "cell_type": "code",
   "execution_count": 9,
   "metadata": {},
   "outputs": [],
   "source": [
    "bufferedReaches.to_file(shapefile_io_dir / 'bufferedReaches.shp')\n",
    "filteredReachLines.to_file(shapefile_io_dir / 'filteredReachLines.shp')"
   ]
  }
 ],
 "metadata": {
  "kernelspec": {
   "display_name": "hydrothermal-hist",
   "language": "python",
   "name": "python3"
  },
  "language_info": {
   "codemirror_mode": {
    "name": "ipython",
    "version": 3
   },
   "file_extension": ".py",
   "mimetype": "text/x-python",
   "name": "python",
   "nbconvert_exporter": "python",
   "pygments_lexer": "ipython3",
   "version": "3.11.5"
  },
  "orig_nbformat": 4
 },
 "nbformat": 4,
 "nbformat_minor": 2
}
