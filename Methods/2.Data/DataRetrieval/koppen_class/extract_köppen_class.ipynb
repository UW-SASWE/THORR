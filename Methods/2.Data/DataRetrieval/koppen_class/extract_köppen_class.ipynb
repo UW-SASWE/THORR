{
 "cells": [
  {
   "cell_type": "code",
   "execution_count": 1,
   "metadata": {},
   "outputs": [],
   "source": [
    "from pathlib import Path\n",
    "import rasterio as rio\n",
    "import matplotlib.pyplot as plt\n",
    "import geopandas as gpd"
   ]
  },
  {
   "cell_type": "code",
   "execution_count": 2,
   "metadata": {},
   "outputs": [],
   "source": [
    "koppen = Path(\n",
    "    \"/Users/gdarkwah/Library/CloudStorage/OneDrive-UW/01-Research/01-Hydrothermal History/Data/GIS/raw/Beck_KG_V1/Beck_KG_V1_present_0p083.tif\"\n",
    ")\n",
    "reaches = Path(\n",
    "    \"/Users/gdarkwah/Library/CloudStorage/OneDrive-UW/01-Research/01-Hydrothermal History/Data/GIS/shapefiles/MySQL_reaches/bufferedReaches.shp\"\n",
    ")"
   ]
  },
  {
   "cell_type": "code",
   "execution_count": 3,
   "metadata": {},
   "outputs": [],
   "source": [
    "koppen_raster = rio.open(koppen)\n",
    "reaches_gdf = gpd.read_file(reaches)\n",
    "\n",
    "reaches_gdf.to_crs(koppen_raster.crs, inplace=True)"
   ]
  },
  {
   "cell_type": "code",
   "execution_count": 4,
   "metadata": {},
   "outputs": [
    {
     "name": "stderr",
     "output_type": "stream",
     "text": [
      "/var/folders/0q/tm370x9d1qdg6nt3w7pcqh_w0000gq/T/ipykernel_32034/3523924687.py:14: UserWarning: Column names longer than 10 characters will be truncated when saved to ESRI Shapefile.\n",
      "  reaches_gdf.to_file(\n"
     ]
    }
   ],
   "source": [
    "# Extract Köppen class for each reach based on centroid and add to reaches_gdf\n",
    "koppen_class = []\n",
    "for i in range(len(reaches_gdf)):\n",
    "    row = reaches_gdf.iloc[i]\n",
    "    x = row.geometry.centroid.x\n",
    "    y = row.geometry.centroid.y\n",
    "    row, col = koppen_raster.index(x, y)\n",
    "    koppen_class.append(koppen_raster\n",
    "                        .read(1)[row, col])\n",
    "    \n",
    "reaches_gdf['koppen'] = koppen_class\n",
    "\n",
    "# Save to file\n",
    "reaches_gdf.to_file(\n",
    "    \"/Users/gdarkwah/Library/CloudStorage/OneDrive-UW/01-Research/01-Hydrothermal History/Data/GIS/shapefiles/MySQL_reaches/bufferedReaches_koppen.shp\"\n",
    ")"
   ]
  },
  {
   "cell_type": "code",
   "execution_count": 14,
   "metadata": {},
   "outputs": [],
   "source": [
    "reachelines_gdf = gpd.read_file(\n",
    "    \"/Users/gdarkwah/Library/CloudStorage/OneDrive-UW/01-Research/01-Hydrothermal History/Data/GIS/shapefiles/MySQL_reaches/filteredReachLines.shp\")\n",
    "\n",
    "reachelines_gdf['koppen'] = reaches_gdf['koppen']\n",
    "reachelines_gdf.to_file(\n",
    "    \"/Users/gdarkwah/Library/CloudStorage/OneDrive-UW/01-Research/01-Hydrothermal History/Data/GIS/shapefiles/MySQL_reaches/filteredReachLines_koppen.shp\")"
   ]
  },
  {
   "cell_type": "code",
   "execution_count": null,
   "metadata": {},
   "outputs": [],
   "source": []
  }
 ],
 "metadata": {
  "kernelspec": {
   "display_name": "hydrothermal-history",
   "language": "python",
   "name": "python3"
  },
  "language_info": {
   "codemirror_mode": {
    "name": "ipython",
    "version": 3
   },
   "file_extension": ".py",
   "mimetype": "text/x-python",
   "name": "python",
   "nbconvert_exporter": "python",
   "pygments_lexer": "ipython3",
   "version": "3.11.4"
  },
  "orig_nbformat": 4
 },
 "nbformat": 4,
 "nbformat_minor": 2
}
