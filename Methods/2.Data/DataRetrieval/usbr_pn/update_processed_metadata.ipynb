{
 "cells": [
  {
   "cell_type": "code",
   "execution_count": 1,
   "metadata": {},
   "outputs": [
    {
     "name": "stdout",
     "output_type": "stream",
     "text": [
      "Intel MKL WARNING: Support of Intel(R) Streaming SIMD Extensions 4.2 (Intel(R) SSE4.2) enabled only processors has been deprecated. Intel oneAPI Math Kernel Library 2025.0 will require Intel(R) Advanced Vector Extensions (Intel(R) AVX) instructions.\n",
      "Intel MKL WARNING: Support of Intel(R) Streaming SIMD Extensions 4.2 (Intel(R) SSE4.2) enabled only processors has been deprecated. Intel oneAPI Math Kernel Library 2025.0 will require Intel(R) Advanced Vector Extensions (Intel(R) AVX) instructions.\n"
     ]
    }
   ],
   "source": [
    "import json\n",
    "from pathlib import Path\n",
    "import numpy as np\n",
    "import pandas as pd\n",
    "import json"
   ]
  },
  {
   "cell_type": "code",
   "execution_count": 2,
   "metadata": {},
   "outputs": [],
   "source": [
    "proj_dir = Path(\"../../../..\")\n",
    "\n",
    "data_dir = proj_dir / \"Data/InSituTemperature\"\n",
    "data_dir.mkdir(exist_ok=True)\n",
    "\n",
    "# load metadata\n",
    "metadata = json.load(Path(data_dir, \"processed\", \"metadata.json\").open(\"r\"))\n",
    "usbr_stations_metadata = json.load(Path('stations.json').open(\"r\"))\n",
    "\n",
    "pcode_keys = usbr_stations_metadata[\"pcode_keys\"]"
   ]
  },
  {
   "cell_type": "code",
   "execution_count": 3,
   "metadata": {},
   "outputs": [],
   "source": [
    "# convert from deg min sec to decimal degrees\n",
    "def dms2dd(degrees, minutes=0, seconds=0, direction=None):\n",
    "    dd = float(degrees) + float(minutes) / 60 + float(seconds) / (60 * 60)\n",
    "    if direction == \"S\" or direction == \"W\":\n",
    "        dd *= -1\n",
    "    return dd"
   ]
  },
  {
   "cell_type": "code",
   "execution_count": 4,
   "metadata": {},
   "outputs": [
    {
     "data": {
      "text/plain": [
       "'2-4-3'"
      ]
     },
     "execution_count": 4,
     "metadata": {},
     "output_type": "execute_result"
    }
   ],
   "source": [
    "\"-2-4-3\".strip(\"-\")"
   ]
  },
  {
   "cell_type": "code",
   "execution_count": 5,
   "metadata": {},
   "outputs": [],
   "source": [
    "# load the list of file in the processed directory\n",
    "files = [f for f in Path(data_dir, \"processed\").glob(\"*.csv\")]\n",
    "\n",
    "# loop through the files and update the metadata\n",
    "for f in files:\n",
    "    station = f.stem\n",
    "    station_id = station.split(\"_\")[1]\n",
    "\n",
    "    if station_id in usbr_stations_metadata.keys():\n",
    "        if station not in metadata[\"stations\"].keys():\n",
    "            metadata[\"stations\"][station] = {}\n",
    "\n",
    "        metadata[\"stations\"][station][\"source\"] = \"USBR\"\n",
    "        metadata[\"stations\"][station][\"id\"] = station_id\n",
    "        metadata[\"stations\"][station][\"description\"] = usbr_stations_metadata[\n",
    "            station_id\n",
    "        ][\"description\"]\n",
    "        # print(usbr_stations_metadata[station_id][\"latitude\"].split(\"-\"))\n",
    "        metadata[\"stations\"][station][\"latitude\"] = dms2dd(\n",
    "            *usbr_stations_metadata[station_id][\"latitude\"].strip(\"-\").split(\"-\"), direction=\"N\"\n",
    "        )\n",
    "        metadata[\"stations\"][station][\"longitude\"] = dms2dd(\n",
    "            direction=\"W\",*usbr_stations_metadata[station_id][\"longitude\"].strip(\"-\").split(\"-\"), \n",
    "        )\n",
    "        metadata[\"stations\"][station][\"elevation\"] = usbr_stations_metadata[station_id][\n",
    "            \"elevation\"\n",
    "        ]\n",
    "        # update the parameters instead of overwriting\n",
    "        if \"parameters\" not in metadata[\"stations\"][station].keys():\n",
    "            metadata[\"stations\"][station][\"parameters\"] = {}\n",
    "        for p in usbr_stations_metadata[station_id][\"pcodes\"]:\n",
    "            if p in pcode_keys.keys():\n",
    "                metadata[\"stations\"][station][\"parameters\"][pcode_keys[p][\"column_name\"]] =pcode_keys[p][\"description\"]\n",
    "        \n",
    "        # TODO: update the parameters instead of overwriting them\n",
    "        if \"parameters\" not in metadata[\"stations\"][station].keys():\n",
    "            metadata[\"stations\"][station][\"parameters\"] = {}\n",
    "        for p in usbr_stations_metadata[station_id][\"pcodes\"]:\n",
    "            if p in pcode_keys.keys():\n",
    "                metadata[\"stations\"][station][\"parameters\"][pcode_keys[p][\"column_name\"]] =pcode_keys[p][\"description\"]\n",
    "\n",
    "        # metadata[\"stations\"][station][\"parameters\"] = {\n",
    "        #     pcode_keys[p][\"column_name\"]: pcode_keys[p][\"description\"]\n",
    "        #     for p in usbr_stations_metadata[station_id][\"pcodes\"]\n",
    "        #     if p in pcode_keys.keys()\n",
    "        # }\n",
    "        # add geometry\n",
    "        metadata[\"stations\"][station][\"geometry\"] = {\n",
    "            \"type\": \"Point\",\n",
    "            \"coordinates\": [\n",
    "                metadata[\"stations\"][station][\"longitude\"],\n",
    "                metadata[\"stations\"][station][\"latitude\"],\n",
    "            ],\n",
    "        }\n",
    "\n",
    "# add last updated date and last updated by\n",
    "metadata[\"last_updated\"] = pd.Timestamp.now().strftime(\"%Y-%m-%d %H:%M:%S\")\n",
    "metadata[\"last_updated_by\"] = \"George Darkwah\"\n",
    "metadata[\"last_updated_by_email\"] = \"gdarkwah@uw.edu\"\n",
    "\n",
    "# save the metadata\n",
    "json.dump(metadata, Path(data_dir, \"processed\", \"metadata.json\").open(\"w\"), indent=4)"
   ]
  },
  {
   "cell_type": "code",
   "execution_count": 6,
   "metadata": {},
   "outputs": [],
   "source": [
    "metadata[\"last_updated\"] = pd.Timestamp.now().strftime(\"%Y-%m-%d\")\n",
    "metadata[\"last_updated_by\"] = \"George Darkwah\""
   ]
  },
  {
   "cell_type": "code",
   "execution_count": null,
   "metadata": {},
   "outputs": [],
   "source": []
  }
 ],
 "metadata": {
  "kernelspec": {
   "display_name": "hydrothermal-history",
   "language": "python",
   "name": "python3"
  },
  "language_info": {
   "codemirror_mode": {
    "name": "ipython",
    "version": 3
   },
   "file_extension": ".py",
   "mimetype": "text/x-python",
   "name": "python",
   "nbconvert_exporter": "python",
   "pygments_lexer": "ipython3",
   "version": "3.11.4"
  },
  "orig_nbformat": 4
 },
 "nbformat": 4,
 "nbformat_minor": 2
}
