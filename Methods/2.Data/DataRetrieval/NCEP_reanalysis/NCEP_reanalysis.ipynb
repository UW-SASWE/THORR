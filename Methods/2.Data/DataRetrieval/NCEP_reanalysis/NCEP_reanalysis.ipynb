{
 "cells": [
  {
   "cell_type": "code",
   "execution_count": 1,
   "metadata": {},
   "outputs": [
    {
     "name": "stdout",
     "output_type": "stream",
     "text": [
      "Intel MKL WARNING: Support of Intel(R) Streaming SIMD Extensions 4.2 (Intel(R) SSE4.2) enabled only processors has been deprecated. Intel oneAPI Math Kernel Library 2025.0 will require Intel(R) Advanced Vector Extensions (Intel(R) AVX) instructions.\n",
      "Intel MKL WARNING: Support of Intel(R) Streaming SIMD Extensions 4.2 (Intel(R) SSE4.2) enabled only processors has been deprecated. Intel oneAPI Math Kernel Library 2025.0 will require Intel(R) Advanced Vector Extensions (Intel(R) AVX) instructions.\n"
     ]
    }
   ],
   "source": [
    "import xarray as xr\n",
    "import geopandas as gpd\n",
    "import rasterio as rio\n",
    "import rioxarray as rxr\n",
    "import pandas as pd\n",
    "from pathlib import Path\n",
    "import glob\n",
    "import json"
   ]
  },
  {
   "cell_type": "code",
   "execution_count": 2,
   "metadata": {},
   "outputs": [],
   "source": [
    "nc_fn = \"/Users/gdarkwah/Library/CloudStorage/OneDrive-UW/01-Research/01-Hydrothermal History/Data/NCEP_reanalysis/skt.sfc.gauss.2022.nc\"\n",
    "ncep_reanalysis_dir = Path(\"/Users/gdarkwah/Library/CloudStorage/OneDrive-UW/01-Research/01-Hydrothermal History/Data/NCEP_reanalysis\")\n",
    "data_dir = Path(\"/Users/gdarkwah/Library/CloudStorage/OneDrive-UW/01-Research/01-Hydrothermal History/Data/timeseries\")\n",
    "metadata = json.load(Path(data_dir, \"processed\", \"metadata.json\").open(\"r\"))\n",
    "\n",
    "target_param = \"avg water temperature (C)\""
   ]
  },
  {
   "cell_type": "code",
   "execution_count": 3,
   "metadata": {},
   "outputs": [],
   "source": [
    "def extract_skt(nc_filepath, lat, lon):\n",
    "    ds = xr.open_dataset(nc_filepath)\n",
    "    ds.coords['lon'] = (ds.coords['lon'] + 180) % 360 - 180\n",
    "    ds = ds.sortby(ds.lon) \n",
    "    skt = ds['skt'].sel(lat=lat, lon=lon, method=\"nearest\")\n",
    "    skt = skt.to_dataframe()\n",
    "\n",
    "    return skt"
   ]
  },
  {
   "cell_type": "code",
   "execution_count": 5,
   "metadata": {},
   "outputs": [],
   "source": [
    "# extract data from the metadata to get reanalysis data\n",
    "for station, value in metadata[\"stations\"].items():\n",
    "    if target_param in value[\"parameters\"]:\n",
    "        lat = value[\"latitude\"]\n",
    "        lon = value[\"longitude\"] # adjust for values in the reanalysis data\n",
    "        \n",
    "        temperature_dfs = []\n",
    "        for nc_filepath in glob.glob(str(ncep_reanalysis_dir / \"*.nc\")):\n",
    "            temperature_dfs.append(extract_skt(nc_filepath, lat, lon))\n",
    "        \n",
    "        temperature_df = pd.concat(temperature_dfs, axis=0)\n",
    "        # convert skt to celsius\n",
    "        temperature_df[\"skt\"] = temperature_df[\"skt\"] - 273.15\n",
    "        rename_dict = {\"skt\": \"avg water temperature (C)\"}\n",
    "        temperature_df = temperature_df.rename(rename_dict, axis=1)\n",
    "        \n",
    "        temperature_df = temperature_df.groupby(level=\"time\").mean().resample(\"D\").mean()\n",
    "\n",
    "        temperature_df.to_csv(data_dir / \"NCEP_reanalysis\" / f\"{station}.csv\")\n",
    "\n",
    "        "
   ]
  },
  {
   "cell_type": "code",
   "execution_count": 2,
   "metadata": {},
   "outputs": [],
   "source": [
    "# # download the data\n",
    "# import urllib.request\n",
    "\n",
    "# for year in range(1999, 2024):\n",
    "#     urllib.request.urlretrieve(\n",
    "#         f\"https://downloads.psl.noaa.gov/Datasets/ncep.reanalysis/Dailies/surface_gauss/skt.sfc.gauss.{year}.nc\",\n",
    "#         f\"/Users/gdarkwah/Library/CloudStorage/OneDrive-UW/01-Research/01-Hydrothermal History/Data/NCEP_reanalysis/skt.sfc.gauss.{year}.nc\",\n",
    "#     )"
   ]
  },
  {
   "cell_type": "code",
   "execution_count": null,
   "metadata": {},
   "outputs": [],
   "source": []
  }
 ],
 "metadata": {
  "kernelspec": {
   "display_name": "hydrothermal-history",
   "language": "python",
   "name": "python3"
  },
  "language_info": {
   "codemirror_mode": {
    "name": "ipython",
    "version": 3
   },
   "file_extension": ".py",
   "mimetype": "text/x-python",
   "name": "python",
   "nbconvert_exporter": "python",
   "pygments_lexer": "ipython3",
   "version": "3.9.16"
  },
  "orig_nbformat": 4
 },
 "nbformat": 4,
 "nbformat_minor": 2
}
